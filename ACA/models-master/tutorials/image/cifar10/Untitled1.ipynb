{
 "cells": [
  {
   "cell_type": "code",
   "execution_count": 1,
   "metadata": {
    "collapsed": true
   },
   "outputs": [],
   "source": [
    "import tensorflow as tf\n",
    "from PIL import Image\n",
    "import numpy as np\n",
    "import cifar10\n",
    "import cifar10_input"
   ]
  },
  {
   "cell_type": "code",
   "execution_count": 2,
   "metadata": {
    "collapsed": true
   },
   "outputs": [],
   "source": [
    "\n",
    "filename_queue = tf.train.string_input_producer(\n",
    "tf.train.match_filenames_once(\"./images/6.jpg\"))\n",
    "\n",
    "    # Read an entire image file which is required since they're JPEGs, if the images\n",
    "    # are too large they could be split in advance to smaller files or use the Fixed\n",
    "    # reader to split up the file.\n",
    "image_reader = tf.WholeFileReader()\n",
    "\n",
    "    # Read a whole file from the queue, the first returned value in the tuple is the\n",
    "    # filename which we are ignoring.\n",
    "_,image_file = image_reader.read(filename_queue)\n",
    "\n",
    "label = tf.Variable(6)\n",
    "    \n",
    "    # Decode the image as a JPEG file, this will turn it into a Tensor which we can\n",
    "    # then use in training.\n",
    "image = tf.image.decode_jpeg(image_file)\n",
    "\n",
    "    # Start a new session to show example output.\n"
   ]
  },
  {
   "cell_type": "code",
   "execution_count": 3,
   "metadata": {
    "collapsed": true
   },
   "outputs": [],
   "source": [
    "with tf.Session() as sess:\n",
    "        # Required to get the filename matching to run.\n",
    "    init = (tf.global_variables_initializer(), tf.local_variables_initializer())\n",
    "    sess.run([init])\n",
    "   \n",
    "\n",
    "        # Coordinate the loading of image files.\n",
    "    coord = tf.train.Coordinator()\n",
    "    threads = tf.train.start_queue_runners(coord=coord)\n",
    "    my_img = image.eval()\n",
    "        # Get an image tensor and print its value.\n",
    "    image_tensor = sess.run([image])\n",
    "    label_tensor = sess.run([label])\n",
    "        # Finish off the filename queue coordinator.\n",
    "    coord.request_stop()\n",
    "    coord.join(threads)\n",
    "        "
   ]
  },
  {
   "cell_type": "code",
   "execution_count": 4,
   "metadata": {
    "collapsed": true
   },
   "outputs": [],
   "source": [
    "Image.fromarray(np.asarray(my_img)).show()"
   ]
  },
  {
   "cell_type": "code",
   "execution_count": 5,
   "metadata": {
    "collapsed": true
   },
   "outputs": [],
   "source": [
    "reshaped_image = image\n",
    "\n",
    "height = 24\n",
    "width = 24\n",
    "\n",
    "  # Image processing for evaluation.\n",
    "  # Crop the central [height, width] of the image.\n"
   ]
  },
  {
   "cell_type": "code",
   "execution_count": 6,
   "metadata": {
    "collapsed": true
   },
   "outputs": [],
   "source": [
    "resized_image = tf.image.resize_image_with_crop_or_pad(reshaped_image,height, width)\n",
    "\n"
   ]
  },
  {
   "cell_type": "code",
   "execution_count": 7,
   "metadata": {
    "collapsed": true
   },
   "outputs": [],
   "source": [
    "  # Subtract off the mean and divide by the variance of the pixels.\n",
    "float_image = tf.image.per_image_standardization(resized_image)\n",
    "\n"
   ]
  },
  {
   "cell_type": "code",
   "execution_count": 8,
   "metadata": {
    "collapsed": true
   },
   "outputs": [],
   "source": [
    "  # Set the shapes of tensors.\n",
    "float_image.set_shape([height, width, 3])"
   ]
  },
  {
   "cell_type": "code",
   "execution_count": 9,
   "metadata": {},
   "outputs": [
    {
     "data": {
      "text/plain": [
       "<tf.Tensor 'image2:0' shape=() dtype=string>"
      ]
     },
     "execution_count": 9,
     "metadata": {},
     "output_type": "execute_result"
    }
   ],
   "source": [
    "tf.summary.image('image2', float_image)"
   ]
  },
  {
   "cell_type": "code",
   "execution_count": 10,
   "metadata": {
    "collapsed": true
   },
   "outputs": [],
   "source": [
    "min_fraction_of_examples_in_queue = 0.4\n",
    "num_examples_per_epoch = 10000\n",
    "batch_size = 128\n",
    "label2 = tf.convert_to_tensor(label_tensor)\n",
    "min_queue_examples = int(num_examples_per_epoch * min_fraction_of_examples_in_queue)\n",
    "  # Generate a batch of images and labels by building up a queue of examples.\n",
    "\n",
    "images, labels = cifar10_input._generate_image_and_label_batch(float_image, label2,\n",
    "                                         min_queue_examples, batch_size,\n",
    "                                         shuffle=False)"
   ]
  },
  {
   "cell_type": "code",
   "execution_count": 11,
   "metadata": {
    "collapsed": true
   },
   "outputs": [],
   "source": [
    "logits = cifar10.inference(images)"
   ]
  },
  {
   "cell_type": "code",
   "execution_count": 17,
   "metadata": {},
   "outputs": [
    {
     "data": {
      "text/plain": [
       "<tensorflow.python.framework.ops.Graph at 0x2e672f09f98>"
      ]
     },
     "execution_count": 17,
     "metadata": {},
     "output_type": "execute_result"
    }
   ],
   "source": []
  },
  {
   "cell_type": "code",
   "execution_count": null,
   "metadata": {
    "collapsed": true
   },
   "outputs": [],
   "source": []
  }
 ],
 "metadata": {
  "kernelspec": {
   "display_name": "Python 3",
   "language": "python",
   "name": "python3"
  },
  "language_info": {
   "codemirror_mode": {
    "name": "ipython",
    "version": 3
   },
   "file_extension": ".py",
   "mimetype": "text/x-python",
   "name": "python",
   "nbconvert_exporter": "python",
   "pygments_lexer": "ipython3",
   "version": "3.5.2"
  }
 },
 "nbformat": 4,
 "nbformat_minor": 2
}
