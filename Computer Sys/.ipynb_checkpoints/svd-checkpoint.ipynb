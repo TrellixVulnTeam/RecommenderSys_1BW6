{
 "cells": [
  {
   "cell_type": "code",
   "execution_count": 7,
   "metadata": {
    "collapsed": true
   },
   "outputs": [],
   "source": [
    "import numpy as np\n",
    "from pyspark import SparkContext\n",
    "from scipy.sparse import csc_matrix, csr_matrix\n",
    "from scipy.sparse.linalg import * #used for matrix multiplication\n",
    "import math as mt\n",
    "import csv\n",
    "from sparsesvd import sparsesvd"
   ]
  },
  {
   "cell_type": "code",
   "execution_count": 8,
   "metadata": {
    "collapsed": true
   },
   "outputs": [],
   "source": [
    "#constants defining the dimensions of our User Rating Matrix (URM)\n",
    "MAX_PID = 37143\n",
    "MAX_UID = 15375\n",
    "\n",
    "sc = SparkContext.getOrCreate()"
   ]
  },
  {
   "cell_type": "code",
   "execution_count": 9,
   "metadata": {
    "collapsed": true
   },
   "outputs": [],
   "source": [
    "\n",
    "def readUrm(train_clean_data):\n",
    "\turm = np.zeros(shape=(MAX_UID,MAX_PID), dtype=np.float32)\n",
    "\tfor row in train_clean_data:\n",
    "\t\turm[row[0], row[1]] = row[2]\n",
    "\n",
    "\treturn csc_matrix(urm, dtype=np.float32)\n",
    "\n",
    "def readUsersTest(test_clean_data):\n",
    "\tuTest = dict()\n",
    "\tfor row in test_clean_data:\n",
    "\t\tuTest[row] = list()\n",
    "\n",
    "\treturn uTest\n",
    "\n",
    "def getItemsSeen(train_clean_data):\n",
    "\titemsSeen = dict()\n",
    "\tfor row in train_clean_data:\n",
    "\t\ttry:\n",
    "\t\t\titemsSeen[row[0]].append(row[1])\n",
    "\t\texcept:\n",
    "\t\t\titemsSeen[row[0]] = list()\n",
    "\t\t\titemsSeen[row[0]].append(row[1])\n",
    "\n",
    "\treturn itemsSeen\n",
    "\n",
    "def computeSVD(urm, K):\n",
    "\tU, s, Vt = sparsesvd(urm, K)\n",
    "\n",
    "\tdim = (len(s), len(s))\n",
    "\tS = np.zeros(dim, dtype=np.float32)\n",
    "\tfor i in range(0, len(s)):\n",
    "\t\tS[i,i] = mt.sqrt(s[i])\n",
    "\n",
    "\tU = csr_matrix(np.transpose(U), dtype=np.float32)\n",
    "\tS = csr_matrix(S, dtype=np.float32)\n",
    "\tVt = csr_matrix(Vt, dtype=np.float32)\n",
    "\n",
    "\treturn U, S, Vt\n",
    "\n",
    "def computeEstimatedRatings(urm, U, S, Vt, uTest, itemsSeen, K, test):\n",
    "\trightTerm = S*Vt\n",
    "\n",
    "\testimatedRatings = np.zeros(shape=(MAX_UID, MAX_PID), dtype=np.float16)\n",
    "\tfor userTest in uTest:\n",
    "\t\tprod = U[userTest, :]*rightTerm\n",
    "\n",
    "\t\testimatedRatings[userTest, :] = prod.todense()\n",
    "\t\trecom = (-estimatedRatings[userTest, :]).argsort()[:250]\n",
    "\t\tfor r in recom:\n",
    "\t\t\tif r not in itemsSeen[userTest]:\n",
    "\t\t\t\tuTest[userTest].append(r)\n",
    "\n",
    "\t\t\t\tif len(uTest[userTest]) == 5:\n",
    "\t\t\t\t\tbreak\n",
    "\n",
    "\treturn uTest\n",
    "\n",
    "def printResult(uTest):\n",
    "    f = open('submission_svd_870.csv', 'wt')\n",
    "    writer = csv.writer(f)\n",
    "    writer.writerow(('userId','RecommendedItemIds'))\n",
    "    for u in uTest:\n",
    "        predictions = uTest[u]\n",
    "        iterator = 0\n",
    "        for i in range(5 - len(predictions)):\n",
    "            while (item_ratings_mean[iterator] in itemsSeen[u]) or (item_ratings_mean[iterator] in predictions):\n",
    "                iterator = iterator + 1\n",
    "            predictions = predictions + [item_ratings_mean[iterator]]\n",
    "        writer.writerow((u, '{0} {1} {2} {3} {4}'.format(predictions[0], predictions[1], predictions[2], predictions[3], predictions[4])))\n",
    "\n",
    "    f.close()"
   ]
  },
  {
   "cell_type": "code",
   "execution_count": 10,
   "metadata": {
    "collapsed": true
   },
   "outputs": [],
   "source": [
    "train_rdd = sc.textFile(\"data/train.csv\")\n",
    "train_header = train_rdd.first()\n",
    "train_clean_data = train_rdd.filter(lambda x: x != train_header).map(lambda line: line.split(',')).map(lambda x: (int(x[0]), int(x[1]), float(x[2])))\n",
    "train_data = train_clean_data.collect()\n",
    "test_rdd= sc.textFile(\"data/target_users.csv\")\n",
    "test_header= test_rdd.first()\n",
    "test_clean_data= test_rdd.filter(lambda x: x != test_header).map(lambda x: int(x)).collect()\n",
    "item_ratings = train_clean_data.map(lambda x: (x[1], x[2])).aggregateByKey((0,0), lambda x,y: (x[0] + y, x[1] + 1),lambda x,y: (x[0] + y[0], x[1] + y[1]))\n",
    "shrinkage_factor = 5\n",
    "item_ratings_mean = item_ratings.mapValues(lambda x: (x[0] / (x[1] + shrinkage_factor))).sortBy(lambda x: x[1], ascending = False).map(lambda x: x[0]).collect()"
   ]
  },
  {
   "cell_type": "code",
   "execution_count": null,
   "metadata": {},
   "outputs": [],
   "source": [
    "urm = readUrm(train_data)"
   ]
  },
  {
   "cell_type": "code",
   "execution_count": null,
   "metadata": {},
   "outputs": [],
   "source": [
    "K = 870\n",
    "U, S, Vt = computeSVD(urm, K)"
   ]
  },
  {
   "cell_type": "code",
   "execution_count": null,
   "metadata": {
    "collapsed": true
   },
   "outputs": [],
   "source": [
    "uTest = readUsersTest(test_clean_data)"
   ]
  },
  {
   "cell_type": "code",
   "execution_count": null,
   "metadata": {
    "collapsed": true
   },
   "outputs": [],
   "source": [
    "itemsSeen = getItemsSeen(train_data)"
   ]
  },
  {
   "cell_type": "code",
   "execution_count": null,
   "metadata": {
    "collapsed": true
   },
   "outputs": [],
   "source": [
    "uTest = computeEstimatedRatings(urm, U, S, Vt, uTest, itemsSeen, K, True)"
   ]
  },
  {
   "cell_type": "code",
   "execution_count": null,
   "metadata": {
    "collapsed": true
   },
   "outputs": [],
   "source": [
    "printResult(uTest)"
   ]
  }
 ],
 "metadata": {
  "kernelspec": {
   "display_name": "Python 3",
   "language": "python",
   "name": "python3"
  },
  "language_info": {
   "codemirror_mode": {
    "name": "ipython",
    "version": 3
   },
   "file_extension": ".py",
   "mimetype": "text/x-python",
   "name": "python",
   "nbconvert_exporter": "python",
   "pygments_lexer": "ipython3",
   "version": "3.6.1"
  }
 },
 "nbformat": 4,
 "nbformat_minor": 2
}
