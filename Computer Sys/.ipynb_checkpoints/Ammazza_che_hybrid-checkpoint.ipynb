{
 "cells": [
  {
   "cell_type": "code",
   "execution_count": 1,
   "metadata": {
    "collapsed": true
   },
   "outputs": [],
   "source": [
    "from pyspark import SparkContext\n",
    "from scipy import sparse as sm\n",
    "from sklearn.preprocessing import normalize\n",
    "import numpy as np\n",
    "import csv\n",
    "from sklearn.metrics.pairwise import cosine_similarity\n",
    "from sklearn.metrics.pairwise import pairwise_distances\n",
    "from scipy.stats import spearmanr\n",
    "from scipy.stats import pearsonr as pears\n",
    "from collections import defaultdict\n",
    "from tqdm import tqdm_notebook as tqdm\n",
    "import time\n",
    "from sparsesvd import sparsesvd\n",
    "import math as mt\n",
    "sc = SparkContext.getOrCreate()"
   ]
  },
  {
   "cell_type": "code",
   "execution_count": 2,
   "metadata": {
    "collapsed": true
   },
   "outputs": [],
   "source": [
    "train_rdd = sc.textFile(\"data/train.csv\")\n",
    "icm_rdd = sc.textFile(\"data/icm_fede.csv\")\n",
    "test_rdd= sc.textFile(\"data/target_users.csv\")\n",
    "\n",
    "train_header = train_rdd.first()\n",
    "icm_header = icm_rdd.first()\n",
    "test_header= test_rdd.first()\n",
    "\n",
    "train_clean_data = train_rdd.filter(lambda x: x != train_header).map(lambda line: line.split(',')).map(lambda x: (int(x[0]), int(x[1]), float(x[2])))\n",
    "icm_clean_data = icm_rdd.filter(lambda x: x != icm_header).map(lambda line: line.split(',')).map(lambda x: (int(x[0]), int(x[1])))\n",
    "test_clean_data= test_rdd.filter(lambda x: x != test_header).map(lambda line: line.split(','))\n",
    "\n",
    "test_users=test_clean_data.map( lambda x: int(x[0])).collect()\n",
    "\n",
    "\n",
    "grouped_rates = train_clean_data.filter(lambda x: x[0] in test_users).map(lambda x: (x[0],x[1])).groupByKey().map(lambda x: (x[0], list(x[1]))).collect()\n",
    "grouped_rates_dic = dict(grouped_rates)\n",
    "\n",
    "\n",
    "item_ratings = train_clean_data.map(lambda x: (x[0], x[2])).aggregateByKey((0,0), lambda x,y: (x[0] + y, x[1] + 1),lambda x,y: (x[0] + y[0], x[1] + y[1]))\n",
    "user_ratings_mean = item_ratings.mapValues(lambda x: (x[0] / (x[1]))).collect()\n",
    "user_ratings_mean_dic=dict(user_ratings_mean)\n",
    "\n",
    "\n",
    "item_ratings_forTop = train_clean_data.map(lambda x: (x[1], x[2])).aggregateByKey((0,0), lambda x,y: (x[0] + y, x[1] + 1),lambda x,y: (x[0] + y[0], x[1] + y[1]))#.sortBy(lambda x: x[1][1], ascending=False)\n",
    "shrinkage_factor = 5\n",
    "item_ratings_mean = item_ratings_forTop.mapValues(lambda x: (x[0] / (x[1] + shrinkage_factor))).sortBy(lambda x: x[1], ascending = False).map(lambda x: x[0]).collect()\n",
    "\n",
    "\n",
    "#matrix interactions with global effect creation\n",
    "users = train_clean_data.map(lambda x: x[0]).collect()\n",
    "items = train_clean_data.map(lambda x: x[1]).collect()\n",
    "ratings = train_clean_data.map(lambda x: x[2]).collect()\n",
    "UxI_basic= sm.csr_matrix((ratings, (users, items)))\n",
    "\n",
    "#remove global effect\n",
    "global_mean = train_clean_data.map(lambda x: x[2]).mean()\n",
    "\n",
    "trainr2 = train_clean_data.map(lambda x: (x[0], x[1], x[2]-global_mean))\n",
    "temp = trainr2.map(lambda x: (x[1],(x[2],1))).reduceByKey(lambda x,y: (x[0]+y[0], x[1]+y[1])).mapValues(lambda x: x[0]/x[1])\n",
    "i_Bias = temp.collectAsMap()\n",
    "\n",
    "trainr3 = trainr2.map(lambda x: (x[0],x[1], x[2] - i_Bias.get(x[1],0)))\n",
    "temp2 = trainr3.map(lambda x: (x[0],(x[2],1))).reduceByKey(lambda x,y: (x[0]+y[0], x[1]+y[1])).mapValues(lambda x: x[0]/x[1])\n",
    "u_Bias = temp2.collectAsMap()\n",
    "\n",
    "train_clean_data = train_clean_data.map(lambda x: (x[0], x[1], x[2] - i_Bias.get(x[1],0) - u_Bias.get(x[0],0)))\n",
    "train_clean_data.take(5)\n",
    "\n",
    "#matrix interactions without global effect creation\n",
    "users = train_clean_data.map(lambda x: x[0]).collect()\n",
    "items = train_clean_data.map(lambda x: x[1]).collect()\n",
    "ratings = train_clean_data.map(lambda x: x[2]).collect()\n",
    "UxI_global1= sm.csr_matrix((ratings, (users, items)))\n",
    "\n",
    "#matrix icm creations\n",
    "items_for_features= icm_clean_data.map(lambda x:x[0]).collect()\n",
    "features = icm_clean_data.map(lambda x:x[1]).collect()\n",
    "items_for_features.append(37142)\n",
    "features.append(0)\n",
    "ones=[1]*len(items_for_features)\n",
    "IxF= sm.csr_matrix((ones, (items_for_features, features)))"
   ]
  },
  {
   "cell_type": "code",
   "execution_count": 3,
   "metadata": {
    "collapsed": true
   },
   "outputs": [],
   "source": [
    "n_users,n_items=UxI_basic.shape\n",
    "n_features=IxF.shape[1]"
   ]
  },
  {
   "cell_type": "markdown",
   "metadata": {
    "collapsed": true
   },
   "source": [
    "SVD"
   ]
  },
  {
   "cell_type": "code",
   "execution_count": 4,
   "metadata": {},
   "outputs": [
    {
     "name": "stdout",
     "output_type": "stream",
     "text": [
      "CPU times: user 1min 51s, sys: 184 ms, total: 1min 52s\n",
      "Wall time: 1min 51s\n"
     ]
    }
   ],
   "source": [
    "'''matrix factorization -  TUNE PARAMETER HERE'''\n",
    "K = 870\n",
    "%time U, S, Vt = sparsesvd(UxI_basic.tocsc(), K)\n",
    "S=np.sqrt(S.data)\n",
    "S=np.diag(S)"
   ]
  },
  {
   "cell_type": "code",
   "execution_count": 6,
   "metadata": {},
   "outputs": [
    {
     "name": "stdout",
     "output_type": "stream",
     "text": [
      "CPU times: user 57.4 s, sys: 26.4 s, total: 1min 23s\n",
      "Wall time: 31.4 s\n"
     ]
    }
   ],
   "source": [
    "'''calc predictions'''\n",
    "%time UxI_pred_SVD=sm.csr_matrix(U.T.dot(S).dot(Vt))"
   ]
  },
  {
   "cell_type": "markdown",
   "metadata": {},
   "source": [
    "Content Based"
   ]
  },
  {
   "cell_type": "code",
   "execution_count": 7,
   "metadata": {},
   "outputs": [
    {
     "data": {
      "application/vnd.jupyter.widget-view+json": {
       "model_id": "81c07f578d9543d282f769c8cbb5f8b4"
      }
     },
     "metadata": {},
     "output_type": "display_data"
    },
    {
     "name": "stdout",
     "output_type": "stream",
     "text": [
      "\n",
      "CPU times: user 4 ms, sys: 0 ns, total: 4 ms\n",
      "Wall time: 5.76 ms\n",
      "CPU times: user 4 ms, sys: 0 ns, total: 4 ms\n",
      "Wall time: 5.5 ms\n",
      "CPU times: user 56 ms, sys: 4 ms, total: 60 ms\n",
      "Wall time: 59.4 ms\n"
     ]
    },
    {
     "name": "stderr",
     "output_type": "stream",
     "text": [
      "/home/ubuntu/anaconda3/lib/python3.6/site-packages/sklearn/utils/validation.py:429: DataConversionWarning: Data with input dtype int64 was converted to float64 by the normalize function.\n",
      "  warnings.warn(msg, _DataConversionWarning)\n"
     ]
    }
   ],
   "source": [
    "IDF=[0]*n_features\n",
    "for i in tqdm(range(n_features)):\n",
    "    IDF[i]=np.log10(n_items/len(IxF.getcol(i).nonzero()[1]))\n",
    "%time IxF=normalize(IxF,axis=1) #apply TF\n",
    "%time IxF_idf=IxF.multiply(IDF) #apply IDF\n",
    "%time UxF=UxI_global1.dot(IxF_idf) #calc users profiles"
   ]
  },
  {
   "cell_type": "code",
   "execution_count": 8,
   "metadata": {},
   "outputs": [
    {
     "name": "stdout",
     "output_type": "stream",
     "text": [
      "CPU times: user 8.12 s, sys: 1.1 s, total: 9.22 s\n",
      "Wall time: 9.22 s\n"
     ]
    }
   ],
   "source": [
    "'''calc predictions'''\n",
    "%time UxI_pred_CB=UxF.dot(IxF.T)\n",
    "del IxF"
   ]
  },
  {
   "cell_type": "markdown",
   "metadata": {},
   "source": [
    "Item Based"
   ]
  },
  {
   "cell_type": "code",
   "execution_count": 9,
   "metadata": {},
   "outputs": [
    {
     "name": "stdout",
     "output_type": "stream",
     "text": [
      "CPU times: user 6.74 s, sys: 1.43 s, total: 8.17 s\n",
      "Wall time: 8.17 s\n"
     ]
    },
    {
     "name": "stderr",
     "output_type": "stream",
     "text": [
      "/home/ubuntu/anaconda3/lib/python3.6/site-packages/scipy/sparse/compressed.py:774: SparseEfficiencyWarning: Changing the sparsity structure of a csr_matrix is expensive. lil_matrix is more efficient.\n",
      "  SparseEfficiencyWarning)\n"
     ]
    }
   ],
   "source": [
    "'''calc item similarities based on features'''\n",
    "%time IxI_sim_f=IxF_idf.dot(IxF_idf.T)\n",
    "IxI_sim_f.setdiag(0)"
   ]
  },
  {
   "cell_type": "code",
   "execution_count": 10,
   "metadata": {},
   "outputs": [
    {
     "name": "stdout",
     "output_type": "stream",
     "text": [
      "CPU times: user 416 ms, sys: 64 ms, total: 480 ms\n",
      "Wall time: 478 ms\n"
     ]
    },
    {
     "name": "stderr",
     "output_type": "stream",
     "text": [
      "/home/ubuntu/anaconda3/lib/python3.6/site-packages/scipy/sparse/compressed.py:774: SparseEfficiencyWarning: Changing the sparsity structure of a csc_matrix is expensive. lil_matrix is more efficient.\n",
      "  SparseEfficiencyWarning)\n"
     ]
    }
   ],
   "source": [
    "'''calc item similarities based on collaborative'''\n",
    "%time IxI_sim_c=UxI_global1.T.dot(UxI_global1)\n",
    "IxI_sim_c.setdiag(0)"
   ]
  },
  {
   "cell_type": "code",
   "execution_count": 11,
   "metadata": {},
   "outputs": [
    {
     "name": "stdout",
     "output_type": "stream",
     "text": [
      "CPU times: user 7.16 s, sys: 1.72 s, total: 8.88 s\n",
      "Wall time: 8.87 s\n"
     ]
    }
   ],
   "source": [
    "'''merge item similarities -  TUNE PARAMETER HERE'''\n",
    "%time IxI_sim = IxI_sim_f + IxI_sim_c*0.001\n",
    "del IxI_sim_f\n",
    "del IxI_sim_c"
   ]
  },
  {
   "cell_type": "code",
   "execution_count": 12,
   "metadata": {},
   "outputs": [
    {
     "data": {
      "application/vnd.jupyter.widget-view+json": {
       "model_id": "f320cbccd3c14794a3fd4da9db12e112"
      }
     },
     "metadata": {},
     "output_type": "display_data"
    },
    {
     "name": "stdout",
     "output_type": "stream",
     "text": [
      "\n"
     ]
    }
   ],
   "source": [
    "'''take knn items -  TUNE PARAMETER HERE'''\n",
    "IxI_sim_knn=sm.lil_matrix((n_items,n_items))\n",
    "k=200\n",
    "for i in tqdm(range(n_items)):    \n",
    "    top_k_idx =IxI_sim.getrow(i).toarray()[0].argpartition(-k)[-k:]\n",
    "    IxI_sim_knn[i,top_k_idx]=IxI_sim[i,top_k_idx]\n",
    "del IxI_sim "
   ]
  },
  {
   "cell_type": "code",
   "execution_count": 13,
   "metadata": {},
   "outputs": [
    {
     "name": "stdout",
     "output_type": "stream",
     "text": [
      "CPU times: user 3.78 s, sys: 384 ms, total: 4.16 s\n",
      "Wall time: 4.16 s\n"
     ]
    }
   ],
   "source": [
    "'''calc predictions'''\n",
    "%time UxI_pred_CI=UxI_global1.dot(IxI_sim_knn.T)\n",
    "del IxI_sim_knn"
   ]
  },
  {
   "cell_type": "markdown",
   "metadata": {},
   "source": [
    "User Based"
   ]
  },
  {
   "cell_type": "code",
   "execution_count": 14,
   "metadata": {},
   "outputs": [
    {
     "name": "stdout",
     "output_type": "stream",
     "text": [
      "CPU times: user 5.85 s, sys: 564 ms, total: 6.42 s\n",
      "Wall time: 6.41 s\n",
      "CPU times: user 14.9 s, sys: 3.11 s, total: 18 s\n",
      "Wall time: 18 s\n",
      "CPU times: user 2.52 s, sys: 528 ms, total: 3.05 s\n",
      "Wall time: 3.05 s\n"
     ]
    },
    {
     "name": "stderr",
     "output_type": "stream",
     "text": [
      "/home/ubuntu/anaconda3/lib/python3.6/site-packages/scipy/sparse/compressed.py:774: SparseEfficiencyWarning: Changing the sparsity structure of a csr_matrix is expensive. lil_matrix is more efficient.\n",
      "  SparseEfficiencyWarning)\n"
     ]
    }
   ],
   "source": [
    "'''calc user similarities based on profiles'''\n",
    "%time UxU_sim_p=UxF.dot(UxF.T) #numerators of cosine\n",
    "%time cos=sm.csr_matrix(cosine_similarity(UxF)) #cosine\n",
    "cos.data=1/cos.data\n",
    "denominators=UxU_sim_p.multiply(cos) #get denominators of cosine\n",
    "del cos\n",
    "denominators.data+=1 #add shrinkage to cosine denominator\n",
    "denominators.data=1/denominators.data\n",
    "%time UxU_sim_p=UxU_sim_p.multiply(denominators) #calc shrinked cosine\n",
    "del denominators\n",
    "UxU_sim_p.setdiag(0)"
   ]
  },
  {
   "cell_type": "code",
   "execution_count": 15,
   "metadata": {},
   "outputs": [
    {
     "name": "stdout",
     "output_type": "stream",
     "text": [
      "CPU times: user 76 ms, sys: 8 ms, total: 84 ms\n",
      "Wall time: 82.1 ms\n"
     ]
    },
    {
     "name": "stderr",
     "output_type": "stream",
     "text": [
      "/home/ubuntu/anaconda3/lib/python3.6/site-packages/scipy/sparse/compressed.py:774: SparseEfficiencyWarning: Changing the sparsity structure of a csr_matrix is expensive. lil_matrix is more efficient.\n",
      "  SparseEfficiencyWarning)\n"
     ]
    }
   ],
   "source": [
    "'''calc user similarities based on collaborative'''\n",
    "%time UxU_sim_c=UxI_global1.dot(UxI_global1.T)\n",
    "UxU_sim_c.setdiag(0)"
   ]
  },
  {
   "cell_type": "code",
   "execution_count": 16,
   "metadata": {},
   "outputs": [
    {
     "name": "stdout",
     "output_type": "stream",
     "text": [
      "CPU times: user 1.89 s, sys: 516 ms, total: 2.41 s\n",
      "Wall time: 2.41 s\n"
     ]
    }
   ],
   "source": [
    "'''merge user similarities -  TUNE PARAMETER HERE'''\n",
    "%time UxU_sim = UxU_sim_p + UxU_sim_c*0.001\n",
    "del UxU_sim_p\n",
    "del UxU_sim_c"
   ]
  },
  {
   "cell_type": "code",
   "execution_count": 17,
   "metadata": {},
   "outputs": [
    {
     "data": {
      "application/vnd.jupyter.widget-view+json": {
       "model_id": "227c4631b4fa4876a7adcae7f5facb18"
      }
     },
     "metadata": {},
     "output_type": "display_data"
    },
    {
     "name": "stdout",
     "output_type": "stream",
     "text": [
      "\n"
     ]
    }
   ],
   "source": [
    "'''take knn users -  TUNE PARAMETER HERE'''\n",
    "UxU_sim_knn=sm.lil_matrix((n_users,n_users))\n",
    "k=100\n",
    "for i in tqdm(range(n_users)):    \n",
    "    top_k_idx =UxU_sim.getrow(i).toarray()[0].argpartition(-k)[-k:]\n",
    "    UxU_sim_knn[i,top_k_idx]=UxU_sim[i,top_k_idx]  \n",
    "del UxU_sim"
   ]
  },
  {
   "cell_type": "code",
   "execution_count": 18,
   "metadata": {},
   "outputs": [
    {
     "name": "stdout",
     "output_type": "stream",
     "text": [
      "CPU times: user 2.98 s, sys: 228 ms, total: 3.21 s\n",
      "Wall time: 3.21 s\n"
     ]
    }
   ],
   "source": [
    "'''calc_predictions'''\n",
    "%time UxI_pred_CU=UxU_sim_knn.dot(UxI_global1)"
   ]
  },
  {
   "cell_type": "code",
   "execution_count": 19,
   "metadata": {
    "collapsed": true
   },
   "outputs": [],
   "source": [
    "del UxU_sim_knn\n",
    "del UxI_basic\n",
    "del UxI_global1\n",
    "del UxF\n",
    "del IxF_idf"
   ]
  },
  {
   "cell_type": "markdown",
   "metadata": {
    "collapsed": true
   },
   "source": [
    "Removal of already voted items, not mandatory"
   ]
  },
  {
   "cell_type": "code",
   "execution_count": 20,
   "metadata": {
    "collapsed": true
   },
   "outputs": [],
   "source": [
    "#create matrix for test users predictions\n",
    "UxI_pred_CB_test=sm.lil_matrix((n_users,n_items))\n",
    "UxI_pred_CI_test=sm.lil_matrix((n_users,n_items))\n",
    "UxI_pred_CU_test=sm.lil_matrix((n_users,n_items))\n",
    "UxI_pred_SVD_test=sm.lil_matrix((n_users,n_items))"
   ]
  },
  {
   "cell_type": "code",
   "execution_count": 21,
   "metadata": {},
   "outputs": [
    {
     "name": "stdout",
     "output_type": "stream",
     "text": [
      "CPU times: user 21.3 s, sys: 3.5 s, total: 24.8 s\n",
      "Wall time: 24.8 s\n",
      "CPU times: user 11.5 s, sys: 412 ms, total: 11.9 s\n",
      "Wall time: 11.9 s\n",
      "CPU times: user 14.1 s, sys: 872 ms, total: 15 s\n",
      "Wall time: 15 s\n",
      "CPU times: user 21.2 s, sys: 4.68 s, total: 25.9 s\n",
      "Wall time: 25.9 s\n"
     ]
    }
   ],
   "source": [
    "#take only test users predictions\n",
    "%time UxI_pred_CB_test[test_users,:]=UxI_pred_CB[test_users,:]\n",
    "%time UxI_pred_CI_test[test_users,:]=UxI_pred_CI[test_users,:]\n",
    "%time UxI_pred_CU_test[test_users,:]=UxI_pred_CU[test_users,:]\n",
    "%time UxI_pred_SVD_test[test_users,:]=UxI_pred_SVD[test_users,:]"
   ]
  },
  {
   "cell_type": "code",
   "execution_count": 22,
   "metadata": {},
   "outputs": [
    {
     "data": {
      "application/vnd.jupyter.widget-view+json": {
       "model_id": "8a09bd076887490d8c4150b7ed65e327"
      }
     },
     "metadata": {},
     "output_type": "display_data"
    },
    {
     "name": "stdout",
     "output_type": "stream",
     "text": [
      "\n"
     ]
    }
   ],
   "source": [
    "#remove items already voted\n",
    "for user in tqdm(test_users):\n",
    "    UxI_pred_CB_test[user,grouped_rates_dic[user]]=0\n",
    "    UxI_pred_CI_test[user,grouped_rates_dic[user]]=0\n",
    "    UxI_pred_CU_test[user,grouped_rates_dic[user]]=0\n",
    "    UxI_pred_SVD_test[user,grouped_rates_dic[user]]=0"
   ]
  },
  {
   "cell_type": "code",
   "execution_count": 23,
   "metadata": {},
   "outputs": [
    {
     "name": "stdout",
     "output_type": "stream",
     "text": [
      "CPU times: user 16.4 s, sys: 1.06 s, total: 17.5 s\n",
      "Wall time: 17.5 s\n",
      "CPU times: user 840 ms, sys: 24 ms, total: 864 ms\n",
      "Wall time: 863 ms\n",
      "CPU times: user 3.42 s, sys: 80 ms, total: 3.5 s\n",
      "Wall time: 3.5 s\n",
      "CPU times: user 21.8 s, sys: 1.41 s, total: 23.2 s\n",
      "Wall time: 23.2 s\n"
     ]
    }
   ],
   "source": [
    "#convert to csr to improve future operations performances\n",
    "%time UxI_pred_CB_test=UxI_pred_CB_test.tocsr()\n",
    "%time UxI_pred_CI_test=UxI_pred_CI_test.tocsr()\n",
    "%time UxI_pred_CU_test=UxI_pred_CU_test.tocsr()\n",
    "%time UxI_pred_SVD_test=UxI_pred_SVD_test.tocsr()"
   ]
  },
  {
   "cell_type": "code",
   "execution_count": 24,
   "metadata": {
    "collapsed": true
   },
   "outputs": [],
   "source": [
    "del UxI_pred_CB\n",
    "del UxI_pred_CI\n",
    "del UxI_pred_CU\n",
    "del UxI_pred_SVD"
   ]
  },
  {
   "cell_type": "markdown",
   "metadata": {
    "collapsed": true
   },
   "source": [
    "Algorithms adjusted with svd in order to remove possible even scores and conseguent random ordering"
   ]
  },
  {
   "cell_type": "code",
   "execution_count": 25,
   "metadata": {},
   "outputs": [
    {
     "name": "stdout",
     "output_type": "stream",
     "text": [
      "CPU times: user 1.36 s, sys: 388 ms, total: 1.75 s\n",
      "Wall time: 1.75 s\n"
     ]
    }
   ],
   "source": [
    "%time UxI_pred_CB_SVD = UxI_pred_CB_test + UxI_pred_SVD_test*0.000001"
   ]
  },
  {
   "cell_type": "code",
   "execution_count": 26,
   "metadata": {},
   "outputs": [
    {
     "name": "stdout",
     "output_type": "stream",
     "text": [
      "CPU times: user 876 ms, sys: 336 ms, total: 1.21 s\n",
      "Wall time: 1.21 s\n"
     ]
    }
   ],
   "source": [
    "%time UxI_pred_CI_SVD = UxI_pred_CI_test + UxI_pred_SVD_test*0.000001"
   ]
  },
  {
   "cell_type": "code",
   "execution_count": 27,
   "metadata": {},
   "outputs": [
    {
     "name": "stdout",
     "output_type": "stream",
     "text": [
      "CPU times: user 1.01 s, sys: 340 ms, total: 1.35 s\n",
      "Wall time: 1.35 s\n"
     ]
    }
   ],
   "source": [
    "%time UxI_pred_CU_SVD = UxI_pred_CU_test + UxI_pred_SVD_test*0.000001"
   ]
  },
  {
   "cell_type": "code",
   "execution_count": 28,
   "metadata": {
    "collapsed": true
   },
   "outputs": [],
   "source": [
    "del UxI_pred_CB_test\n",
    "del UxI_pred_CI_test\n",
    "del UxI_pred_CU_test\n",
    "del UxI_pred_SVD_test"
   ]
  },
  {
   "cell_type": "markdown",
   "metadata": {},
   "source": [
    "Testing print"
   ]
  },
  {
   "cell_type": "code",
   "execution_count": null,
   "metadata": {
    "collapsed": true
   },
   "outputs": [],
   "source": [
    "UxI_pred=UxI_pred_CU"
   ]
  },
  {
   "cell_type": "code",
   "execution_count": null,
   "metadata": {
    "collapsed": true
   },
   "outputs": [],
   "source": [
    "f = open('zzz_CU_modified.csv', 'wt')\n",
    "writer = csv.writer(f)\n",
    "writer.writerow(('userId','RecommendedItemIds'))\n",
    "\n",
    "for user in tqdm(test_users):\n",
    "    top=[]\n",
    "\n",
    "    user_predictions=user_predictions=(-UxI_pred.getrow(user).toarray()[0]).argsort()\n",
    "    i=0\n",
    "    while len(top)<=5:\n",
    "        prediction=user_predictions[i]\n",
    "        \n",
    "        if UxI_pred[user,prediction]==0.0:\n",
    "            j=0\n",
    "            while len(top)<=5:\n",
    "                prediction = item_ratings_mean[j]\n",
    "                while prediction in grouped_rates_dic[user] or prediction in top:\n",
    "                    j += 1\n",
    "                    prediction = item_ratings_mean[j]\n",
    "                top.append(prediction)\n",
    "                j += 1\n",
    "        \n",
    "        \n",
    "        \n",
    "        if prediction in grouped_rates_dic[user]:\n",
    "            i+=1\n",
    "            continue\n",
    "        \n",
    "        i+=1\n",
    "        top.append(prediction)\n",
    "        \n",
    "   \n",
    "    writer.writerow((user, '{0} {1} {2} {3} {4}'.format(top[0], top[1], top[2], top[3], top[4])))\n",
    "\n",
    "f.close()"
   ]
  },
  {
   "cell_type": "markdown",
   "metadata": {},
   "source": [
    "Real Print"
   ]
  },
  {
   "cell_type": "code",
   "execution_count": 29,
   "metadata": {
    "collapsed": true
   },
   "outputs": [],
   "source": [
    "'''TUNE PARAMETERS HERE'''\n",
    "def bordaLikeAggr(rank1,rank2,rank3):    \n",
    "    result=[0]*n_items\n",
    "    rg=150\n",
    "    for i in range(rg):\n",
    "        item1=rank1.argmax()\n",
    "        item2=rank2.argmax()\n",
    "        item3=rank3.argmax()   \n",
    "        \n",
    "        if rank1[item1]>0.0:\n",
    "            result[item1]+=(6/(i+1))\n",
    "        rank1[item1]=-500\n",
    "\n",
    "        if rank2[item2]>0.0:\n",
    "            result[item2]+=(4/(i+1))\n",
    "        rank2[item2]=-500\n",
    "        \n",
    "        if rank3[item3]>0.0:\n",
    "            result[item3]+=(0.05/(i+1))\n",
    "        rank2[item3]=-500\n",
    "    \n",
    "    return sm.csr_matrix(result)"
   ]
  },
  {
   "cell_type": "code",
   "execution_count": 31,
   "metadata": {},
   "outputs": [
    {
     "data": {
      "application/vnd.jupyter.widget-view+json": {
       "model_id": "407be24282d84773aced2cc0a1bbd1c4"
      }
     },
     "metadata": {},
     "output_type": "display_data"
    },
    {
     "name": "stdout",
     "output_type": "stream",
     "text": [
      "\n",
      "\n"
     ]
    }
   ],
   "source": [
    "f = open('submission_RangAgg_6-4-005.csv', 'wt')\n",
    "writer = csv.writer(f)\n",
    "writer.writerow(('userId','RecommendedItemIds'))\n",
    "for user in tqdm(test_users):\n",
    "    top=[0,0,0,0,0]\n",
    "\n",
    "    user_predictions=bordaLikeAggr(UxI_pred_CI_SVD.getrow(user).toarray()[0],UxI_pred_CB_SVD.getrow(user).toarray()[0],UxI_pred_CU_SVD.getrow(user).toarray()[0])\n",
    "    iterator = 0\n",
    "    for i in range(5):\n",
    "        prediction = user_predictions.argmax()\n",
    "        while prediction in grouped_rates_dic[user] and prediction != 0:\n",
    "            user_predictions[0,prediction]=-9\n",
    "            prediction=user_predictions.argmax()\n",
    "        if prediction == 0:\n",
    "            prediction = item_ratings_mean[iterator]\n",
    "            while prediction in grouped_rates_dic[user] or prediction in top:\n",
    "                iterator += 1\n",
    "                prediction = item_ratings_mean[iterator]\n",
    "            iterator += 1\n",
    "        else:\n",
    "            user_predictions[0,prediction]=-9\n",
    "        top[i]=prediction    \n",
    "    writer.writerow((user, '{0} {1} {2} {3} {4}'.format(top[0], top[1], top[2], top[3], top[4])))\n",
    "\n",
    "f.close()"
   ]
  },
  {
   "cell_type": "code",
   "execution_count": 31,
   "metadata": {},
   "outputs": [
    {
     "data": {
      "text/plain": [
       "<15375x37143 sparse matrix of type '<class 'numpy.float64'>'\n",
       "\twith 141028612 stored elements in Compressed Sparse Row format>"
      ]
     },
     "execution_count": 31,
     "metadata": {},
     "output_type": "execute_result"
    }
   ],
   "source": []
  },
  {
   "cell_type": "code",
   "execution_count": null,
   "metadata": {
    "collapsed": true
   },
   "outputs": [],
   "source": []
  }
 ],
 "metadata": {
  "kernelspec": {
   "display_name": "Python 3",
   "language": "python",
   "name": "python3"
  },
  "language_info": {
   "codemirror_mode": {
    "name": "ipython",
    "version": 3
   },
   "file_extension": ".py",
   "mimetype": "text/x-python",
   "name": "python",
   "nbconvert_exporter": "python",
   "pygments_lexer": "ipython3",
   "version": "3.6.1"
  }
 },
 "nbformat": 4,
 "nbformat_minor": 2
}
