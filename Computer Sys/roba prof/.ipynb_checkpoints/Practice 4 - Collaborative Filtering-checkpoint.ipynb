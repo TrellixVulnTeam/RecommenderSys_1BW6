{
 "cells": [
  {
   "cell_type": "markdown",
   "metadata": {},
   "source": [
    "# Computer Systems 2016/17\n",
    "\n",
    "### Practice 4 - Collaborative Filtering"
   ]
  },
  {
   "cell_type": "markdown",
   "metadata": {},
   "source": [
    "#### We will use the Movielens 100k dataset. We download it and uncompress the file we need"
   ]
  },
  {
   "cell_type": "code",
   "execution_count": 1,
   "metadata": {
    "collapsed": true
   },
   "outputs": [],
   "source": [
    "import pyspark\n",
    "sc = pyspark.SparkContext('local[*]')"
   ]
  },
  {
   "cell_type": "code",
   "execution_count": 2,
   "metadata": {
    "collapsed": true
   },
   "outputs": [],
   "source": [
    "from urllib.request import urlretrieve\n",
    "import zipfile"
   ]
  },
  {
   "cell_type": "code",
   "execution_count": 3,
   "metadata": {},
   "outputs": [
    {
     "data": {
      "text/plain": [
       "('ml-100k.zip', <http.client.HTTPMessage at 0x7f027c3b8b70>)"
      ]
     },
     "execution_count": 3,
     "metadata": {},
     "output_type": "execute_result"
    }
   ],
   "source": [
    "urlretrieve (\"http://files.grouplens.org/datasets/movielens/ml-100k.zip\", \"ml-100k.zip\")"
   ]
  },
  {
   "cell_type": "code",
   "execution_count": 4,
   "metadata": {},
   "outputs": [
    {
     "data": {
      "text/plain": [
       "[('196', '242', '3', '881250949'),\n",
       " ('186', '302', '3', '891717742'),\n",
       " ('22', '377', '1', '878887116'),\n",
       " ('244', '51', '2', '880606923'),\n",
       " ('166', '346', '1', '886397596'),\n",
       " ('298', '474', '4', '884182806'),\n",
       " ('115', '265', '2', '881171488'),\n",
       " ('253', '465', '5', '891628467'),\n",
       " ('305', '451', '3', '886324817'),\n",
       " ('6', '86', '3', '883603013')]"
      ]
     },
     "execution_count": 4,
     "metadata": {},
     "output_type": "execute_result"
    }
   ],
   "source": [
    "dataFile = zipfile.ZipFile(\"ml-100k.zip\")\n",
    "\n",
    "URM_path = dataFile.extract(\"ml-100k/u.data\")\n",
    "URM = sc.textFile(URM_path)\n",
    "\n",
    "\n",
    "def rowSplit (rowString):\n",
    "    split = rowString.split(\"\\t\")\n",
    "    result = tuple(split)\n",
    "    return result\n",
    "\n",
    "\n",
    "URM_tuple = URM.map(rowSplit)\n",
    "\n",
    "URM_tuple.take(10)"
   ]
  },
  {
   "cell_type": "markdown",
   "metadata": {},
   "source": [
    "## User-Based Collaborative Filtering\n",
    "\n",
    "#### A personalized recommender based on user-user similarity"
   ]
  },
  {
   "cell_type": "code",
   "execution_count": 5,
   "metadata": {},
   "outputs": [
    {
     "name": "stdout",
     "output_type": "stream",
     "text": [
      "Train tuples 60232, test tuples 39768\n"
     ]
    }
   ],
   "source": [
    "URM_training, URM_test = URM_tuple.randomSplit([0.6, 0.4])\n",
    "\n",
    "URM_tuple = None\n",
    "\n",
    "print(\"Train tuples {}, test tuples {}\".format(URM_training.count(), URM_test.count()))"
   ]
  },
  {
   "cell_type": "markdown",
   "metadata": {},
   "source": [
    "#### We have to compute the cosine similarity. Here we perform a simple normalization"
   ]
  },
  {
   "cell_type": "code",
   "execution_count": 6,
   "metadata": {},
   "outputs": [
    {
     "data": {
      "text/plain": [
       "[('186', '302', 0.0013940520439618717),\n",
       " ('22', '377', 0.0002853881277724349),\n",
       " ('244', '51', 0.005602240880665992),\n",
       " ('166', '346', 0.0019880715666241123),\n",
       " ('115', '265', 0.017699114887618453),\n",
       " ('253', '465', 0.019455252842586566),\n",
       " ('305', '451', 0.004103967162648472),\n",
       " ('200', '222', 0.0025037556321964166),\n",
       " ('224', '29', 0.007159904517518128),\n",
       " ('122', '387', 0.012406947860032387)]"
      ]
     },
     "execution_count": 6,
     "metadata": {},
     "output_type": "execute_result"
    }
   ],
   "source": [
    "import numpy as np\n",
    "import pandas as pd\n",
    "\n",
    "\n",
    "URM_norm = URM_training.map(lambda x:(x[0], x[1],float(x[2])**2))\n",
    "\n",
    "### We need to sum all data belonging to the same item\n",
    "URM_norm = URM_norm.map(lambda x: (x[1], x[2])).reduceByKey(lambda x,y : x+y)\n",
    "\n",
    "### Add a very small number to avoid division by zero\n",
    "URM_map = URM_norm.map(lambda x: (x[0], x[1]+1e-6)).collectAsMap()\n",
    "\n",
    "URM_norm = URM_training.map(lambda x:(x[0], x[1],float(x[2])/URM_map[x[0]]))\n",
    "\n",
    "URM_norm.take(10)"
   ]
  },
  {
   "cell_type": "markdown",
   "metadata": {},
   "source": [
    "#### To compute the cosine similarity we use the dot product. We can obtain the complete similarity matrix by creating a sparse matrix with the iteraction data we have and then perform a matrix multiplication.\n",
    "\n",
    "#### We have two options\n",
    "* Local: Scipy.sparse\n",
    "* Spark: Mllib...CoordinateMatrix\n"
   ]
  },
  {
   "cell_type": "markdown",
   "metadata": {},
   "source": [
    "### Local\n",
    "\n",
    "### We use a local CoordinateMatrix. The constructor requires a value vector and a tuple containing the coordinates of each value"
   ]
  },
  {
   "cell_type": "code",
   "execution_count": 8,
   "metadata": {},
   "outputs": [
    {
     "name": "stdout",
     "output_type": "stream",
     "text": [
      "ValueError: row index exceeds matrix dimensions\n"
     ]
    }
   ],
   "source": [
    "import scipy.sparse as sps\n",
    "# pronounced “Sigh Pie”\n",
    "\n",
    "# In case pip fails to install scipy you can install it by\n",
    "# sudo apt-get install python-scipy\n",
    "\n",
    "userList = URM_training.map(lambda x: int(x[0])).collect()\n",
    "itemList = URM_training.map(lambda x: int(x[1])).collect()\n",
    "ratingList = URM_training.map(lambda x: float(x[2])).collect()\n",
    "\n",
    "numUsers = URM_training.map(lambda x: x[0]).distinct().count()\n",
    "numItems = URM_training.map(lambda x: x[1]).distinct().count()\n",
    "\n",
    "shape = (numUsers, numItems)\n",
    "\n",
    "try:\n",
    "\n",
    "    similarity = sps.coo_matrix((ratingList, (userList, itemList)), shape=shape)\n",
    "\n",
    "except ValueError as e:\n",
    "    print(\"ValueError: \" + str(e))"
   ]
  },
  {
   "cell_type": "markdown",
   "metadata": {},
   "source": [
    "#### The problem is that the indexes are non-contiguous, therefore the max value for userId or ItemId is higher than the number of unique Ids"
   ]
  },
  {
   "cell_type": "code",
   "execution_count": 9,
   "metadata": {},
   "outputs": [
    {
     "name": "stdout",
     "output_type": "stream",
     "text": [
      "The number of unique ItemId is 1606, the max ItemId is 1681\n",
      "The number of unique UserId is 943, the max UserId is 943\n"
     ]
    }
   ],
   "source": [
    "print(\"The number of unique ItemId is {}, the max ItemId is {}\".\n",
    "      format(numItems, URM_training.map(lambda x: int(x[1])).max()))\n",
    "\n",
    "print(\"The number of unique UserId is {}, the max UserId is {}\".\n",
    "      format(numUsers, URM_training.map(lambda x: int(x[0])).max()))"
   ]
  },
  {
   "cell_type": "markdown",
   "metadata": {},
   "source": [
    "#### There are two possible solutions:\n",
    "* If the User/Item Id is alphanumeric you have to create your own numericId to be used as column/row index, defining a mapping that allows you to swich between the two as needed\n",
    "* If the User/Item Id is only numeric, you use that number as index in a sparse matrix. Never do this if the matrix is dense since it might increase its size substantially."
   ]
  },
  {
   "cell_type": "code",
   "execution_count": 22,
   "metadata": {
    "collapsed": true
   },
   "outputs": [],
   "source": [
    "shape = (URM_training.map(lambda x: int(x[0])).max()+1,\n",
    "         URM_training.map(lambda x: int(x[1])).max()+1)\n",
    "\n",
    "similarity = sps.coo_matrix((ratingList, (userList, itemList)), shape=shape)"
   ]
  },
  {
   "cell_type": "markdown",
   "metadata": {},
   "source": [
    "#### Let's look at what we created"
   ]
  },
  {
   "cell_type": "code",
   "execution_count": 23,
   "metadata": {},
   "outputs": [
    {
     "data": {
      "text/plain": [
       "<944x1682 sparse matrix of type '<class 'numpy.float64'>'\n",
       "\twith 59907 stored elements in COOrdinate format>"
      ]
     },
     "execution_count": 23,
     "metadata": {},
     "output_type": "execute_result"
    }
   ],
   "source": [
    "similarity"
   ]
  },
  {
   "cell_type": "markdown",
   "metadata": {},
   "source": [
    "#### Now we can compute the cosine similarity using the dot product"
   ]
  },
  {
   "cell_type": "code",
   "execution_count": 24,
   "metadata": {
    "collapsed": true
   },
   "outputs": [],
   "source": [
    "similarity = similarity.T.dot(similarity)\n"
   ]
  },
  {
   "cell_type": "markdown",
   "metadata": {},
   "source": [
    "#### We still have a sparse matrix"
   ]
  },
  {
   "cell_type": "code",
   "execution_count": 25,
   "metadata": {},
   "outputs": [
    {
     "data": {
      "text/plain": [
       "scipy.sparse.csr.csr_matrix"
      ]
     },
     "execution_count": 25,
     "metadata": {},
     "output_type": "execute_result"
    }
   ],
   "source": [
    "type(similarity)"
   ]
  },
  {
   "cell_type": "markdown",
   "metadata": {},
   "source": [
    "#### Now we zero-out the diagonal as it doesn't contain useful information"
   ]
  },
  {
   "cell_type": "code",
   "execution_count": 28,
   "metadata": {
    "collapsed": true
   },
   "outputs": [],
   "source": [
    "similarity = similarity.tocoo()\n",
    "\n",
    "similarity.setdiag(0.0)"
   ]
  },
  {
   "cell_type": "code",
   "execution_count": 29,
   "metadata": {},
   "outputs": [
    {
     "data": {
      "text/plain": [
       "<1682x1682 sparse matrix of type '<class 'numpy.float64'>'\n",
       "\twith 1398978 stored elements in COOrdinate format>"
      ]
     },
     "execution_count": 29,
     "metadata": {},
     "output_type": "execute_result"
    }
   ],
   "source": [
    "similarity"
   ]
  },
  {
   "cell_type": "markdown",
   "metadata": {},
   "source": [
    "#### Let's look at the content... Some cells are zero. Is it sparse?"
   ]
  },
  {
   "cell_type": "code",
   "execution_count": 30,
   "metadata": {},
   "outputs": [
    {
     "data": {
      "text/plain": [
       "array([[   0.,    0.,    0., ...,    0.,    0.,    0.],\n",
       "       [   0.,    0.,  536., ...,    0.,    0.,   12.],\n",
       "       [   0.,  536.,    0., ...,    0.,    0.,    0.],\n",
       "       ..., \n",
       "       [   0.,    0.,    0., ...,    0.,    6.,    0.],\n",
       "       [   0.,    0.,    0., ...,    6.,    0.,    0.],\n",
       "       [   0.,   12.,    0., ...,    0.,    0.,    0.]])"
      ]
     },
     "execution_count": 30,
     "metadata": {},
     "output_type": "execute_result"
    }
   ],
   "source": [
    "similarity.toarray()"
   ]
  },
  {
   "cell_type": "code",
   "execution_count": 31,
   "metadata": {},
   "outputs": [
    {
     "name": "stdout",
     "output_type": "stream",
     "text": [
      "Sparsity 50.55 %\n"
     ]
    }
   ],
   "source": [
    "print(\"Sparsity {:.2f} %\".format((1-(similarity.nnz/float(similarity.shape[0]*similarity.shape[1])))*100))"
   ]
  },
  {
   "cell_type": "markdown",
   "metadata": {},
   "source": [
    "#### Depending on the algorithm sometimes might be beneficial to store the similarity matrix in sparse format. This time we don't.\n",
    "\n",
    "#### Let's plot the values"
   ]
  },
  {
   "cell_type": "code",
   "execution_count": 32,
   "metadata": {},
   "outputs": [
    {
     "data": {
      "image/png": "[encoded data removed]",
      "text/plain": [
       "<matplotlib.figure.Figure at 0x7f62b3e55550>"
      ]
     },
     "metadata": {},
     "output_type": "display_data"
    }
   ],
   "source": [
    "import matplotlib.pyplot as pyplot\n",
    "\n",
    "similarity_list_rdd = sc.parallelize(similarity.data)\n",
    "\n",
    "data = similarity_list_rdd.takeOrdered(similarity_list_rdd.count(), key=lambda x: +float(x))\n",
    "\n",
    "pyplot.plot(data)\n",
    "pyplot.ylabel('Value')\n",
    "pyplot.xlabel('Item Index')\n",
    "pyplot.show()"
   ]
  },
  {
   "cell_type": "markdown",
   "metadata": {},
   "source": [
    "#### Alternatively we could use one of the built-in functions"
   ]
  },
  {
   "cell_type": "code",
   "execution_count": 33,
   "metadata": {},
   "outputs": [
    {
     "data": {
      "text/plain": [
       "<944x1682 sparse matrix of type '<class 'numpy.float64'>'\n",
       "\twith 59907 stored elements in COOrdinate format>"
      ]
     },
     "execution_count": 33,
     "metadata": {},
     "output_type": "execute_result"
    }
   ],
   "source": [
    "#from scipy.spatial import distance\n",
    "\n",
    "from sklearn.metrics import pairwise_distances\n",
    "\n",
    "similarity = sps.coo_matrix((ratingList, (userList, itemList)), shape=shape)\n",
    "\n",
    "similarity"
   ]
  },
  {
   "cell_type": "markdown",
   "metadata": {},
   "source": [
    "#### sklearn.metrics.pairwise_distances works with rows, so to obtain the distance of items we nees to transpose our URM\n",
    "\n",
    "#### Remember: similarity = 1-distance\n",
    "\n",
    "#### Unfortunately the resulting matrix is dense"
   ]
  },
  {
   "cell_type": "code",
   "execution_count": 34,
   "metadata": {},
   "outputs": [
    {
     "data": {
      "image/png": "[encoded data removed]",
      "text/plain": [
       "<matplotlib.figure.Figure at 0x7f62b1ee6748>"
      ]
     },
     "metadata": {},
     "output_type": "display_data"
    }
   ],
   "source": [
    "similarity_dense = 1-pairwise_distances(similarity.T, metric=\"cosine\")\n",
    "\n",
    "### zero-out the diagonal\n",
    "similarity_dense[np.arange(similarity_dense.shape[1]), np.arange(similarity_dense.shape[1])] = 0\n",
    "\n",
    "similarity_dense_rdd = sc.parallelize(similarity_dense)\n",
    "similarity_dense_rdd = similarity_dense_rdd.flatMap(lambda x: x.tolist())\n",
    "\n",
    "data = similarity_dense_rdd.filter(lambda x:x>0).takeOrdered(similarity_list_rdd.count(), key=lambda x: +float(x))\n",
    "\n",
    "\n",
    "pyplot.plot(data)\n",
    "pyplot.ylabel('Timestamp ')\n",
    "pyplot.xlabel('Item Index')\n",
    "pyplot.show()"
   ]
  },
  {
   "cell_type": "code",
   "execution_count": 35,
   "metadata": {},
   "outputs": [
    {
     "data": {
      "text/plain": [
       "array([[ 0.        ,  0.        ,  0.        , ...,  0.        ,\n",
       "         0.        ,  0.        ],\n",
       "       [ 0.        ,  0.        ,  0.27385639, ...,  0.        ,\n",
       "         0.        ,  0.06045359],\n",
       "       [ 0.        ,  0.27385639,  0.        , ...,  0.        ,\n",
       "         0.        ,  0.        ],\n",
       "       [ 0.        ,  0.17493302,  0.21163491, ...,  0.        ,\n",
       "         0.        ,  0.        ],\n",
       "       [ 0.        ,  0.2936804 ,  0.37827464, ...,  0.        ,\n",
       "         0.        ,  0.        ]])"
      ]
     },
     "execution_count": 35,
     "metadata": {},
     "output_type": "execute_result"
    }
   ],
   "source": [
    "similarity_dense[0:5]"
   ]
  },
  {
   "cell_type": "markdown",
   "metadata": {
    "collapsed": true
   },
   "source": [
    "#### It is apparent that we have a few of high similarities and a lot of low ones"
   ]
  },
  {
   "cell_type": "markdown",
   "metadata": {},
   "source": [
    "### Distributed\n",
    "\n",
    "#### We use Mllib distributed data structures, reference here <https://spark.apache.org/docs/2.1.0/mllib-data-types.html>\n",
    "\n",
    "#### from pyspark.mllib.linalg.distributed import\n",
    "* RowMatrix: A RowMatrix is a row-oriented distributed matrix without meaningful row indices, backed by an RDD of its rows, where each row is a local vector. \n",
    "* IndexedRowMatrix: An IndexedRowMatrix is similar to a RowMatrix but with meaningful row indices. It is backed by an RDD of indexed rows, so that each row is represented by its index (long-typed) and a local vector.\n",
    "* CoordinateMatrix: A CoordinateMatrix is a distributed matrix backed by an RDD of its entries. Each entry is a tuple of (i: Long, j: Long, value: Double), where i is the row index, j is the column index, and value is the entry value. A CoordinateMatrix should be used only when both dimensions of the matrix are huge and the matrix is very sparse.\n",
    "* BlockMatrix: A BlockMatrix is a distributed matrix backed by an RDD of MatrixBlocks, where a MatrixBlock is a tuple of ((Int, Int), Matrix), where the (Int, Int) is the index of the block, and Matrix is the sub-matrix at the given index with size rowsPerBlock x colsPerBlock. BlockMatrix supports methods such as add and multiply with another BlockMatrix.\n"
   ]
  },
  {
   "cell_type": "markdown",
   "metadata": {},
   "source": [
    "#### Now we want to be able to compute the similarity with pyspark, we use mllib to create a distributed sparse matrix.\n",
    "#### First we create all the entries"
   ]
  },
  {
   "cell_type": "code",
   "execution_count": 36,
   "metadata": {},
   "outputs": [
    {
     "data": {
      "text/plain": [
       "[MatrixEntry(244, 51, 2.0),\n",
       " MatrixEntry(253, 465, 5.0),\n",
       " MatrixEntry(305, 451, 3.0),\n",
       " MatrixEntry(286, 1014, 5.0),\n",
       " MatrixEntry(210, 40, 3.0),\n",
       " MatrixEntry(224, 29, 3.0),\n",
       " MatrixEntry(234, 1184, 2.0),\n",
       " MatrixEntry(167, 486, 4.0),\n",
       " MatrixEntry(291, 118, 2.0),\n",
       " MatrixEntry(102, 768, 2.0)]"
      ]
     },
     "execution_count": 36,
     "metadata": {},
     "output_type": "execute_result"
    }
   ],
   "source": [
    "from pyspark.mllib.linalg.distributed import CoordinateMatrix, MatrixEntry\n",
    "\n",
    "MatrixEntry_rdd = URM_training.map(lambda x: MatrixEntry(int(x[0]),int(x[1]),float(x[2])))\n",
    "\n",
    "MatrixEntry_rdd.take(10)"
   ]
  },
  {
   "cell_type": "markdown",
   "metadata": {},
   "source": [
    "#### Once we have all the entries we can create a Coordinate Matrix\n",
    "#### The Coordinate Matrix doesn't support any matrix operaton but Transpose. So we build a BlockMatrix, which does"
   ]
  },
  {
   "cell_type": "code",
   "execution_count": 37,
   "metadata": {},
   "outputs": [
    {
     "data": {
      "text/plain": [
       "<pyspark.mllib.linalg.distributed.BlockMatrix at 0x7f62b08f2f60>"
      ]
     },
     "execution_count": 37,
     "metadata": {},
     "output_type": "execute_result"
    }
   ],
   "source": [
    "from pyspark.sql import SparkSession\n",
    "spark = SparkSession(sc)\n",
    "\n",
    "\n",
    "matrix = CoordinateMatrix(MatrixEntry_rdd)\n",
    "\n",
    "matrix = matrix.toBlockMatrix()\n",
    "\n",
    "matrix"
   ]
  },
  {
   "cell_type": "markdown",
   "metadata": {},
   "source": [
    "#### We compute the similarity and go back to CoordinateMatrix to see the results"
   ]
  },
  {
   "cell_type": "code",
   "execution_count": 133,
   "metadata": {},
   "outputs": [
    {
     "data": {
      "text/plain": [
       "[MatrixEntry(1, 1, 0.0),\n",
       " MatrixEntry(2, 1, 536.0),\n",
       " MatrixEntry(3, 1, 257.0),\n",
       " MatrixEntry(4, 1, 778.0),\n",
       " MatrixEntry(5, 1, 241.0),\n",
       " MatrixEntry(6, 1, 82.0),\n",
       " MatrixEntry(7, 1, 1357.0),\n",
       " MatrixEntry(8, 1, 910.0),\n",
       " MatrixEntry(9, 1, 1164.0),\n",
       " MatrixEntry(10, 1, 307.0)]"
      ]
     },
     "execution_count": 133,
     "metadata": {},
     "output_type": "execute_result"
    }
   ],
   "source": [
    "similarity_distributed = matrix.transpose().multiply(matrix)\n",
    "\n",
    "similarity_distributed = similarity_distributed.toCoordinateMatrix()\n",
    "\n",
    "### zero-out the diagonal\n",
    "similarity_distributed = similarity_distributed.entries.map(lambda x: MatrixEntry(x.i, x.j, 0) if (x.i==x.j) else x)\n",
    "\n",
    "similarity_display = similarity_distributed\n",
    "similarity_distributed = CoordinateMatrix(similarity_distributed).toBlockMatrix()\n",
    "\n",
    "similarity_display.take(10)"
   ]
  },
  {
   "cell_type": "code",
   "execution_count": 39,
   "metadata": {},
   "outputs": [
    {
     "data": {
      "image/png": "[encoded data removed]",
      "text/plain": [
       "<matplotlib.figure.Figure at 0x7f62b09ff080>"
      ]
     },
     "metadata": {},
     "output_type": "display_data"
    }
   ],
   "source": [
    "\n",
    "data = similarity_display.map(lambda x: x.value).takeOrdered(similarity_display.count()**2, key=lambda x: +float(x))\n",
    "\n",
    "pyplot.plot(data)\n",
    "pyplot.ylabel('Timestamp ')\n",
    "pyplot.xlabel('Item Index')\n",
    "pyplot.show()"
   ]
  },
  {
   "cell_type": "markdown",
   "metadata": {},
   "source": [
    "#### Similarities are not between [0,1] but that is not a problem since we are not trying to predict the rating and normalization would only change the scale, not the relative ordering\n",
    "\n",
    "#### The recommendations will be based upon the ratings the user provided, wheighted with respect to the similarity of the items.\n",
    "\n",
    "#### First we get the user interactions"
   ]
  },
  {
   "cell_type": "code",
   "execution_count": 45,
   "metadata": {},
   "outputs": [
    {
     "name": "stdout",
     "output_type": "stream",
     "text": [
      "User 42 saw 111 items, some of them are: ['423', '546', '274', '44', '1028', '625', '98', '953', '685', '195']\n"
     ]
    }
   ],
   "source": [
    "userSeenItems = URM_training.map(lambda x: (x[0], [x[1]])).reduceByKey(lambda x,y : x + y)\n",
    "\n",
    "userSeenItems_dict = userSeenItems.collectAsMap()\n",
    "\n",
    "user_id = \"42\"\n",
    "print(\"User {} saw {} items, some of them are: {}\".\n",
    "      format(user_id, len(userSeenItems_dict[user_id]), userSeenItems_dict[user_id][0:10]))"
   ]
  },
  {
   "cell_type": "code",
   "execution_count": 46,
   "metadata": {},
   "outputs": [
    {
     "data": {
      "text/plain": [
       "[('451', '3'),\n",
       " ('118', '2'),\n",
       " ('432', '2'),\n",
       " ('196', '5'),\n",
       " ('679', '2'),\n",
       " ('423', '5'),\n",
       " ('219', '4'),\n",
       " ('15', '3'),\n",
       " ('54', '3'),\n",
       " ('685', '3')]"
      ]
     },
     "execution_count": 46,
     "metadata": {},
     "output_type": "execute_result"
    }
   ],
   "source": [
    "user_profile = URM_training.filter(lambda x: x[1] in userSeenItems_dict[user_id]).map(lambda x: (x[1], x[2]))\n",
    "\n",
    "user_profile.take(10)"
   ]
  },
  {
   "cell_type": "markdown",
   "metadata": {},
   "source": [
    "#### We create a CoordinateMatrix of one row and numItems columns. It is efficient tu add one row for each user we have in our test-set"
   ]
  },
  {
   "cell_type": "code",
   "execution_count": 47,
   "metadata": {},
   "outputs": [
    {
     "data": {
      "text/plain": [
       "[MatrixEntry(0, 451, 3.0),\n",
       " MatrixEntry(0, 118, 2.0),\n",
       " MatrixEntry(0, 432, 2.0),\n",
       " MatrixEntry(0, 196, 5.0),\n",
       " MatrixEntry(0, 679, 2.0),\n",
       " MatrixEntry(0, 423, 5.0),\n",
       " MatrixEntry(0, 219, 4.0),\n",
       " MatrixEntry(0, 15, 3.0),\n",
       " MatrixEntry(0, 54, 3.0),\n",
       " MatrixEntry(0, 685, 3.0)]"
      ]
     },
     "execution_count": 47,
     "metadata": {},
     "output_type": "execute_result"
    }
   ],
   "source": [
    "user_profile = CoordinateMatrix(user_profile.map(lambda x: MatrixEntry(0, x[0], x[1])), numRows=1, numCols=similarity_distributed.numCols())\n",
    "\n",
    "user_profile.entries.take(10)"
   ]
  },
  {
   "cell_type": "markdown",
   "metadata": {},
   "source": [
    "#### The score of the items is the product of the userProfile and the similarity matrix"
   ]
  },
  {
   "cell_type": "code",
   "execution_count": 131,
   "metadata": {},
   "outputs": [
    {
     "data": {
      "text/plain": [
       "[MatrixEntry(0, 1, 41241976.0),\n",
       " MatrixEntry(0, 2, 15251938.0),\n",
       " MatrixEntry(0, 3, 6832330.0),\n",
       " MatrixEntry(0, 4, 24302426.0),\n",
       " MatrixEntry(0, 5, 9792319.0),\n",
       " MatrixEntry(0, 6, 1729189.0),\n",
       " MatrixEntry(0, 7, 32301402.0),\n",
       " MatrixEntry(0, 8, 27028519.0),\n",
       " MatrixEntry(0, 9, 26440737.0),\n",
       " MatrixEntry(0, 10, 7892856.0)]"
      ]
     },
     "execution_count": 131,
     "metadata": {},
     "output_type": "execute_result"
    }
   ],
   "source": [
    "itemsScore = user_profile.toBlockMatrix().multiply(similarity_distributed)\n",
    "\n",
    "itemsScore.toCoordinateMatrix().entries.take(10)"
   ]
  },
  {
   "cell_type": "markdown",
   "metadata": {},
   "source": [
    "#### Now, having the item scores, we select the best ones"
   ]
  },
  {
   "cell_type": "code",
   "execution_count": 52,
   "metadata": {},
   "outputs": [
    {
     "data": {
      "text/plain": [
       "[(50, 54955181.0),\n",
       " (181, 51840127.0),\n",
       " (174, 51247363.0),\n",
       " (100, 49100589.0),\n",
       " (98, 45342034.0),\n",
       " (172, 43850697.0),\n",
       " (204, 41847670.0),\n",
       " (1, 41241976.0),\n",
       " (79, 40602814.0),\n",
       " (210, 40221818.0)]"
      ]
     },
     "execution_count": 52,
     "metadata": {},
     "output_type": "execute_result"
    }
   ],
   "source": [
    "itemsToRecommendOrdered = itemsScore.toCoordinateMatrix().entries.map(lambda x: (x.j, x.value)). \\\n",
    "                            takeOrdered(10, key=lambda x: -float(x[1]))\n",
    "\n",
    "itemsToRecommendOrdered"
   ]
  },
  {
   "cell_type": "markdown",
   "metadata": {},
   "source": [
    "### There is now some room for improvement. As we saw, most of the similarities are small. Which means that a lot of noise is being added to our result. What if we could avoid it?\n",
    "\n",
    "### The answer is to filter the similarities, but how? We have two possibilities:\n",
    "* Minimum threshold\n",
    "* Top K\n",
    "\n",
    "#### Defining a threshold is simple, however has some major drawbacks. First the value of the threshold depends significantly from the distribution of similarities, therefore from the data. Moreover, the number of similar items/users might vary greatly, in an extreme case there might be zero.\n",
    "\n",
    "#### Top K is much more flexible and robust, the idea is to keep only the K most similar item/users. This is our choice"
   ]
  },
  {
   "cell_type": "code",
   "execution_count": 53,
   "metadata": {},
   "outputs": [
    {
     "data": {
      "text/plain": [
       "[(2, 1, 536.0),\n",
       " (3, 1, 257.0),\n",
       " (4, 1, 778.0),\n",
       " (5, 1, 241.0),\n",
       " (6, 1, 82.0),\n",
       " (7, 1, 1357.0),\n",
       " (8, 1, 910.0),\n",
       " (9, 1, 1164.0),\n",
       " (10, 1, 307.0),\n",
       " (11, 1, 748.0)]"
      ]
     },
     "execution_count": 53,
     "metadata": {},
     "output_type": "execute_result"
    }
   ],
   "source": [
    "similarity_distributed_topK = similarity_distributed.toCoordinateMatrix()\n",
    "\n",
    "similarity_distributed_topK = similarity_distributed_topK.entries.map(lambda x: (x.i, x.j, x.value))\n",
    "\n",
    "similarity_distributed_topK.take(10)"
   ]
  },
  {
   "cell_type": "markdown",
   "metadata": {},
   "source": [
    "#### The code below selects the topK similar items for each item. It is veryvery slow mainly because it doesn't exploit parallelism sensibly and it is sequential"
   ]
  },
  {
   "cell_type": "code",
   "execution_count": 135,
   "metadata": {},
   "outputs": [
    {
     "name": "stdout",
     "output_type": "stream",
     "text": [
      "2\n",
      "4\n",
      "6\n",
      "8\n",
      "10\n"
     ]
    }
   ],
   "source": [
    "k_value = 20\n",
    "itemList = URM_training.map(lambda x: int(x[1])).distinct().collect()\n",
    "\n",
    "similarity_distributed_topK_list = []\n",
    "\n",
    "for itemId in itemList[0:5]:\n",
    "    \n",
    "    topK = similarity_distributed_topK.filter(lambda x: x[0]==itemId).takeOrdered(k_value, key=lambda x: -x[2])\n",
    "\n",
    "    similarity_distributed_topK_list.extend(topK)\n",
    "    print(itemId)\n",
    "\n",
    "similarity_distributed_topK_rdd = sc.parallelize(similarity_distributed_topK_list)    "
   ]
  },
  {
   "cell_type": "code",
   "execution_count": 55,
   "metadata": {},
   "outputs": [
    {
     "data": {
      "text/plain": [
       "[(2, 174, 791.0),\n",
       " (2, 181, 690.0),\n",
       " (2, 50, 682.0),\n",
       " (2, 100, 616.0),\n",
       " (2, 79, 615.0),\n",
       " (2, 210, 614.0),\n",
       " (2, 228, 586.0),\n",
       " (2, 64, 561.0),\n",
       " (2, 98, 544.0),\n",
       " (2, 176, 538.0)]"
      ]
     },
     "execution_count": 55,
     "metadata": {},
     "output_type": "execute_result"
    }
   ],
   "source": [
    "similarity_distributed_topK_rdd.take(10)"
   ]
  },
  {
   "cell_type": "markdown",
   "metadata": {},
   "source": [
    "#### We build a custom function that selects the topK for each item. As we cannot use other RDDs in our functions we precompute the necessary data"
   ]
  },
  {
   "cell_type": "code",
   "execution_count": 56,
   "metadata": {
    "collapsed": true
   },
   "outputs": [],
   "source": [
    "similarity_distributed = similarity_distributed.toCoordinateMatrix()\n",
    "\n",
    "rowList = similarity_distributed.entries.map(lambda x: x.i).collect()\n",
    "columnList = similarity_distributed.entries.map(lambda x: x.j).collect()\n",
    "ratingList = similarity_distributed.entries.map(lambda x: x.value).collect()\n",
    "\n",
    "numItems = similarity_distributed.numRows()\n",
    "\n",
    "shape = (numItems+1, numItems+1)\n",
    "\n",
    "similarity = sps.csc_matrix((ratingList, (rowList, columnList)), shape=shape)\n"
   ]
  },
  {
   "cell_type": "code",
   "execution_count": 57,
   "metadata": {},
   "outputs": [
    {
     "data": {
      "text/plain": [
       "<1683x1683 sparse matrix of type '<class 'numpy.float64'>'\n",
       "\twith 1397296 stored elements in Compressed Sparse Column format>"
      ]
     },
     "execution_count": 57,
     "metadata": {},
     "output_type": "execute_result"
    }
   ],
   "source": [
    "similarity"
   ]
  },
  {
   "cell_type": "markdown",
   "metadata": {},
   "source": [
    "#### In a local implementation we would do something like this"
   ]
  },
  {
   "cell_type": "code",
   "execution_count": 97,
   "metadata": {
    "collapsed": true
   },
   "outputs": [],
   "source": [
    "values, rows, cols = [], [], []\n",
    "\n",
    "for itemId in itemList:\n",
    "    \n",
    "    ### We take the row we need and transform it in a dense array\n",
    "    currentItemSimilarity = similarity[itemId].toarray().ravel()\n",
    "    \n",
    "    idx_sorted = np.argsort(currentItemSimilarity)\n",
    "    \n",
    "    top_k_idx = idx_sorted[-k_value:]\n",
    "    \n",
    "    values.extend(currentItemSimilarity[top_k_idx])\n",
    "    rows.extend(np.arange(numItems+1)[top_k_idx])\n",
    "    cols.extend(np.ones(k_value) * itemId)\n",
    "\n",
    "similarity_topK = sps.coo_matrix((values, (rows, cols)), shape=(numItems+1, numItems+1), dtype=np.float32)"
   ]
  },
  {
   "cell_type": "code",
   "execution_count": 98,
   "metadata": {},
   "outputs": [
    {
     "data": {
      "text/plain": [
       "<1683x1683 sparse matrix of type '<class 'numpy.float32'>'\n",
       "\twith 32120 stored elements in COOrdinate format>"
      ]
     },
     "execution_count": 98,
     "metadata": {},
     "output_type": "execute_result"
    }
   ],
   "source": [
    "similarity_topK"
   ]
  },
  {
   "cell_type": "markdown",
   "metadata": {},
   "source": [
    "#### Which in mapreduce terms becomes something of the sort..."
   ]
  },
  {
   "cell_type": "code",
   "execution_count": 125,
   "metadata": {
    "collapsed": true
   },
   "outputs": [],
   "source": [
    "itemList_rdd = sc.parallelize(itemList)\n",
    "\n",
    "\n",
    "def selectUserTopK (itemId):\n",
    "    \n",
    "    ### We take the row we need and transform it in a dense array\n",
    "    currentItemSimilarity = similarity[itemId].toarray().ravel()\n",
    "    \n",
    "    idx_sorted = np.argsort(currentItemSimilarity)\n",
    "    \n",
    "    top_k_idx = idx_sorted[-k_value:]\n",
    "\n",
    "    values = currentItemSimilarity[top_k_idx]\n",
    "    \n",
    "    rows = np.arange(numItems+1)[top_k_idx]\n",
    "    \n",
    "    cols = np.ones(k_value, dtype=np.int32) * itemId\n",
    "    \n",
    "    return list(zip(rows, cols, values))\n",
    "\n",
    "\n"
   ]
  },
  {
   "cell_type": "code",
   "execution_count": 126,
   "metadata": {},
   "outputs": [
    {
     "data": {
      "text/plain": [
       "[(493, 1681, 15.0),\n",
       " (50, 1681, 15.0),\n",
       " (22, 1681, 15.0),\n",
       " (98, 1681, 15.0),\n",
       " (96, 1681, 15.0),\n",
       " (134, 1681, 15.0),\n",
       " (89, 1681, 15.0),\n",
       " (88, 1681, 15.0),\n",
       " (83, 1681, 15.0),\n",
       " (79, 1681, 15.0),\n",
       " (705, 1681, 15.0),\n",
       " (176, 1681, 15.0),\n",
       " (180, 1681, 15.0),\n",
       " (190, 1681, 15.0),\n",
       " (237, 1681, 15.0),\n",
       " (258, 1681, 15.0),\n",
       " (327, 1681, 15.0),\n",
       " (588, 1681, 15.0),\n",
       " (525, 1681, 15.0),\n",
       " (241, 1681, 15.0)]"
      ]
     },
     "execution_count": 126,
     "metadata": {},
     "output_type": "execute_result"
    }
   ],
   "source": [
    "selectUserTopK (itemId)"
   ]
  },
  {
   "cell_type": "markdown",
   "metadata": {},
   "source": [
    "#### To conclude we use a flatMap to map each item to its K most similar items"
   ]
  },
  {
   "cell_type": "code",
   "execution_count": 136,
   "metadata": {},
   "outputs": [
    {
     "data": {
      "text/plain": [
       "[(183, 2, 496.0),\n",
       " (168, 2, 504.0),\n",
       " (127, 2, 511.0),\n",
       " (173, 2, 514.0),\n",
       " (11, 2, 521.0),\n",
       " (172, 2, 524.0),\n",
       " (195, 2, 525.0),\n",
       " (96, 2, 529.0),\n",
       " (22, 2, 531.0),\n",
       " (1, 2, 536.0)]"
      ]
     },
     "execution_count": 136,
     "metadata": {},
     "output_type": "execute_result"
    }
   ],
   "source": [
    "itemList_rdd = sc.parallelize(itemList)\n",
    "\n",
    "similarity_topK_rdd = itemList_rdd.flatMap(selectUserTopK)\n",
    "\n",
    "similarity_topK_rdd.take(10)"
   ]
  },
  {
   "cell_type": "markdown",
   "metadata": {},
   "source": [
    "#### And re rebuild our distributed similarity matrix"
   ]
  },
  {
   "cell_type": "code",
   "execution_count": 129,
   "metadata": {},
   "outputs": [
    {
     "data": {
      "text/plain": [
       "[MatrixEntry(183, 2, 496.0),\n",
       " MatrixEntry(168, 2, 504.0),\n",
       " MatrixEntry(127, 2, 511.0),\n",
       " MatrixEntry(173, 2, 514.0),\n",
       " MatrixEntry(11, 2, 521.0),\n",
       " MatrixEntry(172, 2, 524.0),\n",
       " MatrixEntry(195, 2, 525.0),\n",
       " MatrixEntry(96, 2, 529.0),\n",
       " MatrixEntry(22, 2, 531.0),\n",
       " MatrixEntry(1, 2, 536.0)]"
      ]
     },
     "execution_count": 129,
     "metadata": {},
     "output_type": "execute_result"
    }
   ],
   "source": [
    "MatrixEntry_rdd = similarity_topK_rdd.map(lambda x: MatrixEntry(int(x[0]),int(x[1]),float(x[2])))\n",
    "\n",
    "similarity_distributed_topK_rdd = CoordinateMatrix(MatrixEntry_rdd)\n",
    "\n",
    "similarity_distributed_topK_rdd.entries.take(10)"
   ]
  },
  {
   "cell_type": "code",
   "execution_count": null,
   "metadata": {
    "collapsed": true
   },
   "outputs": [],
   "source": []
  }
 ],
 "metadata": {
  "kernelspec": {
   "display_name": "Python 3",
   "language": "python",
   "name": "python3"
  },
  "language_info": {
   "codemirror_mode": {
    "name": "ipython",
    "version": 3
   },
   "file_extension": ".py",
   "mimetype": "text/x-python",
   "name": "python",
   "nbconvert_exporter": "python",
   "pygments_lexer": "ipython3",
   "version": "3.5.2"
  }
 },
 "nbformat": 4,
 "nbformat_minor": 1
}
