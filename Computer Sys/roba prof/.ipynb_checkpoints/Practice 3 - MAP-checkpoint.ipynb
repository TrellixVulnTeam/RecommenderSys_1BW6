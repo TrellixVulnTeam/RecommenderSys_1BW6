{
 "cells": [
  {
   "cell_type": "markdown",
   "metadata": {},
   "source": [
    "# Computer Systems 2016/17\n",
    "\n",
    "### Practice 3 - MAP"
   ]
  },
  {
   "cell_type": "code",
   "execution_count": 1,
   "metadata": {
    "collapsed": true
   },
   "outputs": [],
   "source": [
    "import pyspark\n",
    "sc = pyspark.SparkContext('local[*]')"
   ]
  },
  {
   "cell_type": "code",
   "execution_count": 2,
   "metadata": {
    "collapsed": true
   },
   "outputs": [],
   "source": [
    "from urllib.request import urlretrieve\n",
    "import zipfile"
   ]
  },
  {
   "cell_type": "code",
   "execution_count": 3,
   "metadata": {},
   "outputs": [
    {
     "data": {
      "text/plain": [
       "('ml-100k.zip', <http.client.HTTPMessage at 0x7ffb6062aac8>)"
      ]
     },
     "execution_count": 3,
     "metadata": {},
     "output_type": "execute_result"
    }
   ],
   "source": [
    "urlretrieve (\"http://files.grouplens.org/datasets/movielens/ml-100k.zip\", \"ml-100k.zip\")"
   ]
  },
  {
   "cell_type": "code",
   "execution_count": 4,
   "metadata": {},
   "outputs": [
    {
     "data": {
      "text/plain": [
       "[('196', '242', '3', '881250949'),\n",
       " ('186', '302', '3', '891717742'),\n",
       " ('22', '377', '1', '878887116'),\n",
       " ('244', '51', '2', '880606923'),\n",
       " ('166', '346', '1', '886397596'),\n",
       " ('298', '474', '4', '884182806'),\n",
       " ('115', '265', '2', '881171488'),\n",
       " ('253', '465', '5', '891628467'),\n",
       " ('305', '451', '3', '886324817'),\n",
       " ('6', '86', '3', '883603013')]"
      ]
     },
     "execution_count": 4,
     "metadata": {},
     "output_type": "execute_result"
    }
   ],
   "source": [
    "dataFile = zipfile.ZipFile(\"ml-100k.zip\")\n",
    "\n",
    "URM_path = dataFile.extract(\"ml-100k/u.data\")\n",
    "URM = sc.textFile(URM_path)\n",
    "\n",
    "\n",
    "def rowSplit (rowString):\n",
    "    split = rowString.split(\"\\t\")\n",
    "    result = tuple(split)\n",
    "    return result\n",
    "\n",
    "\n",
    "URM_tuple = URM.map(rowSplit)\n",
    "\n",
    "URM_tuple.take(10)"
   ]
  },
  {
   "cell_type": "code",
   "execution_count": 5,
   "metadata": {},
   "outputs": [
    {
     "name": "stdout",
     "output_type": "stream",
     "text": [
      "Train tuples 60214, test tuples 39786\n"
     ]
    }
   ],
   "source": [
    "URM_training, URM_test = URM_tuple.randomSplit([0.6, 0.4])\n",
    "\n",
    "URM_tuple = None\n",
    "\n",
    "print(\"Train tuples {}, test tuples {}\".format(URM_training.count(), URM_test.count()))"
   ]
  },
  {
   "cell_type": "code",
   "execution_count": 6,
   "metadata": {},
   "outputs": [
    {
     "name": "stdout",
     "output_type": "stream",
     "text": [
      "User 42 saw 74 items, some of them are: ['274', '98', '953', '456', '143', '746', '48', '999', '781', '1043']\n"
     ]
    }
   ],
   "source": [
    "userRelevantItems = URM_test.map(lambda x: (x[0], [x[1]])).reduceByKey(lambda x,y : x + y)\n",
    "\n",
    "userRelevantItems_dict = userRelevantItems.collectAsMap()\n",
    "\n",
    "user_id = \"42\"\n",
    "print(\"User {} saw {} items, some of them are: {}\".\n",
    "      format(user_id, len(userRelevantItems_dict[user_id]), userRelevantItems_dict[user_id][0:10]))"
   ]
  },
  {
   "cell_type": "markdown",
   "metadata": {},
   "source": [
    "#### We implement a function calculating MAP given two lists\n",
    "* RankedList refers to the recommendations the user will receive\n",
    "* PositiveItems refers to the items in its test set"
   ]
  },
  {
   "cell_type": "code",
   "execution_count": 7,
   "metadata": {
    "collapsed": true
   },
   "outputs": [],
   "source": [
    "import numpy as np\n",
    "\n",
    "def map(RankedList, PositiveItems, at=None):\n",
    "    \"\"\"\n",
    "    Calculates MAP@__ \n",
    "    \"\"\"\n",
    "    \n",
    "    RankedList = RankedList[:at]\n",
    "    is_relevant = np.in1d(RankedList, PositiveItems, assume_unique=True)\n",
    "    \n",
    "    p_at_k = is_relevant * np.cumsum(is_relevant, dtype=np.float32) / (1 + np.arange(len(is_relevant)))\n",
    "    map_score = np.sum(p_at_k) / np.min([len(PositiveItems), len(RankedList)])\n",
    "    \n",
    "    assert 0 <= map_score <= 1, map_score\n",
    "    \n",
    "    return map_score\n"
   ]
  },
  {
   "cell_type": "markdown",
   "metadata": {},
   "source": [
    "#### Let's see how well a Random recommender performs"
   ]
  },
  {
   "cell_type": "code",
   "execution_count": 8,
   "metadata": {},
   "outputs": [
    {
     "data": {
      "text/plain": [
       "array([1437, 1426,  662,  725,  688, 1335, 1429, 1176,  654,  907])"
      ]
     },
     "execution_count": 8,
     "metadata": {},
     "output_type": "execute_result"
    }
   ],
   "source": [
    "trainingItemList = URM_training.map(lambda x: int(x[1])).distinct().collect()\n",
    "\n",
    "def recommendRandom (size=10):\n",
    "\n",
    "    #randomRecommendedItems = trainingItemList.takeSample(False, 10)\n",
    "    randomRecommendedItems = np.random.choice(trainingItemList, size=size)\n",
    "\n",
    "    return randomRecommendedItems\n",
    "\n",
    "\n",
    "recommendRandom ()"
   ]
  },
  {
   "cell_type": "code",
   "execution_count": 9,
   "metadata": {},
   "outputs": [
    {
     "data": {
      "text/plain": [
       "0.0"
      ]
     },
     "execution_count": 9,
     "metadata": {},
     "output_type": "execute_result"
    }
   ],
   "source": [
    "mapScore = 0\n",
    "\n",
    "mapScore += map(recommendRandom (), userRelevantItems_dict[user_id])\n",
    "\n",
    "mapScore"
   ]
  },
  {
   "cell_type": "markdown",
   "metadata": {},
   "source": [
    "#### We have to calculate the cumulative MAP for all users and then divide for their number"
   ]
  },
  {
   "cell_type": "code",
   "execution_count": 10,
   "metadata": {},
   "outputs": [
    {
     "data": {
      "text/plain": [
       "[2, 4, 6, 8, 10, 12, 14, 16, 18, 20]"
      ]
     },
     "execution_count": 10,
     "metadata": {},
     "output_type": "execute_result"
    }
   ],
   "source": [
    "userList_rdd = URM_training.map(lambda x: int(x[0])).distinct()\n",
    "\n",
    "userList_rdd.take(10)"
   ]
  },
  {
   "cell_type": "code",
   "execution_count": 11,
   "metadata": {},
   "outputs": [
    {
     "data": {
      "text/plain": [
       "[0.016666666666666666,\n",
       " 0.033333333333333333,\n",
       " 0.0,\n",
       " 0.0,\n",
       " 0.0,\n",
       " 0.0,\n",
       " 0.0,\n",
       " 0.0,\n",
       " 0.0,\n",
       " 0.0]"
      ]
     },
     "execution_count": 11,
     "metadata": {},
     "output_type": "execute_result"
    }
   ],
   "source": [
    "userList_rdd_map = userList_rdd.map(lambda x: map(recommendRandom (), userRelevantItems_dict[str(x)]))\n",
    "\n",
    "userList_rdd_map.take(10)"
   ]
  },
  {
   "cell_type": "code",
   "execution_count": 12,
   "metadata": {},
   "outputs": [
    {
     "name": "stdout",
     "output_type": "stream",
     "text": [
      "Overall MAP for a random recommender is 0.00872\n"
     ]
    }
   ],
   "source": [
    "testMAP = userList_rdd_map.sum()/userList_rdd_map.count()\n",
    "\n",
    "print(\"Overall MAP for a random recommender is {:.5f}\".format(testMAP))"
   ]
  },
  {
   "cell_type": "markdown",
   "metadata": {},
   "source": [
    "## MAP for TopPop"
   ]
  },
  {
   "cell_type": "code",
   "execution_count": 13,
   "metadata": {
    "collapsed": true
   },
   "outputs": [],
   "source": [
    "itemPopularity = URM_training.map(lambda x: (x[1],1))\n",
    "\n",
    "itemPopularity = itemPopularity.reduceByKey(lambda x,y : x+y)\n",
    "\n",
    "itemPopularity_sorted = itemPopularity.takeOrdered(itemPopularity.count(), key=lambda x: -x[1])\n",
    "\n",
    "\n",
    "\n",
    "def recommendTopPopRDDfree(user_id, numberOfItemsToRecommend = 10):\n",
    "    \n",
    "    ### Here we ignore the seenItems\n",
    "\n",
    "    recommendedList = itemPopularity_sorted\n",
    "    \n",
    "    return recommendedList[0:numberOfItemsToRecommend]"
   ]
  },
  {
   "cell_type": "code",
   "execution_count": 14,
   "metadata": {},
   "outputs": [
    {
     "data": {
      "text/plain": [
       "[0.2956501831501831,\n",
       " 0.28166666666666662,\n",
       " 0.089848484848484844,\n",
       " 0.050000000000000003,\n",
       " 0.048834498834498835,\n",
       " 0.020098039215686276,\n",
       " 0.24250626566416039,\n",
       " 0.025757575757575757,\n",
       " 0.25465201465201465,\n",
       " 0.15357142857142855]"
      ]
     },
     "execution_count": 14,
     "metadata": {},
     "output_type": "execute_result"
    }
   ],
   "source": [
    "userList_rdd_map = userList_rdd.map(lambda x: map(recommendTopPopRDDfree(user_id=str(x)), userRelevantItems_dict[str(x)]))\n",
    "\n",
    "userList_rdd_map.take(10)"
   ]
  },
  {
   "cell_type": "code",
   "execution_count": 15,
   "metadata": {},
   "outputs": [
    {
     "name": "stdout",
     "output_type": "stream",
     "text": [
      "Overall MAP for a TopPop recommender is 0.10125\n"
     ]
    }
   ],
   "source": [
    "testMAP = userList_rdd_map.sum()/userList_rdd_map.count()\n",
    "\n",
    "print(\"Overall MAP for a TopPop recommender is {:.5f}\".format(testMAP))"
   ]
  },
  {
   "cell_type": "code",
   "execution_count": null,
   "metadata": {
    "collapsed": true
   },
   "outputs": [],
   "source": []
  }
 ],
 "metadata": {
  "kernelspec": {
   "display_name": "Python 3",
   "language": "python",
   "name": "python3"
  },
  "language_info": {
   "codemirror_mode": {
    "name": "ipython",
    "version": 3
   },
   "file_extension": ".py",
   "mimetype": "text/x-python",
   "name": "python",
   "nbconvert_exporter": "python",
   "pygments_lexer": "ipython3",
   "version": "3.5.2"
  }
 },
 "nbformat": 4,
 "nbformat_minor": 2
}
