{
 "cells": [
  {
   "cell_type": "markdown",
   "metadata": {},
   "source": [
    "# Computer Systems 2016/17\n",
    "\n",
    "### Practice 6 - Machine learning, the easy way"
   ]
  },
  {
   "cell_type": "markdown",
   "metadata": {},
   "source": [
    "#### We will use the Movielens 100k dataset. We download it and uncompress the file we need"
   ]
  },
  {
   "cell_type": "code",
   "execution_count": 1,
   "metadata": {
    "collapsed": true
   },
   "outputs": [],
   "source": [
    "import pyspark\n",
    "sc = pyspark.SparkContext('local[*]')"
   ]
  },
  {
   "cell_type": "code",
   "execution_count": 2,
   "metadata": {
    "collapsed": true
   },
   "outputs": [],
   "source": [
    "from urllib.request import urlretrieve\n",
    "import zipfile"
   ]
  },
  {
   "cell_type": "code",
   "execution_count": 3,
   "metadata": {},
   "outputs": [
    {
     "data": {
      "text/plain": [
       "('ml-100k.zip', <http.client.HTTPMessage at 0x7f8df4b96b00>)"
      ]
     },
     "execution_count": 3,
     "metadata": {},
     "output_type": "execute_result"
    }
   ],
   "source": [
    "urlretrieve (\"http://files.grouplens.org/datasets/movielens/ml-100k.zip\", \"ml-100k.zip\")"
   ]
  },
  {
   "cell_type": "code",
   "execution_count": 4,
   "metadata": {},
   "outputs": [
    {
     "data": {
      "text/plain": [
       "[('196', '242', '3', '881250949'),\n",
       " ('186', '302', '3', '891717742'),\n",
       " ('22', '377', '1', '878887116'),\n",
       " ('244', '51', '2', '880606923'),\n",
       " ('166', '346', '1', '886397596'),\n",
       " ('298', '474', '4', '884182806'),\n",
       " ('115', '265', '2', '881171488'),\n",
       " ('253', '465', '5', '891628467'),\n",
       " ('305', '451', '3', '886324817'),\n",
       " ('6', '86', '3', '883603013')]"
      ]
     },
     "execution_count": 4,
     "metadata": {},
     "output_type": "execute_result"
    }
   ],
   "source": [
    "dataFile = zipfile.ZipFile(\"ml-100k.zip\")\n",
    "\n",
    "URM_path = dataFile.extract(\"ml-100k/u.data\")\n",
    "URM = sc.textFile(URM_path)\n",
    "\n",
    "\n",
    "def rowSplit (rowString):\n",
    "    split = rowString.split(\"\\t\")\n",
    "    result = tuple(split)\n",
    "    return result\n",
    "\n",
    "\n",
    "URM_tuple = URM.map(rowSplit)\n",
    "\n",
    "URM_tuple.take(10)"
   ]
  },
  {
   "cell_type": "markdown",
   "metadata": {},
   "source": [
    "## Collaborative filtering with Matrix Fatorization\n",
    "\n",
    "#### Available in Spark within the Alternating Least Squares module <https://spark.apache.org/docs/latest/mllib-collaborative-filtering.html>\n",
    "\n",
    "#### The implementation in spark.mllib has the following parameters:\n",
    "\n",
    "* *numBlocks* is the number of blocks used to parallelize computation (set to -1 to auto-configure).\n",
    "* **rank** is the number of latent factors in the model.\n",
    "* **iterations** is the number of iterations of ALS to run. ALS typically converges to a reasonable solution in 20 iterations or less.\n",
    "* *lambda* specifies the regularization parameter in ALS.\n",
    "* *implicitPrefs* specifies whether to use the explicit feedback ALS variant or one adapted for implicit feedback data.\n",
    "* *alpha* is a parameter applicable to the implicit feedback variant of ALS that governs the baseline confidence in preference observations.\n",
    "\n",
    "#### The number of latent factors and the number of iterations are among the most important parameters to choose"
   ]
  },
  {
   "cell_type": "code",
   "execution_count": 5,
   "metadata": {},
   "outputs": [
    {
     "name": "stdout",
     "output_type": "stream",
     "text": [
      "Train tuples 59957, test tuples 40043\n"
     ]
    }
   ],
   "source": [
    "URM_train, URM_test = URM_tuple.randomSplit([0.6, 0.4])\n",
    "\n",
    "URM_tuple = None\n",
    "\n",
    "print(\"Train tuples {}, test tuples {}\".format(URM_train.count(), URM_test.count()))"
   ]
  },
  {
   "cell_type": "markdown",
   "metadata": {},
   "source": [
    "#### Fist thing we transform the URM in an RDD made of Rating objects, a tuple similar to MatrixEntry"
   ]
  },
  {
   "cell_type": "code",
   "execution_count": 6,
   "metadata": {},
   "outputs": [
    {
     "data": {
      "text/plain": [
       "[Rating(user=298, product=474, rating=4.0),\n",
       " Rating(user=305, product=451, rating=3.0),\n",
       " Rating(user=286, product=1014, rating=5.0),\n",
       " Rating(user=200, product=222, rating=5.0),\n",
       " Rating(user=210, product=40, rating=3.0),\n",
       " Rating(user=224, product=29, rating=3.0),\n",
       " Rating(user=122, product=387, rating=5.0),\n",
       " Rating(user=194, product=274, rating=2.0),\n",
       " Rating(user=291, product=1042, rating=4.0),\n",
       " Rating(user=234, product=1184, rating=2.0)]"
      ]
     },
     "execution_count": 6,
     "metadata": {},
     "output_type": "execute_result"
    }
   ],
   "source": [
    "from pyspark.mllib.recommendation import ALS, MatrixFactorizationModel, Rating\n",
    "\n",
    "\n",
    "URM_train_rating = URM_train.map(lambda x: Rating(int(x[0]),int(x[1]),float(x[2])))\n",
    "\n",
    "URM_train_rating.take(10)"
   ]
  },
  {
   "cell_type": "markdown",
   "metadata": {},
   "source": [
    "#### We choose the parameters and train the model"
   ]
  },
  {
   "cell_type": "code",
   "execution_count": 7,
   "metadata": {},
   "outputs": [
    {
     "name": "stdout",
     "output_type": "stream",
     "text": [
      "Training the model took 2.77 sec\n"
     ]
    }
   ],
   "source": [
    "import time\n",
    "\n",
    "rank = 10\n",
    "numIterations = 10\n",
    "\n",
    "start_time = time.time()\n",
    "\n",
    "model = ALS.train(URM_train_rating, rank, numIterations)\n",
    "\n",
    "print(\"Training the model took {:.2f} sec\".format(time.time()-start_time))"
   ]
  },
  {
   "cell_type": "markdown",
   "metadata": {},
   "source": [
    "#### Then we test the model, providing as imput a user-item tuple\n",
    "\n",
    "#### First we calculate the predictions, then we compare them with the test data"
   ]
  },
  {
   "cell_type": "code",
   "execution_count": 8,
   "metadata": {},
   "outputs": [
    {
     "data": {
      "text/plain": [
       "[Rating(user=894, product=1080, rating=2.120294327931365),\n",
       " Rating(user=264, product=320, rating=2.8265741074043778),\n",
       " Rating(user=896, product=320, rating=4.257202629535986),\n",
       " Rating(user=592, product=320, rating=5.946216943460995),\n",
       " Rating(user=385, product=320, rating=3.992996427523525),\n",
       " Rating(user=3, product=320, rating=1.687231568703551),\n",
       " Rating(user=118, product=320, rating=4.82193945412069),\n",
       " Rating(user=399, product=320, rating=2.084204194666195),\n",
       " Rating(user=105, product=752, rating=0.6791759304968652),\n",
       " Rating(user=713, product=752, rating=5.043054562947763)]"
      ]
     },
     "execution_count": 8,
     "metadata": {},
     "output_type": "execute_result"
    }
   ],
   "source": [
    "\n",
    "URM_test_rating = URM_test.map(lambda x: Rating(int(x[0]),int(x[1]),float(x[2])))\n",
    "URM_test_user_item = URM_test.map(lambda x: (int(x[0]),int(x[1])))\n",
    "\n",
    "\n",
    "predictions = model.predictAll(URM_test_user_item)\n",
    "\n",
    "predictions.take(10)"
   ]
  },
  {
   "cell_type": "code",
   "execution_count": 9,
   "metadata": {},
   "outputs": [
    {
     "data": {
      "text/plain": [
       "[((360, 14), (5.0, 4.840680389959639)),\n",
       " ((780, 204), (5.0, 4.99273908224472)),\n",
       " ((87, 229), (4.0, 3.7359385747912377)),\n",
       " ((18, 428), (3.0, 4.189445722828491)),\n",
       " ((621, 577), (3.0, 2.8200537886057258)),\n",
       " ((292, 1010), (4.0, 3.1676952687709914)),\n",
       " ((42, 294), (4.0, 3.2563019592193942)),\n",
       " ((63, 591), (3.0, 2.5560640140179802)),\n",
       " ((11, 663), (4.0, 4.017237344838366)),\n",
       " ((102, 546), (3.0, 2.091301735481079))]"
      ]
     },
     "execution_count": 9,
     "metadata": {},
     "output_type": "execute_result"
    }
   ],
   "source": [
    "predictions = predictions.map(lambda r: ((r[0], r[1]), r[2]))\n",
    "\n",
    "ratesAndPreds = URM_test_rating.map(lambda r: ((r[0], r[1]), r[2])).join(predictions)\n",
    "\n",
    "ratesAndPreds.take(10)"
   ]
  },
  {
   "cell_type": "code",
   "execution_count": 10,
   "metadata": {},
   "outputs": [
    {
     "name": "stdout",
     "output_type": "stream",
     "text": [
      "Mean Squared Error = 1.3857322529425993\n"
     ]
    }
   ],
   "source": [
    "MSE = ratesAndPreds.map(lambda r: (r[1][0] - r[1][1])**2).mean()\n",
    "\n",
    "print(\"Mean Squared Error = \" + str(MSE))"
   ]
  },
  {
   "cell_type": "markdown",
   "metadata": {},
   "source": [
    "#### Our task however is not rating prediction, but top-n recommendation, we need to use a different function\n",
    "#### See the source code with all available functions here <http://spark.apache.org/docs/1.6.0/api/python/_modules/pyspark/mllib/recommendation.html#MatrixFactorizationModel.recommendProducts>"
   ]
  },
  {
   "cell_type": "code",
   "execution_count": 11,
   "metadata": {},
   "outputs": [
    {
     "data": {
      "text/plain": [
       "[Rating(user=42, product=583, rating=6.848328685822787),\n",
       " Rating(user=42, product=1419, rating=6.587761534607403),\n",
       " Rating(user=42, product=593, rating=6.521754189261017),\n",
       " Rating(user=42, product=836, rating=6.270106924046066),\n",
       " Rating(user=42, product=110, rating=6.061204362310587),\n",
       " Rating(user=42, product=41, rating=5.927926246717579),\n",
       " Rating(user=42, product=51, rating=5.8909234592431705),\n",
       " Rating(user=42, product=426, rating=5.860618436444384),\n",
       " Rating(user=42, product=960, rating=5.808374916139439),\n",
       " Rating(user=42, product=502, rating=5.772652649756662)]"
      ]
     },
     "execution_count": 11,
     "metadata": {},
     "output_type": "execute_result"
    }
   ],
   "source": [
    "user_id = 42\n",
    "n=10\n",
    "\n",
    "singleUserRecommendation = model.recommendProducts(user_id, n)\n",
    "\n",
    "singleUserRecommendation"
   ]
  },
  {
   "cell_type": "markdown",
   "metadata": {},
   "source": [
    "#### Or alternatively"
   ]
  },
  {
   "cell_type": "code",
   "execution_count": 12,
   "metadata": {},
   "outputs": [
    {
     "data": {
      "text/plain": [
       "[(512,\n",
       "  (Rating(user=512, product=854, rating=7.921442328067799),\n",
       "   Rating(user=512, product=362, rating=7.4006094329378165),\n",
       "   Rating(user=512, product=968, rating=7.335592667645788),\n",
       "   Rating(user=512, product=445, rating=6.785823160180624),\n",
       "   Rating(user=512, product=1142, rating=6.547363222065101),\n",
       "   Rating(user=512, product=489, rating=6.535932922087715),\n",
       "   Rating(user=512, product=906, rating=6.519270182768839),\n",
       "   Rating(user=512, product=850, rating=6.341855263486819),\n",
       "   Rating(user=512, product=962, rating=6.244956545745096),\n",
       "   Rating(user=512, product=1129, rating=6.203607403050501))),\n",
       " (704,\n",
       "  (Rating(user=704, product=1129, rating=6.145218227136462),\n",
       "   Rating(user=704, product=962, rating=5.882000715255358),\n",
       "   Rating(user=704, product=1183, rating=5.837725671860948),\n",
       "   Rating(user=704, product=694, rating=5.638271935084615),\n",
       "   Rating(user=704, product=1126, rating=5.610090218137842),\n",
       "   Rating(user=704, product=320, rating=5.530093281430237),\n",
       "   Rating(user=704, product=921, rating=5.465293987901239),\n",
       "   Rating(user=704, product=1268, rating=5.4150337465557765),\n",
       "   Rating(user=704, product=1242, rating=5.38545630016087),\n",
       "   Rating(user=704, product=221, rating=5.2853059267908185))),\n",
       " (320,\n",
       "  (Rating(user=320, product=253, rating=7.4625574143349365),\n",
       "   Rating(user=320, product=1159, rating=6.273866937499522),\n",
       "   Rating(user=320, product=854, rating=6.172399441800083),\n",
       "   Rating(user=320, product=906, rating=6.064653749591865),\n",
       "   Rating(user=320, product=1142, rating=6.041936984635701),\n",
       "   Rating(user=320, product=958, rating=5.738140168065151),\n",
       "   Rating(user=320, product=1401, rating=5.705277508692083),\n",
       "   Rating(user=320, product=57, rating=5.6928053547323785),\n",
       "   Rating(user=320, product=904, rating=5.639150894758404),\n",
       "   Rating(user=320, product=421, rating=5.576448614073605)))]"
      ]
     },
     "execution_count": 12,
     "metadata": {},
     "output_type": "execute_result"
    }
   ],
   "source": [
    "allRecommendation = model.recommendProductsForUsers(n)\n",
    "\n",
    "allRecommendation.take(3)"
   ]
  },
  {
   "cell_type": "markdown",
   "metadata": {},
   "source": [
    "#### Now we compute our MAP"
   ]
  },
  {
   "cell_type": "code",
   "execution_count": 13,
   "metadata": {
    "collapsed": true
   },
   "outputs": [],
   "source": [
    "import numpy as np\n",
    "\n",
    "def MAP(RankedList, PositiveItems, at=None):\n",
    "    \"\"\"\n",
    "    Calculates MAP@__ \n",
    "    \"\"\"\n",
    "    \n",
    "    RankedList = RankedList[:at]\n",
    "    is_relevant = np.in1d(RankedList, PositiveItems, assume_unique=True)\n",
    "    \n",
    "    p_at_k = is_relevant * np.cumsum(is_relevant, dtype=np.float32) / (1 + np.arange(len(is_relevant)))\n",
    "    map_score = np.sum(p_at_k) / np.min([len(PositiveItems), len(RankedList)])\n",
    "    \n",
    "    assert 0 <= map_score <= 1, map_score\n",
    "    \n",
    "    return map_score\n"
   ]
  },
  {
   "cell_type": "code",
   "execution_count": 14,
   "metadata": {},
   "outputs": [
    {
     "name": "stdout",
     "output_type": "stream",
     "text": [
      "User 42 has 80 positive items, some of them are: ['403', '546', '274', '44', '1028', '625', '953', '69', '121', '506']\n",
      "User 42 has 103 seen items, some of them are: ['423', '96', '794', '588', '98', '685', '176', '195', '185', '684']\n"
     ]
    }
   ],
   "source": [
    "userPositiveItems_dict = URM_test.map(lambda x: (int(x[0]), [x[1]])).reduceByKey(lambda x,y : x + y).collectAsMap()\n",
    "userSeenItems_dict = URM_train.map(lambda x: (int(x[0]), [x[1]])).reduceByKey(lambda x,y : x + y).collectAsMap()\n",
    "\n",
    "user_id = 42\n",
    "print(\"User {} has {} positive items, some of them are: {}\".\n",
    "      format(user_id, len(userPositiveItems_dict[user_id]), userPositiveItems_dict[user_id][0:10]))\n",
    "print(\"User {} has {} seen items, some of them are: {}\".\n",
    "      format(user_id, len(userSeenItems_dict[user_id]), userSeenItems_dict[user_id][0:10]))"
   ]
  },
  {
   "cell_type": "markdown",
   "metadata": {},
   "source": [
    "#### Let's build a wrapper function that deals with the data cleaning"
   ]
  },
  {
   "cell_type": "code",
   "execution_count": 15,
   "metadata": {
    "collapsed": true
   },
   "outputs": [],
   "source": [
    "def recommendWithALS(model, user_id, n):\n",
    "    \n",
    "    singleUserRecommendation = model.recommendProducts(user_id, n)\n",
    "    itemsToRecommend = []\n",
    "    \n",
    "    for ratingTuple in singleUserRecommendation:\n",
    "        itemsToRecommend.append(ratingTuple.product)\n",
    "        \n",
    "    return itemsToRecommend\n",
    "    "
   ]
  },
  {
   "cell_type": "code",
   "execution_count": 16,
   "metadata": {},
   "outputs": [
    {
     "data": {
      "text/plain": [
       "[583, 1419, 593, 836, 110, 41, 51, 426, 960, 502]"
      ]
     },
     "execution_count": 16,
     "metadata": {},
     "output_type": "execute_result"
    }
   ],
   "source": [
    "user_id = 42\n",
    "\n",
    "recommendWithALS(model, user_id, n)"
   ]
  },
  {
   "cell_type": "code",
   "execution_count": 17,
   "metadata": {},
   "outputs": [
    {
     "data": {
      "text/plain": [
       "0.0"
      ]
     },
     "execution_count": 17,
     "metadata": {},
     "output_type": "execute_result"
    }
   ],
   "source": [
    "MAP(recommendWithALS(model, user_id, n), userPositiveItems_dict[user_id], at=n)"
   ]
  },
  {
   "cell_type": "markdown",
   "metadata": {},
   "source": [
    "#### we have to loop through the users as ALS requires the Spark context and we cannot perform map operation using the model inside it. Here I'm computing it the slow way"
   ]
  },
  {
   "cell_type": "code",
   "execution_count": 18,
   "metadata": {
    "collapsed": true
   },
   "outputs": [],
   "source": [
    "def calculateOverallMap(model, userList, userPositiveItems_dict, at=10):\n",
    "    \n",
    "    MAP_value = 0.0\n",
    "    \n",
    "    for user_id in userList:\n",
    "        \n",
    "        MAP_value += MAP(recommendWithALS(model, user_id, at), userPositiveItems_dict[user_id], at=at)\n",
    "\n",
    "    MAP_value = MAP_value/len(userList)\n",
    "    \n",
    "    return MAP_value\n",
    "    "
   ]
  },
  {
   "cell_type": "code",
   "execution_count": 19,
   "metadata": {},
   "outputs": [
    {
     "name": "stderr",
     "output_type": "stream",
     "text": [
      "/opt/conda/lib/python3.5/site-packages/numpy/lib/arraysetops.py:395: FutureWarning: elementwise comparison failed; returning scalar instead, but in the future will perform elementwise comparison\n",
      "  mask |= (ar1 == a)\n"
     ]
    },
    {
     "name": "stdout",
     "output_type": "stream",
     "text": [
      "MAP value is 0.0048. Processing required 23.05 seconds\n"
     ]
    }
   ],
   "source": [
    "userList_test = URM_test.map(lambda x: int(x[0])).distinct().collect()\n",
    "userList_train = URM_train.map(lambda x: int(x[0])).distinct().collect()\n",
    "\n",
    "start_time = time.time()\n",
    "\n",
    "testMAP = calculateOverallMap(model, userList_test, userPositiveItems_dict)\n",
    "\n",
    "print(\"MAP value is {:.4f}. Processing required {:.2f} seconds\".format(\\\n",
    "    testMAP, time.time()-start_time))"
   ]
  },
  {
   "cell_type": "markdown",
   "metadata": {},
   "source": [
    "#### What happens if we change the parameters? Let's try"
   ]
  },
  {
   "cell_type": "code",
   "execution_count": 20,
   "metadata": {
    "scrolled": true
   },
   "outputs": [
    {
     "name": "stderr",
     "output_type": "stream",
     "text": [
      "/opt/conda/lib/python3.5/site-packages/numpy/lib/arraysetops.py:395: FutureWarning: elementwise comparison failed; returning scalar instead, but in the future will perform elementwise comparison\n",
      "  mask |= (ar1 == a)\n"
     ]
    },
    {
     "name": "stdout",
     "output_type": "stream",
     "text": [
      "Rank 10, Iterations 10 - testMAP 0.0049, trainMAP 0.0033, training time 1.13 sec\n",
      "Rank 20, Iterations 10 - testMAP 0.0204, trainMAP 0.0084, training time 1.09 sec\n",
      "Rank 30, Iterations 10 - testMAP 0.0348, trainMAP 0.0177, training time 1.25 sec\n",
      "Rank 40, Iterations 10 - testMAP 0.0460, trainMAP 0.0367, training time 1.25 sec\n",
      "Rank 50, Iterations 10 - testMAP 0.0478, trainMAP 0.0787, training time 1.37 sec\n",
      "Rank 60, Iterations 10 - testMAP 0.0444, trainMAP 0.1444, training time 1.62 sec\n",
      "Rank 80, Iterations 10 - testMAP 0.0333, trainMAP 0.3011, training time 2.61 sec\n",
      "Rank 100, Iterations 10 - testMAP 0.0248, trainMAP 0.3921, training time 2.90 sec\n",
      "Rank 120, Iterations 10 - testMAP 0.0206, trainMAP 0.4537, training time 5.22 sec\n",
      "Rank 150, Iterations 10 - testMAP 0.0182, trainMAP 0.4839, training time 7.39 sec\n",
      "Rank 250, Iterations 10 - testMAP 0.0185, trainMAP 0.5017, training time 20.63 sec\n",
      "Rank 350, Iterations 10 - testMAP 0.0175, trainMAP 0.5041, training time 48.25 sec\n"
     ]
    }
   ],
   "source": [
    "import itertools\n",
    "\n",
    "rankList = [10, 20, 30, 40, 50, 60, 80, 100, 120, 150, 250, 350]\n",
    "#numIterations = [5, 10, 15, 20]\n",
    "numIterations = [10]\n",
    "\n",
    "test_case_list = itertools.product(rankList, numIterations)\n",
    "test_case_results = []\n",
    "\n",
    "for test_case in test_case_list:\n",
    "    \n",
    "    rank = test_case[0]\n",
    "    numIterations = test_case[1]\n",
    "    \n",
    "    start_time = time.time()   \n",
    "    model = ALS.train(URM_train_rating, rank, numIterations)\n",
    "    train_time = time.time()-start_time\n",
    "    \n",
    "    trainMAP = calculateOverallMap(model, userList_train, userSeenItems_dict)\n",
    "    testMAP = calculateOverallMap(model, userList_train, userPositiveItems_dict)\n",
    "    \n",
    "    print(\"Rank {}, Iterations {} - testMAP {:.4f}, trainMAP {:.4f}, training time {:.2f} sec\".\n",
    "          format(rank, numIterations, testMAP, trainMAP, train_time))\n",
    "    \n",
    "    test_case_results.append((rank, numIterations, testMAP, trainMAP, train_time))\n",
    "    "
   ]
  },
  {
   "cell_type": "code",
   "execution_count": 28,
   "metadata": {},
   "outputs": [
    {
     "data": {
      "image/png": "[encoded data removed]",
      "text/plain": [
       "<matplotlib.figure.Figure at 0x7f8dc8f68390>"
      ]
     },
     "metadata": {},
     "output_type": "display_data"
    }
   ],
   "source": [
    "import matplotlib.pyplot as pyplot\n",
    "\n",
    "testMAP = []\n",
    "trainMAP = []\n",
    "\n",
    "## Select the result at iteration 10\n",
    "for result_set in test_case_results:\n",
    "\n",
    "    if result_set[1] == 10:\n",
    "        testMAP.append(result_set[2])\n",
    "        trainMAP.append(result_set[3])\n",
    "        \n",
    "\n",
    "x_positions = np.array(range(len(testMAP)))\n",
    "pyplot.xticks(x_positions, rankList)\n",
    "\n",
    "pyplot.plot(trainMAP, label=\"Train\")\n",
    "pyplot.plot(testMAP, label=\"Test\")\n",
    "\n",
    "pyplot.ylabel('MAP')\n",
    "pyplot.xlabel('Rank')\n",
    "\n",
    "pyplot.legend(bbox_to_anchor=(0., 1.02, 1., .102), loc=3,\n",
    "           ncol=3, mode=\"expand\", borderaxespad=0.)\n",
    "\n",
    "pyplot.show()"
   ]
  },
  {
   "cell_type": "markdown",
   "metadata": {},
   "source": [
    "#### From the graph we can clearly see the impact of the number of latent factors.\n",
    "#### We can also see clearly that at some point the trainMAP increases sharply whereas the testMAP starts to decline, this is the point where our model starts to overfit. At rank 350 we have a very high trainMAP, which is now saturating, and a very low testMAP"
   ]
  },
  {
   "cell_type": "markdown",
   "metadata": {},
   "source": [
    "### Collaborative filtering with \"Sparse linear methods for top-n recommender systems\"\n",
    "#### Ning, Xia, and George Karypis. \"Slim: Sparse linear methods for top-n recommender systems.\" Data Mining (ICDM), 2011 IEEE 11th International Conference on. IEEE, 2011.\n",
    "#### <https://www.researchgate.net/profile/George_Karypis/publication/220765374_SLIM_Sparse_Linear_Methods_for_Top-N_Recommender_Systems/links/549ee9ac0cf257a635fe7010.pdf>\n",
    "\n",
    "#### As opposed to the ALS method we just saw, SLIM is optimized for Top-n recommendations"
   ]
  },
  {
   "cell_type": "code",
   "execution_count": 29,
   "metadata": {
    "collapsed": true
   },
   "outputs": [],
   "source": [
    "from sklearn.linear_model import ElasticNet\n",
    "import scipy.sparse as sps\n",
    "import numpy as np\n"
   ]
  },
  {
   "cell_type": "markdown",
   "metadata": {},
   "source": [
    "#### The code below works for URM in Compressed Sparse Column Format (CSC)\n",
    "#### A CSC matrix has the following attributes that you can freely manipulate\n",
    "* indices is an array of row indices\n",
    "* data is an array of corresponding nonzero values\n",
    "* indptr is an array whose value in position i points to where the column i starts in indices and data\n",
    "\n",
    "#### Let's see an example"
   ]
  },
  {
   "cell_type": "code",
   "execution_count": 30,
   "metadata": {},
   "outputs": [
    {
     "data": {
      "text/plain": [
       "matrix([[0, 0, 0, 0],\n",
       "        [0, 5, 5, 0],\n",
       "        [0, 7, 6, 6],\n",
       "        [0, 0, 7, 0]], dtype=int64)"
      ]
     },
     "execution_count": 30,
     "metadata": {},
     "output_type": "execute_result"
    }
   ],
   "source": [
    "rows =    [1, 1, 2, 2, 2, 3]\n",
    "columns = [1, 2, 2, 3, 1, 2]\n",
    "data =    [5, 5, 6, 6, 7, 7]\n",
    "\n",
    "exampleCSCmatrix = sps.csc_matrix((data, (rows, columns)))\n",
    "\n",
    "exampleCSCmatrix.todense()"
   ]
  },
  {
   "cell_type": "markdown",
   "metadata": {},
   "source": [
    "#### We now query the data structure\n",
    "\n",
    "#### We can see that\n",
    "* indices corresponds to the row list, in a different order\n",
    "* data corresponds to the data list, again in a different order\n",
    "* indptr corresponds to the columns list, formatted in a different way. The firs two 0 value means that column zero starts at the beginning of indices/data lists and column 1 does not exist (is empty). Column 2 starts at position 2 of indices/data and goes up to position 4, since at position 5 starts column 3\n",
    "\n",
    "#### Why use this format instead of a more simple coordinate format (row, col, value)? Because it is faster for column-wise operations  and the indptr occupies less space than listing the same coordinate value every time."
   ]
  },
  {
   "cell_type": "code",
   "execution_count": 31,
   "metadata": {},
   "outputs": [
    {
     "data": {
      "text/plain": [
       "array([1, 2, 1, 2, 3, 2], dtype=int32)"
      ]
     },
     "execution_count": 31,
     "metadata": {},
     "output_type": "execute_result"
    }
   ],
   "source": [
    "exampleCSCmatrix.indices"
   ]
  },
  {
   "cell_type": "code",
   "execution_count": 32,
   "metadata": {},
   "outputs": [
    {
     "data": {
      "text/plain": [
       "array([5, 7, 5, 6, 7, 6], dtype=int64)"
      ]
     },
     "execution_count": 32,
     "metadata": {},
     "output_type": "execute_result"
    }
   ],
   "source": [
    "exampleCSCmatrix.data"
   ]
  },
  {
   "cell_type": "code",
   "execution_count": 33,
   "metadata": {},
   "outputs": [
    {
     "data": {
      "text/plain": [
       "array([0, 0, 2, 5, 6], dtype=int32)"
      ]
     },
     "execution_count": 33,
     "metadata": {},
     "output_type": "execute_result"
    }
   ],
   "source": [
    "exampleCSCmatrix.indptr"
   ]
  },
  {
   "cell_type": "markdown",
   "metadata": {},
   "source": [
    "#### First we build a local sparse URM"
   ]
  },
  {
   "cell_type": "code",
   "execution_count": 34,
   "metadata": {
    "collapsed": true
   },
   "outputs": [],
   "source": [
    "\n",
    "userList = URM_train.map(lambda x: int(x[0])).collect()\n",
    "itemList = URM_train.map(lambda x: int(x[1])).collect()\n",
    "ratingList = URM_train.map(lambda x: float(x[2])).collect()\n",
    "\n",
    "shape = (URM_train.map(lambda x: int(x[0])).max()+1,\n",
    "         URM_train.map(lambda x: int(x[1])).max()+1)\n",
    "\n",
    "URM_train_local = sps.csc_matrix((ratingList, (userList, itemList)), shape=shape)\n"
   ]
  },
  {
   "cell_type": "markdown",
   "metadata": {},
   "source": [
    "#### Let's see an implmentation of slim for just one item"
   ]
  },
  {
   "cell_type": "code",
   "execution_count": 35,
   "metadata": {
    "collapsed": true
   },
   "outputs": [],
   "source": [
    "itemNumber = URM_train_local.shape[1]\n",
    "\n",
    "l1_penalty=0.1\n",
    "l2_penalty=0.1\n",
    "positive_only=True\n",
    "\n",
    "start_time = time.time()\n",
    "\n",
    "values, rows, cols = [], [], []\n",
    "\n",
    "colID = 4\n",
    "\n",
    "l1_ratio = l1_penalty / (l1_penalty + l2_penalty)\n",
    "\n",
    "model = ElasticNet(alpha=1.0,\n",
    "                   l1_ratio=l1_ratio,\n",
    "                   positive=positive_only,\n",
    "                   fit_intercept=False,\n",
    "                   copy_X=False)\n",
    "\n",
    "\n",
    "# get the target column\n",
    "y = URM_train_local[:, colID].toarray()\n",
    "\n",
    "# set the j-th column of URM to zero\n",
    "URM_train_local.data[URM_train_local.indptr[colID]:URM_train_local.indptr[colID + 1]] = 0.0\n",
    "\n",
    "# fit one ElasticNet model per column\n",
    "model.fit(URM_train_local, y)\n",
    "\n",
    "# self.model.coef_ contains the coefficient of the ElasticNet model\n",
    "# let's keep only the non-zero values\n",
    "nnz_idx = model.coef_ > 0.0\n",
    "\n",
    "values.extend(model.coef_[nnz_idx])\n",
    "rows.extend(np.arange(URM_train_local.shape[1])[nnz_idx])\n",
    "cols.extend(np.ones(nnz_idx.sum()) * colID)\n"
   ]
  },
  {
   "cell_type": "markdown",
   "metadata": {},
   "source": [
    "#### The results are this"
   ]
  },
  {
   "cell_type": "code",
   "execution_count": 36,
   "metadata": {},
   "outputs": [
    {
     "data": {
      "text/plain": [
       "[0.025486808093474395,\n",
       " 0.018538821141981379,\n",
       " 0.0061280389444121368,\n",
       " 0.014382302531998669,\n",
       " 0.027055486522889197,\n",
       " 0.020868240590193828,\n",
       " 0.043061232501661446,\n",
       " 0.023974243080189757,\n",
       " 0.039850276352718969,\n",
       " 0.040744772635205651,\n",
       " 0.052170188891031172,\n",
       " 0.0050492444283079391]"
      ]
     },
     "execution_count": 36,
     "metadata": {},
     "output_type": "execute_result"
    }
   ],
   "source": [
    "values"
   ]
  },
  {
   "cell_type": "code",
   "execution_count": 37,
   "metadata": {},
   "outputs": [
    {
     "data": {
      "text/plain": [
       "[12, 22, 56, 79, 98, 100, 172, 195, 202, 204, 234, 238]"
      ]
     },
     "execution_count": 37,
     "metadata": {},
     "output_type": "execute_result"
    }
   ],
   "source": [
    "rows"
   ]
  },
  {
   "cell_type": "markdown",
   "metadata": {},
   "source": [
    "#### Note, column values are not integer because of the multiplication"
   ]
  },
  {
   "cell_type": "code",
   "execution_count": 38,
   "metadata": {},
   "outputs": [
    {
     "data": {
      "text/plain": [
       "[4.0, 4.0, 4.0, 4.0, 4.0, 4.0, 4.0, 4.0, 4.0, 4.0, 4.0, 4.0]"
      ]
     },
     "execution_count": 38,
     "metadata": {},
     "output_type": "execute_result"
    }
   ],
   "source": [
    "cols"
   ]
  },
  {
   "cell_type": "markdown",
   "metadata": {},
   "source": [
    "#### Now we put this code inside a function which returns a list of tuples (item, item, similarity)"
   ]
  },
  {
   "cell_type": "code",
   "execution_count": 39,
   "metadata": {
    "collapsed": true
   },
   "outputs": [],
   "source": [
    "def fitOneColumn(colID, URM, l1_penalty=0.1, l2_penalty=0.1, positive_only=True):\n",
    "    \n",
    "    l1_ratio = l1_penalty / (l1_penalty + l2_penalty)\n",
    "\n",
    "    model = ElasticNet(alpha=1.0,\n",
    "                       l1_ratio=l1_ratio,\n",
    "                       positive=positive_only,\n",
    "                       fit_intercept=False,\n",
    "                       copy_X=False)\n",
    "\n",
    "    # get the target column\n",
    "    y = URM[:, colID].toarray()\n",
    "\n",
    "    # set the colID column of URM to zero\n",
    "    URM.data[URM.indptr[colID]:URM.indptr[colID + 1]] = 0.0\n",
    "\n",
    "    # fit one ElasticNet model per column\n",
    "    model.fit(URM, y)\n",
    "\n",
    "    # self.model.coef_ contains the coefficient of the ElasticNet model\n",
    "    # let's keep only the non-zero values\n",
    "    nnz_idx = model.coef_ > 0.0\n",
    "\n",
    "    values = model.coef_[nnz_idx]\n",
    "    rows = np.arange(URM.shape[1])[nnz_idx]\n",
    "    cols = np.ones(nnz_idx.sum()) * colID\n",
    "\n",
    "    \n",
    "    return list(zip(rows, cols, values))\n"
   ]
  },
  {
   "cell_type": "markdown",
   "metadata": {},
   "source": [
    "#### This function fits all similarity matrix. Is this an appropriate use of mapreduce? It is for the model training, but the subsequent collect are time consuming"
   ]
  },
  {
   "cell_type": "code",
   "execution_count": 40,
   "metadata": {
    "collapsed": true
   },
   "outputs": [],
   "source": [
    "def fitSLIM(URM):\n",
    "    \n",
    "    itemNumber = URM.shape[1]\n",
    "    \n",
    "    itemList = sc.parallelize(list(range(itemNumber)))\n",
    "    \n",
    "    # fit item's factors in parallel\n",
    "    slimResult = itemList.flatMap(lambda x: fitOneColumn(x, URM))\n",
    "\n",
    "    rows = slimResult.map(lambda x: x[0]).collect()\n",
    "    cols = slimResult.map(lambda x: x[1]).collect()\n",
    "    values = slimResult.map(lambda x: x[2]).collect()   \n",
    "    \n",
    "    # generate the sparse weight matrix\n",
    "    return sps.csc_matrix((values, (rows, cols)), \n",
    "                              shape=(itemList.max()+1, itemList.max()+1),\n",
    "                              dtype=np.float32)\n"
   ]
  },
  {
   "cell_type": "markdown",
   "metadata": {},
   "source": [
    "#### And we fit the model. Here I'm not performing any validation on the parameters, but it might be helpful"
   ]
  },
  {
   "cell_type": "code",
   "execution_count": 41,
   "metadata": {
    "collapsed": true
   },
   "outputs": [],
   "source": [
    "similaritySLIM = fitSLIM(URM_train_local)"
   ]
  },
  {
   "cell_type": "code",
   "execution_count": 42,
   "metadata": {},
   "outputs": [
    {
     "data": {
      "text/plain": [
       "<1682x1682 sparse matrix of type '<class 'numpy.float32'>'\n",
       "\twith 2666 stored elements in Compressed Sparse Column format>"
      ]
     },
     "execution_count": 42,
     "metadata": {},
     "output_type": "execute_result"
    }
   ],
   "source": [
    "similaritySLIM"
   ]
  },
  {
   "cell_type": "code",
   "execution_count": null,
   "metadata": {
    "collapsed": true
   },
   "outputs": [],
   "source": []
  }
 ],
 "metadata": {
  "kernelspec": {
   "display_name": "Python 3",
   "language": "python",
   "name": "python3"
  },
  "language_info": {
   "codemirror_mode": {
    "name": "ipython",
    "version": 3
   },
   "file_extension": ".py",
   "mimetype": "text/x-python",
   "name": "python",
   "nbconvert_exporter": "python",
   "pygments_lexer": "ipython3",
   "version": "3.6.1"
  }
 },
 "nbformat": 4,
 "nbformat_minor": 1
}
