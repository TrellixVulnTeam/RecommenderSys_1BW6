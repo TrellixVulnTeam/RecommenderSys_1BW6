{
 "cells": [
  {
   "cell_type": "markdown",
   "metadata": {},
   "source": [
    "# Computer Systems 2016/17\n",
    "\n",
    "### Practice 5 - Validation and parameter tuning"
   ]
  },
  {
   "cell_type": "markdown",
   "metadata": {},
   "source": [
    "#### Once we have built our model, it is often a good idea to spend some time choosing appropriate hyperparameters, in order to squeeze the maximum possible performance. How do we archieve that?\n",
    "\n",
    "#### We would like to optimize the performance of our model on the test set, so we could try various values for our hyperparameters and choose the best one. \n",
    "\n",
    "#### OVERFITTING WARNING!\n",
    "#### The purpose of the test set is to evaluate the performance of a model using new data the model has not been trained on. If we chose the hyperparameters that give us the best result on the test set, we are leaking information from that set to our model. We might even overfit our hyperparameters on that data, resulting in an unexpected performance loss as soon as we deploy the model and new data comes.\n",
    "\n",
    "#### We need a third dataset on which to train the hyperparameters, we call it Validation set"
   ]
  },
  {
   "cell_type": "code",
   "execution_count": 1,
   "metadata": {
    "collapsed": true
   },
   "outputs": [],
   "source": [
    "import pyspark\n",
    "sc = pyspark.SparkContext('local[*]')"
   ]
  },
  {
   "cell_type": "code",
   "execution_count": 2,
   "metadata": {
    "collapsed": true
   },
   "outputs": [],
   "source": [
    "from urllib.request import urlretrieve\n",
    "import zipfile"
   ]
  },
  {
   "cell_type": "code",
   "execution_count": 3,
   "metadata": {},
   "outputs": [
    {
     "data": {
      "text/plain": [
       "('ml-100k.zip', <http.client.HTTPMessage at 0x7f92846f2a20>)"
      ]
     },
     "execution_count": 3,
     "metadata": {},
     "output_type": "execute_result"
    }
   ],
   "source": [
    "urlretrieve (\"http://files.grouplens.org/datasets/movielens/ml-100k.zip\", \"ml-100k.zip\")"
   ]
  },
  {
   "cell_type": "code",
   "execution_count": 4,
   "metadata": {},
   "outputs": [
    {
     "data": {
      "text/plain": [
       "[('196', '242', '3', '881250949'),\n",
       " ('186', '302', '3', '891717742'),\n",
       " ('22', '377', '1', '878887116'),\n",
       " ('244', '51', '2', '880606923'),\n",
       " ('166', '346', '1', '886397596'),\n",
       " ('298', '474', '4', '884182806'),\n",
       " ('115', '265', '2', '881171488'),\n",
       " ('253', '465', '5', '891628467'),\n",
       " ('305', '451', '3', '886324817'),\n",
       " ('6', '86', '3', '883603013')]"
      ]
     },
     "execution_count": 4,
     "metadata": {},
     "output_type": "execute_result"
    }
   ],
   "source": [
    "dataFile = zipfile.ZipFile(\"ml-100k.zip\")\n",
    "\n",
    "URM_path = dataFile.extract(\"ml-100k/u.data\")\n",
    "URM = sc.textFile(URM_path)\n",
    "\n",
    "\n",
    "def rowSplit (rowString):\n",
    "    split = rowString.split(\"\\t\")\n",
    "    result = tuple(split)\n",
    "    return result\n",
    "\n",
    "\n",
    "URM_tuple = URM.map(rowSplit)\n",
    "\n",
    "URM_tuple.take(10)"
   ]
  },
  {
   "cell_type": "code",
   "execution_count": 5,
   "metadata": {
    "collapsed": true
   },
   "outputs": [],
   "source": [
    "URM_training, URM_test, URM_validation = URM_tuple.randomSplit([0.6, 0.2, 0.2])"
   ]
  },
  {
   "cell_type": "code",
   "execution_count": 6,
   "metadata": {
    "collapsed": true
   },
   "outputs": [],
   "source": [
    "import scipy.sparse as sps\n",
    "# pronounced “Sigh Pie”\n",
    "\n",
    "# In case pip fails to install scipy you can install it by\n",
    "# sudo apt-get install python-scipy\n",
    "\n",
    "userList = URM_training.map(lambda x: int(x[0])).collect()\n",
    "itemList = URM_training.map(lambda x: int(x[1])).collect()\n",
    "ratingList = URM_training.map(lambda x: float(x[2])).collect()\n",
    "\n",
    "numUsers = URM_training.map(lambda x: x[0]).distinct().count()\n",
    "numItems = URM_training.map(lambda x: x[1]).distinct().count()\n",
    "\n",
    "shape = (URM_training.map(lambda x: int(x[0])).max()+1,\n",
    "         URM_training.map(lambda x: int(x[1])).max()+1)\n",
    "\n",
    "URM_training_local = sps.csc_matrix((ratingList, (userList, itemList)), shape=shape)"
   ]
  },
  {
   "cell_type": "code",
   "execution_count": 7,
   "metadata": {
    "collapsed": true
   },
   "outputs": [],
   "source": [
    "similarity_local = URM_training_local.T.dot(URM_training_local)\n",
    "\n",
    "similarity_local = similarity_local.tocoo()\n",
    "\n",
    "similarity_local.setdiag(0.0)\n",
    "\n",
    "similarity_local = similarity_local.tocsc()"
   ]
  },
  {
   "cell_type": "code",
   "execution_count": 8,
   "metadata": {},
   "outputs": [
    {
     "name": "stdout",
     "output_type": "stream",
     "text": [
      "User 42 saw 117 items, some of them are: ['546', '274', '588', '44', '1028', '953', '685', '195', '69', '684']\n"
     ]
    }
   ],
   "source": [
    "userItems_train_dict = URM_training.map(lambda x: (int(x[0]), [x[1]])).reduceByKey(lambda x,y : x + y).collectAsMap()\n",
    "userItems_test_dict = URM_test.map(lambda x: (int(x[0]), [x[1]])).reduceByKey(lambda x,y : x + y).collectAsMap()\n",
    "userItems_validation_dict = URM_validation.map(lambda x: (int(x[0]), [x[1]])).reduceByKey(lambda x,y : x + y).collectAsMap()\n",
    "\n",
    "\n",
    "user_id = 42\n",
    "print(\"User {} saw {} items, some of them are: {}\".\n",
    "      format(user_id, len(userItems_train_dict[user_id]), userItems_train_dict[user_id][0:10]))"
   ]
  },
  {
   "cell_type": "code",
   "execution_count": 9,
   "metadata": {
    "collapsed": true
   },
   "outputs": [],
   "source": [
    "import numpy as np\n",
    "\n",
    "def filter_similarity_topK(similarity_all, k_value=50):\n",
    "\n",
    "    values, rows, cols = [], [], []\n",
    "    \n",
    "    numItems = similarity_local.shape[0]\n",
    "\n",
    "    for itemId in itemList:\n",
    "\n",
    "        ### We take the row we need and transform it in a dense array\n",
    "        currentItemSimilarity = similarity_all[itemId].toarray().ravel()\n",
    "\n",
    "        idx_sorted = np.argsort(currentItemSimilarity)\n",
    "\n",
    "        top_k_idx = idx_sorted[-k_value:]\n",
    "\n",
    "        values.extend(currentItemSimilarity[top_k_idx])\n",
    "        rows.extend(np.arange(numItems+1)[top_k_idx])\n",
    "        cols.extend(np.ones(k_value) * itemId)\n",
    "\n",
    "    similarity_topK = sps.csc_matrix((values, (rows, cols)), shape=(numItems, numItems), dtype=np.float32)\n",
    "    \n",
    "    return similarity_topK"
   ]
  },
  {
   "cell_type": "code",
   "execution_count": 10,
   "metadata": {},
   "outputs": [
    {
     "name": "stdout",
     "output_type": "stream",
     "text": [
      "Topk local selection takes 136.17 seconds\n"
     ]
    },
    {
     "data": {
      "text/plain": [
       "<1681x1681 sparse matrix of type '<class 'numpy.float32'>'\n",
       "\twith 80600 stored elements in Compressed Sparse Column format>"
      ]
     },
     "execution_count": 10,
     "metadata": {},
     "output_type": "execute_result"
    }
   ],
   "source": [
    "import time\n",
    "\n",
    "start_time = time.time()\n",
    "\n",
    "similarity_topK = filter_similarity_topK(similarity_local, k_value=50)\n",
    "\n",
    "print(\"Topk local selection takes {:.2f} seconds\".format(time.time()-start_time))\n",
    "\n",
    "similarity_topK"
   ]
  },
  {
   "cell_type": "code",
   "execution_count": 16,
   "metadata": {
    "collapsed": true
   },
   "outputs": [],
   "source": [
    "def selectUserTopK (itemId, similarity_all, k_value):\n",
    "\n",
    "    ### We take the row we need and transform it in a dense array\n",
    "    currentItemSimilarity = similarity_all[itemId].toarray().ravel()\n",
    "\n",
    "    idx_sorted = np.argsort(currentItemSimilarity)\n",
    "\n",
    "    top_k_idx = idx_sorted[-k_value:]\n",
    "\n",
    "    values = currentItemSimilarity[top_k_idx]\n",
    "\n",
    "    rows = np.arange(numItems+1)[top_k_idx]\n",
    "\n",
    "    cols = np.ones(k_value, dtype=np.int32) * itemId\n",
    "\n",
    "    return list(zip(rows, cols, values))\n",
    "\n",
    "\n",
    "    \n",
    "def filter_similarity_topK_mapreduce(similarity_all, k_value=50):\n",
    "\n",
    "    itemList_rdd = sc.parallelize(itemList)\n",
    "    \n",
    "    numItems = similarity_all.shape[0]\n",
    "\n",
    "    similarity_topK_rdd = itemList_rdd.flatMap(lambda x: selectUserTopK(x, similarity_all, k_value))\n",
    "\n",
    "    similarity_topK_rows = similarity_topK_rdd.map(lambda x: x[0]).collect()\n",
    "    similarity_topK_cols = similarity_topK_rdd.map(lambda x: x[1]).collect()\n",
    "    similarity_topK_values = similarity_topK_rdd.map(lambda x: x[2]).collect()\n",
    "\n",
    "    similarity_topK = sps.csc_matrix((similarity_topK_values, (similarity_topK_rows, similarity_topK_cols)),\n",
    "                                     shape=(numItems, numItems), dtype=np.float32)\n",
    "    \n",
    "    return similarity_topK\n"
   ]
  },
  {
   "cell_type": "code",
   "execution_count": 18,
   "metadata": {},
   "outputs": [
    {
     "name": "stdout",
     "output_type": "stream",
     "text": [
      "Topk mapreduce selection takes 119.46 seconds\n"
     ]
    },
    {
     "data": {
      "text/plain": [
       "<1681x1681 sparse matrix of type '<class 'numpy.float32'>'\n",
       "\twith 80600 stored elements in Compressed Sparse Column format>"
      ]
     },
     "execution_count": 18,
     "metadata": {},
     "output_type": "execute_result"
    }
   ],
   "source": [
    "start_time = time.time()\n",
    "\n",
    "similarity_topK = filter_similarity_topK_mapreduce(similarity_local, k_value=50)\n",
    "\n",
    "print(\"Topk mapreduce selection takes {:.2f} seconds\".format(time.time()-start_time))\n",
    "\n",
    "similarity_topK"
   ]
  },
  {
   "cell_type": "markdown",
   "metadata": {},
   "source": [
    "#### We can see that mapreduce is slightly faster... the problem here is that we are collecting the data, which takes a lot of time\n",
    "\n",
    "#### Also, the kind of parallelism we choose depends on what we are trying to do, basically if we want the fastest possible execution time for a task, or if we want to maximise the throughput\n",
    "\n",
    "#### In a validation scenario it might be more efficent to limit the parallelism inside a single task, that is the train/test of a model with a certain hyperparameter value, and run in parallel different tasks."
   ]
  },
  {
   "cell_type": "code",
   "execution_count": 19,
   "metadata": {
    "collapsed": true
   },
   "outputs": [],
   "source": [
    "def MAP(RankedList, PositiveItems, at=None):\n",
    "    \"\"\"\n",
    "    Calculates MAP@__ \n",
    "    \"\"\"\n",
    "    \n",
    "    RankedList = RankedList[:at]\n",
    "    is_relevant = np.in1d(RankedList, PositiveItems, assume_unique=True)\n",
    "    \n",
    "    p_at_k = is_relevant * np.cumsum(is_relevant, dtype=np.float32) / (1 + np.arange(len(is_relevant)))\n",
    "    map_score = np.sum(p_at_k) / np.min([len(PositiveItems), len(RankedList)])\n",
    "    \n",
    "    assert 0 <= map_score <= 1, map_score\n",
    "    \n",
    "    return map_score\n"
   ]
  },
  {
   "cell_type": "code",
   "execution_count": 20,
   "metadata": {
    "collapsed": true
   },
   "outputs": [],
   "source": [
    "def getUserRelevantItems(user_id, userItemInteractions_dictionary):\n",
    "    \n",
    "    if(user_id in userItemInteractions_dictionary):\n",
    "        return userItemInteractions_dictionary[user_id]\n",
    "    \n",
    "    else:\n",
    "        return []\n",
    "\n",
    "\n",
    "def filter_seen(user_id, ranking):\n",
    "    \n",
    "    user_profile = URM_training_local[user_id]\n",
    "    seen = user_profile.indices\n",
    "    unseen_mask = np.in1d(ranking, seen, assume_unique=True, invert=True)\n",
    "    \n",
    "    return ranking[unseen_mask]\n",
    "\n",
    "    \n",
    "def recommendItemBased(user_id, similarity, numberOfItemsToRecommend = 10, exclude_seen = True):\n",
    "    \n",
    "    user_profile = URM_training_local[user_id]\n",
    "    scores = user_profile.dot(similarity).toarray().ravel()\n",
    "    \n",
    "    ranking = scores.argsort()[::-1]\n",
    "    \n",
    "    if exclude_seen:\n",
    "        ranking = filter_seen(user_id, ranking)\n",
    "        \n",
    "    return ranking[:numberOfItemsToRecommend]\n"
   ]
  },
  {
   "cell_type": "code",
   "execution_count": 21,
   "metadata": {},
   "outputs": [],
   "source": [
    "def calculateOverallMap(userList_rdd, similarity, userItemInteractions_dictionary, at=10):\n",
    "    \n",
    "    userList_rdd_map = userList_rdd.map(lambda x: MAP(recommendItemBased(x, similarity),\n",
    "                                                      getUserRelevantItems(user_id, userItemInteractions_dictionary),\n",
    "                                                      at=at))\n",
    "\n",
    "    MAP_value = userList_rdd_map.sum()/userList_rdd_map.count()\n",
    "    \n",
    "    return MAP_value\n",
    "    "
   ]
  },
  {
   "cell_type": "code",
   "execution_count": 23,
   "metadata": {},
   "outputs": [
    {
     "name": "stdout",
     "output_type": "stream",
     "text": [
      "Evaluated k_value 10, MAP_train is 0.124, MAP_test is 0.067, MAP_valiation is 0.041. Processing time 118.39 sec\n",
      "Evaluated k_value 20, MAP_train is 0.123, MAP_test is 0.063, MAP_valiation is 0.040. Processing time 121.99 sec\n",
      "Evaluated k_value 30, MAP_train is 0.120, MAP_test is 0.063, MAP_valiation is 0.039. Processing time 123.31 sec\n",
      "Evaluated k_value 40, MAP_train is 0.119, MAP_test is 0.067, MAP_valiation is 0.040. Processing time 124.97 sec\n",
      "Evaluated k_value 50, MAP_train is 0.120, MAP_test is 0.065, MAP_valiation is 0.040. Processing time 128.94 sec\n",
      "Evaluated k_value 60, MAP_train is 0.121, MAP_test is 0.066, MAP_valiation is 0.039. Processing time 131.49 sec\n",
      "Evaluated k_value 70, MAP_train is 0.124, MAP_test is 0.065, MAP_valiation is 0.040. Processing time 133.62 sec\n",
      "Evaluated k_value 80, MAP_train is 0.124, MAP_test is 0.065, MAP_valiation is 0.041. Processing time 136.20 sec\n",
      "Evaluated k_value 90, MAP_train is 0.123, MAP_test is 0.064, MAP_valiation is 0.040. Processing time 135.84 sec\n"
     ]
    }
   ],
   "source": [
    "result_dict = {}\n",
    "userList_rdd = URM_training.map(lambda x: int(x[0])).distinct()\n",
    "k_value_list = list(range(10,100,10))\n",
    "\n",
    "resultMAP_train_list = []\n",
    "resultMAP_test_list = []\n",
    "resultMAP_validation_list = []\n",
    "\n",
    "\n",
    "for k_value in k_value_list:\n",
    "    \n",
    "    start_time = time.time()\n",
    "    \n",
    "    #similarity_topK = filter_similarity_topK(similarity_local, k_value=k_value)\n",
    "    similarity_topK = filter_similarity_topK_mapreduce(similarity_local, k_value=k_value)\n",
    "    \n",
    "    resultMAP_test = calculateOverallMap(userList_rdd, similarity_topK, userItems_test_dict)\n",
    "    resultMAP_train = calculateOverallMap(userList_rdd, similarity_topK, userItems_train_dict)\n",
    "    resultMAP_validation = calculateOverallMap(userList_rdd, similarity_topK, userItems_validation_dict)\n",
    "    \n",
    "    resultMAP_train_list.append(resultMAP_train)\n",
    "    resultMAP_test_list.append(resultMAP_test)\n",
    "    resultMAP_validation_list.append(resultMAP_validation)\n",
    "    \n",
    "    \n",
    "    print(\"Evaluated k_value {}, MAP_train is {:.3f}, MAP_test is {:.3f}, MAP_valiation is {:.3f}. Processing time {:.2f} sec\".\n",
    "          format(k_value, resultMAP_train, resultMAP_test, resultMAP_validation, time.time()-start_time))\n"
   ]
  },
  {
   "cell_type": "code",
   "execution_count": 28,
   "metadata": {},
   "outputs": [
    {
     "data": {
      "image/png": "[encoded data removed]",
      "text/plain": [
       "<matplotlib.figure.Figure at 0x7f9266d09208>"
      ]
     },
     "metadata": {},
     "output_type": "display_data"
    }
   ],
   "source": [
    "import matplotlib.pyplot as pyplot\n",
    "\n",
    "pyplot.plot(resultMAP_train_list, label=\"Train\")\n",
    "pyplot.plot(resultMAP_test_list, label=\"Test\")\n",
    "pyplot.plot(resultMAP_validation_list, label=\"Validation\")\n",
    "pyplot.ylabel('MAP')\n",
    "pyplot.xlabel('K value')\n",
    "\n",
    "pyplot.legend(bbox_to_anchor=(0., 1.02, 1., .102), loc=3,\n",
    "           ncol=3, mode=\"expand\", borderaxespad=0.)\n",
    "\n",
    "pyplot.show()"
   ]
  },
  {
   "cell_type": "code",
   "execution_count": null,
   "metadata": {
    "collapsed": true
   },
   "outputs": [],
   "source": []
  }
 ],
 "metadata": {
  "kernelspec": {
   "display_name": "Python 3",
   "language": "python",
   "name": "python3"
  },
  "language_info": {
   "codemirror_mode": {
    "name": "ipython",
    "version": 3
   },
   "file_extension": ".py",
   "mimetype": "text/x-python",
   "name": "python",
   "nbconvert_exporter": "python",
   "pygments_lexer": "ipython3",
   "version": "3.5.2"
  }
 },
 "nbformat": 4,
 "nbformat_minor": 2
}
