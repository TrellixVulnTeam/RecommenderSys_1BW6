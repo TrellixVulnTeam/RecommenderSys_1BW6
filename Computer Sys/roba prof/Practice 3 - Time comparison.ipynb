{
 "cells": [
  {
   "cell_type": "markdown",
   "metadata": {},
   "source": [
    "# Computer Systems 2016/17\n",
    "\n",
    "### Practice 3 - Time Comparison\n",
    "\n",
    "#### Given a big array of numbers, say 30 million cells, we want to zero out all values below 2.5\n",
    "\n",
    "###### Please excuse the occasional humor"
   ]
  },
  {
   "cell_type": "code",
   "execution_count": 1,
   "metadata": {
    "collapsed": true
   },
   "outputs": [],
   "source": [
    "import pyspark\n",
    "sc = pyspark.SparkContext('local[*]')"
   ]
  },
  {
   "cell_type": "code",
   "execution_count": 2,
   "metadata": {},
   "outputs": [
    {
     "data": {
      "text/plain": [
       "array([ 1.6 ,  1.12,  4.96,  2.9 ,  4.31,  2.34,  4.18,  2.68,  1.39,\n",
       "        2.68,  3.47,  1.15,  1.29,  4.49,  2.02,  3.19,  3.57,  2.26,\n",
       "        1.37,  1.27,  3.54,  1.78,  2.32,  1.6 ,  3.05,  4.52,  1.89])"
      ]
     },
     "execution_count": 2,
     "metadata": {},
     "output_type": "execute_result"
    }
   ],
   "source": [
    "import numpy as np\n",
    "import time\n",
    "\n",
    "numValues = 30000000\n",
    "threshold = 2.5\n",
    "\n",
    "start_time = time.time()\n",
    "\n",
    "fakeDataVector = np.round(np.random.rand(numValues)*4 +1, decimals=2)\n",
    "\n",
    "requiredTime_dataCreation = time.time()-start_time\n",
    "\n",
    "resultVector = np.zeros(numValues)\n",
    "\n",
    "fakeDataVector[0:27]\n"
   ]
  },
  {
   "cell_type": "markdown",
   "metadata": {},
   "source": [
    "#### Sequential"
   ]
  },
  {
   "cell_type": "code",
   "execution_count": 3,
   "metadata": {},
   "outputs": [
    {
     "name": "stdout",
     "output_type": "stream",
     "text": [
      "Sequential processing takes 5.364 seconds\n"
     ]
    }
   ],
   "source": [
    "start_time = time.time()\n",
    "\n",
    "resultVector = fakeDataVector\n",
    "\n",
    "for i in range(len(fakeDataVector)):\n",
    "    if(fakeDataVector[i]<=threshold):\n",
    "        resultVector[i] = 0\n",
    "            \n",
    "            \n",
    "requiredTime_sequential = time.time()-start_time\n",
    "            \n",
    "print(\"Sequential processing takes {:.3f} seconds\".format(requiredTime_sequential))"
   ]
  },
  {
   "cell_type": "markdown",
   "metadata": {},
   "source": [
    "#### Vectorized"
   ]
  },
  {
   "cell_type": "code",
   "execution_count": 4,
   "metadata": {},
   "outputs": [
    {
     "name": "stdout",
     "output_type": "stream",
     "text": [
      "Vectorized processing takes 0.144 seconds\n",
      "\n",
      "\n",
      "So, the vectorized version takes only 2.69 % of the time needed by the sequential one\n"
     ]
    }
   ],
   "source": [
    "start_time = time.time()\n",
    "\n",
    "resultVector = fakeDataVector\n",
    "\n",
    "resultVector[resultVector<=threshold] = 0\n",
    "\n",
    "requiredTime_vectorized = time.time()-start_time\n",
    "\n",
    "print(\"Vectorized processing takes {:.3f} seconds\".format(requiredTime_vectorized))\n",
    "\n",
    "print(\"\\n\\nSo, the vectorized version takes only {:.2f} % of the time needed by the sequential one\".\n",
    "      format(requiredTime_vectorized/requiredTime_sequential*100))"
   ]
  },
  {
   "cell_type": "markdown",
   "metadata": {},
   "source": [
    "#### Pyspark"
   ]
  },
  {
   "cell_type": "code",
   "execution_count": 5,
   "metadata": {},
   "outputs": [
    {
     "name": "stdout",
     "output_type": "stream",
     "text": [
      "PySpark processing takes 1.010 seconds\n",
      "\n",
      "\n",
      "No wait, what is this? \n",
      "Spark is taking 699.79 % of the time needed by the vectorized code?\n"
     ]
    }
   ],
   "source": [
    "start_time = time.time()\n",
    "\n",
    "fakeDataVector_rdd = sc.parallelize(fakeDataVector)\n",
    "\n",
    "start_time_map = time.time()\n",
    "\n",
    "resultVector_rdd = fakeDataVector_rdd.map(lambda x: 0 if x<=threshold else x )\n",
    "\n",
    "end_time = time.time()\n",
    "\n",
    "requiredTime_pyspark_overall = end_time-start_time\n",
    "requiredTime_pyspark_rdd = start_time_map-start_time\n",
    "requiredTime_pyspark_map = end_time-start_time_map\n",
    "\n",
    "print(\"PySpark processing takes {:.3f} seconds\".format(requiredTime_pyspark_overall))\n",
    "\n",
    "if (requiredTime_pyspark_overall>requiredTime_vectorized):\n",
    "    print(\"\\n\\nNo wait, what is this? \\nSpark is taking {:.2f} % of the time needed by the vectorized code?\".\n",
    "      format(requiredTime_pyspark_overall/requiredTime_vectorized*100))\n",
    "else:\n",
    "    print(\"Damn that was unlucky... run the previous cells again please\")"
   ]
  },
  {
   "cell_type": "markdown",
   "metadata": {
    "collapsed": true
   },
   "source": [
    "#### Plot twist... Surprised?\n",
    "\n",
    ".\n",
    "\n",
    ".\n",
    "\n",
    ".\n",
    "\n",
    ".\n",
    "\n",
    ".\n",
    "\n",
    ".\n",
    "\n",
    ".\n",
    "\n",
    ".\n",
    "\n",
    ".\n",
    "\n",
    ".\n",
    "\n"
   ]
  },
  {
   "cell_type": "markdown",
   "metadata": {},
   "source": [
    "#### There is, of course, a valid reason for this result... \n",
    "\n",
    "#### When using PySpark we are performing two operations\n",
    "* Transforming the data into a RDD\n",
    "* Mapping the elements into the desired values\n",
    "\n",
    "#### Let's see how the computation time is distributed"
   ]
  },
  {
   "cell_type": "code",
   "execution_count": 6,
   "metadata": {},
   "outputs": [
    {
     "data": {
      "image/png": "[encoded data removed]",
      "text/plain": [
       "<matplotlib.figure.Figure at 0x7fc2594013d0>"
      ]
     },
     "metadata": {},
     "output_type": "display_data"
    }
   ],
   "source": [
    "import matplotlib.pyplot as plt\n",
    "import numpy as np\n",
    "\n",
    "\n",
    "names = ['RDD conversion','MAP']\n",
    "\n",
    "data = [requiredTime_pyspark_rdd,requiredTime_pyspark_map]\n",
    "\n",
    "plt.figure(figsize=(10,5))\n",
    "ax = plt.subplot(111)\n",
    "width=0.5\n",
    "\n",
    "bins = map(lambda x: x-width/2,range(1,len(data)+1))\n",
    "ax.bar(bins,data,width=width)\n",
    "ax.set_xticks(map(lambda x: x, range(1,len(data)+1)))\n",
    "ax.set_xticklabels(names)\n",
    "\n",
    "plt.ylabel(\"Seconds\")\n",
    "plt.show()\n",
    "\n"
   ]
  },
  {
   "cell_type": "markdown",
   "metadata": {},
   "source": [
    "#### There is no bar for map! Strange, perhaps we should look at the values, increasing the number of decimals..."
   ]
  },
  {
   "cell_type": "code",
   "execution_count": 7,
   "metadata": {},
   "outputs": [
    {
     "name": "stdout",
     "output_type": "stream",
     "text": [
      "The data transformation took \t1.010128 seconds\n",
      "The map operation took \t\t0.000107 seconds\n"
     ]
    }
   ],
   "source": [
    "print(\"The data transformation took \\t{:.6f} seconds\".format(requiredTime_pyspark_rdd))\n",
    "print(\"The map operation took \\t\\t{:.6f} seconds\".format(requiredTime_pyspark_map))"
   ]
  },
  {
   "cell_type": "markdown",
   "metadata": {},
   "source": [
    "#### We are witnessing a data conversion/loading delay\n",
    "#### Always manage your data carefully, you don't want to waste most of the execution time transferring it"
   ]
  },
  {
   "cell_type": "code",
   "execution_count": 8,
   "metadata": {},
   "outputs": [
    {
     "name": "stdout",
     "output_type": "stream",
     "text": [
      "Numpy random generator takes 0.507 seconds\n",
      "\n",
      "Generating the random numbers dyrectly into the RDD takes 0.065 seconds\n",
      "\n",
      "\n",
      "Overall PySpark processing takes 0.064750 seconds\n"
     ]
    }
   ],
   "source": [
    "from pyspark.mllib.random import RandomRDDs\n",
    "\n",
    "start_time = time.time()\n",
    "\n",
    "fakeDataVector_rdd = RandomRDDs.uniformRDD(sc, numValues).map(lambda x: x*4+1)\n",
    "\n",
    "start_time_map = time.time()\n",
    "\n",
    "resultVector_rdd = fakeDataVector_rdd.map(lambda x: 0 if x<=threshold else x )\n",
    "\n",
    "end_time = time.time()\n",
    "\n",
    "requiredTime_pyspark_overall = end_time-start_time\n",
    "requiredTime_pyspark_rdd = start_time_map-start_time\n",
    "requiredTime_pyspark_map = end_time-start_time_map\n",
    "\n",
    "print(\"Numpy random generator takes {:.3f} seconds\".format(requiredTime_dataCreation))\n",
    "\n",
    "print(\"\\nGenerating the random numbers dyrectly into the RDD takes {:.3f} seconds\".format(requiredTime_pyspark_rdd))\n",
    "\n",
    "print(\"\\n\\nOverall PySpark processing takes {:.6f} seconds\".format(requiredTime_pyspark_overall))"
   ]
  },
  {
   "cell_type": "markdown",
   "metadata": {},
   "source": [
    "#### To sum up, if we focus only on the computation, we get:"
   ]
  },
  {
   "cell_type": "code",
   "execution_count": 9,
   "metadata": {},
   "outputs": [
    {
     "name": "stdout",
     "output_type": "stream",
     "text": [
      "Sequential \t5.363795 seconds\n",
      "\n",
      "\n",
      "Vectorized \t0.144362 seconds \n",
      "\t\tImprovement of 37.16 X over sequential\n",
      "\n",
      "\n",
      "PySpark \t0.000172 seconds \n",
      "\t\tImprovement of 839.80 X over vectorized \n",
      "\t\tImprovement of 31,203.03 X over sequential\n"
     ]
    }
   ],
   "source": [
    "print(\"Sequential \\t{:.6f} seconds\".format(requiredTime_sequential))\n",
    "\n",
    "print(\"\\n\\nVectorized \\t{:.6f} seconds \\n\\t\\tImprovement of {:.2f} X over sequential\".\n",
    "      format(requiredTime_vectorized, \n",
    "             requiredTime_sequential/requiredTime_vectorized))\n",
    "\n",
    "print(\"\\n\\nPySpark \\t{:.6f} seconds \\n\\t\\tImprovement of {:,.2f} X over vectorized \\n\\t\\tImprovement of {:,.2f} X over sequential\".\n",
    "      format(requiredTime_pyspark_map, \n",
    "             requiredTime_vectorized/requiredTime_pyspark_map,\n",
    "             requiredTime_sequential/requiredTime_pyspark_map))"
   ]
  },
  {
   "cell_type": "markdown",
   "metadata": {},
   "source": [
    "#### The performance gain of PySpark is HUGE... Any thougts on this result?\n",
    "\n",
    ".\n",
    "\n",
    ".\n",
    "\n",
    ".\n",
    "\n",
    ".\n",
    "\n",
    ".\n",
    "\n",
    ".\n",
    "\n",
    ".\n",
    "\n",
    ".\n",
    "\n",
    ".\n",
    "\n",
    ".\n",
    "\n",
    "\n",
    "#### There is an important catch. All Spark Transformations are lazy evaluated, nothing is done until the result is needed by a Spark Action. Which means that the time we got is a meaningless number. It represents only the SparkContext \"acknowleging\" that at some point in the future that operation will have to be done.\n",
    "\n",
    "#### Some Spark Transformations are:\n",
    "* map(func)\n",
    "* filter(func)\n",
    "* union(otherDataset)\n",
    "* intersection(otherDataset)\n",
    "* groupByKey([numTasks])\n",
    "* reduceByKey(func, [numTasks])\n",
    "\n",
    "#### Some Spark Action are:\n",
    "* reduce(func)\n",
    "* collect()\n",
    "* count()\n",
    "* take(n)\n",
    "* saveAsTextFile(path)\n",
    "* foreach(func)"
   ]
  },
  {
   "cell_type": "markdown",
   "metadata": {},
   "source": [
    "#### We can force the execution by performing a Take() action"
   ]
  },
  {
   "cell_type": "code",
   "execution_count": 10,
   "metadata": {},
   "outputs": [
    {
     "name": "stdout",
     "output_type": "stream",
     "text": [
      "\n",
      "\n",
      "Vectorized \t0.144362 seconds \n",
      "\t\tImprovement of 37.16 X over sequential\n",
      "\n",
      "\n",
      "PySpark \t0.473484 seconds \n",
      "\t\tImprovement of 0.30 X over vectorized \n",
      "\t\tImprovement of 11.33 X over sequential\n"
     ]
    }
   ],
   "source": [
    "from pyspark.mllib.random import RandomRDDs\n",
    "\n",
    "\n",
    "fakeDataVector_rdd = RandomRDDs.uniformRDD(sc, numValues).map(lambda x: x*4+1)\n",
    "\n",
    "start_time_map = time.time()\n",
    "\n",
    "resultVector_rdd = fakeDataVector_rdd.map(lambda x: 0 if x<=threshold else x )\n",
    "resultVector_rdd.take(1)\n",
    "\n",
    "end_time = time.time()\n",
    "\n",
    "requiredTime_pyspark_map = end_time-start_time_map\n",
    "\n",
    "print(\"\\n\\nVectorized \\t{:.6f} seconds \\n\\t\\tImprovement of {:.2f} X over sequential\".\n",
    "      format(requiredTime_vectorized, \n",
    "             requiredTime_sequential/requiredTime_vectorized))\n",
    "\n",
    "print(\"\\n\\nPySpark \\t{:.6f} seconds \\n\\t\\tImprovement of {:,.2f} X over vectorized \\n\\t\\tImprovement of {:,.2f} X over sequential\".\n",
    "      format(requiredTime_pyspark_map, \n",
    "             requiredTime_vectorized/requiredTime_pyspark_map,\n",
    "             requiredTime_sequential/requiredTime_pyspark_map))"
   ]
  },
  {
   "cell_type": "markdown",
   "metadata": {},
   "source": [
    "### To sum up\n",
    "\n",
    "#### If we take into account data creation & processing we get:"
   ]
  },
  {
   "cell_type": "code",
   "execution_count": 11,
   "metadata": {},
   "outputs": [
    {
     "name": "stdout",
     "output_type": "stream",
     "text": [
      "Sequential \t5.870652 seconds\n",
      "\n",
      "\n",
      "Vectorized \t0.651219 seconds \n",
      "\t\tImprovement of 9.01 X over sequential\n",
      "\n",
      "\n",
      "PySpark \t0.064750 seconds \n",
      "\t\tImprovement of 10.06 X over vectorized \n",
      "\t\tImprovement of 90.67 X over sequential\n"
     ]
    }
   ],
   "source": [
    "print(\"Sequential \\t{:.6f} seconds\".format(requiredTime_sequential+requiredTime_dataCreation))\n",
    "\n",
    "print(\"\\n\\nVectorized \\t{:.6f} seconds \\n\\t\\tImprovement of {:.2f} X over sequential\".\n",
    "      format(requiredTime_vectorized+requiredTime_dataCreation, \n",
    "             (requiredTime_sequential+requiredTime_dataCreation)/(requiredTime_vectorized+requiredTime_dataCreation)))\n",
    "\n",
    "print(\"\\n\\nPySpark \\t{:.6f} seconds \\n\\t\\tImprovement of {:,.2f} X over vectorized \\n\\t\\tImprovement of {:,.2f} X over sequential\".\n",
    "      format(requiredTime_pyspark_overall,\n",
    "             (requiredTime_vectorized+requiredTime_dataCreation)/requiredTime_pyspark_overall,\n",
    "             (requiredTime_sequential+requiredTime_dataCreation)/requiredTime_pyspark_overall))"
   ]
  },
  {
   "cell_type": "markdown",
   "metadata": {
    "collapsed": true
   },
   "source": [
    "### Fun fact\n",
    "\n",
    "#### They all run on the same identical hardware... they just get much better at using it"
   ]
  },
  {
   "cell_type": "code",
   "execution_count": null,
   "metadata": {
    "collapsed": true
   },
   "outputs": [],
   "source": []
  }
 ],
 "metadata": {
  "kernelspec": {
   "display_name": "Python 3",
   "language": "python",
   "name": "python3"
  },
  "language_info": {
   "codemirror_mode": {
    "name": "ipython",
    "version": 3
   },
   "file_extension": ".py",
   "mimetype": "text/x-python",
   "name": "python",
   "nbconvert_exporter": "python",
   "pygments_lexer": "ipython3",
   "version": "3.6.1"
  }
 },
 "nbformat": 4,
 "nbformat_minor": 1
}
