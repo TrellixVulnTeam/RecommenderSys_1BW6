{
 "cells": [
  {
   "cell_type": "code",
   "execution_count": 1,
   "metadata": {
    "collapsed": true
   },
   "outputs": [],
   "source": [
    "from pyspark import SparkContext\n",
    "from scipy import sparse as sm\n",
    "from sklearn.preprocessing import normalize\n",
    "import numpy as np\n",
    "import csv\n",
    "from sklearn.metrics.pairwise import cosine_similarity\n",
    "from scipy.stats import pearsonr as pears\n",
    "from collections import defaultdict\n",
    "sc = SparkContext.getOrCreate()"
   ]
  },
  {
   "cell_type": "code",
   "execution_count": 2,
   "metadata": {
    "collapsed": true
   },
   "outputs": [],
   "source": [
    "train_rdd = sc.textFile(\"data/train.csv\")\n",
    "icm_rdd = sc.textFile(\"data/icm_fede.csv\")\n",
    "test_rdd= sc.textFile(\"data/target_users.csv\")\n",
    "\n",
    "train_header = train_rdd.first()\n",
    "icm_header = icm_rdd.first()\n",
    "test_header= test_rdd.first()\n",
    "\n",
    "train_clean_data = train_rdd.filter(lambda x: x != train_header).map(lambda line: line.split(',')).map(lambda x: (int(x[0]), int(x[1]), float(x[2])))\n",
    "icm_clean_data = icm_rdd.filter(lambda x: x != icm_header).map(lambda line: line.split(',')).map(lambda x: (int(x[0]), int(x[1])))\n",
    "test_clean_data= test_rdd.filter(lambda x: x != test_header).map(lambda line: line.split(','))\n",
    "\n",
    "test_users=test_clean_data.map( lambda x: int(x[0])).collect()\n",
    "\n",
    "\n",
    "grouped_rates = train_clean_data.filter(lambda x: x[0] in test_users).map(lambda x: (x[0],x[1])).groupByKey().map(lambda x: (x[0], list(x[1]))).collect()\n",
    "grouped_rates_dic = dict(grouped_rates)\n",
    "\n",
    "\n",
    "item_ratings = train_clean_data.map(lambda x: (x[0], x[2])).aggregateByKey((0,0), lambda x,y: (x[0] + y, x[1] + 1),lambda x,y: (x[0] + y[0], x[1] + y[1]))\n",
    "user_ratings_mean = item_ratings.mapValues(lambda x: (x[0] / (x[1]))).collect()\n",
    "user_ratings_mean_dic=dict(user_ratings_mean)\n",
    "\n",
    "\n",
    "item_ratings_forTop = train_clean_data.map(lambda x: (x[1], x[2])).aggregateByKey((0,0), lambda x,y: (x[0] + y, x[1] + 1),lambda x,y: (x[0] + y[0], x[1] + y[1]))#.sortBy(lambda x: x[1][1], ascending=False)\n",
    "#item_ratings.take(10)\n",
    "shrinkage_factor = 5\n",
    "item_ratings_mean = item_ratings_forTop.mapValues(lambda x: (x[0] / (x[1] + shrinkage_factor))).sortBy(lambda x: x[1], ascending = False).map(lambda x: x[0]).collect()\n",
    "\n",
    "\n",
    "users = train_clean_data.map(lambda x: x[0]).collect()\n",
    "items = train_clean_data.map(lambda x: x[1]).collect()\n",
    "ratings = train_clean_data.map(lambda x: x[2]).collect()\n",
    "ratings_unbiased = train_clean_data.map(lambda x: x[2]-user_ratings_mean_dic[x[0]]).collect()\n",
    "\n",
    "items_for_features= icm_clean_data.map(lambda x:x[0]).collect()\n",
    "features = icm_clean_data.map(lambda x:x[1]).collect()\n",
    "items_for_features.append(37142)\n",
    "features.append(0)\n",
    "\n",
    "\n",
    "unos=[1]*len(items_for_features)\n",
    "\n",
    "UxI= sm.csr_matrix((ratings, (users, items)))\n",
    "UxI_unbiased= sm.csr_matrix((ratings_unbiased, (users, items)))\n",
    "IxF= sm.csr_matrix((unos, (items_for_features, features)))"
   ]
  },
  {
   "cell_type": "code",
   "execution_count": 3,
   "metadata": {},
   "outputs": [
    {
     "name": "stderr",
     "output_type": "stream",
     "text": [
      "/home/ubuntu/anaconda3/lib/python3.6/site-packages/sklearn/utils/validation.py:429: DataConversionWarning: Data with input dtype int64 was converted to float64 by the normalize function.\n",
      "  warnings.warn(msg, _DataConversionWarning)\n"
     ]
    }
   ],
   "source": [
    "'''begin of content based'''\n",
    "IxF_normalized=normalize(IxF,axis=1)\n",
    "NumItems,NumFeatures=IxF.shape\n",
    "NumFeatures\n",
    "IDF=[0]*NumFeatures\n",
    "for i in range(NumFeatures):\n",
    "    IDF[i]=np.log10(NumItems/len(IxF.getcol(i).nonzero()[1]))\n",
    "UxF=UxI.dot(IxF_normalized)\n",
    "FxI=IxF_normalized.multiply(IDF).T\n",
    "UxI_pred_CB=UxF.dot(FxI)"
   ]
  },
  {
   "cell_type": "code",
   "execution_count": 4,
   "metadata": {},
   "outputs": [
    {
     "name": "stderr",
     "output_type": "stream",
     "text": [
      "/home/ubuntu/anaconda3/lib/python3.6/site-packages/scipy/sparse/compressed.py:774: SparseEfficiencyWarning: Changing the sparsity structure of a csr_matrix is expensive. lil_matrix is more efficient.\n",
      "  SparseEfficiencyWarning)\n"
     ]
    }
   ],
   "source": [
    "'''contet versione prof'''\n",
    "IxF_idf=IxF.multiply(IDF)\n",
    "IxI_sim=sm.csr_matrix(cosine_similarity(IxF_idf))\n",
    "IxI_sim.setdiag(0)\n",
    "UxI_pred_CBS=UxI.dot(normalize(IxI_sim,axis=0,norm='l1' ))"
   ]
  },
  {
   "cell_type": "code",
   "execution_count": 5,
   "metadata": {},
   "outputs": [
    {
     "name": "stderr",
     "output_type": "stream",
     "text": [
      "/home/ubuntu/anaconda3/lib/python3.6/site-packages/scipy/sparse/compressed.py:774: SparseEfficiencyWarning: Changing the sparsity structure of a csr_matrix is expensive. lil_matrix is more efficient.\n",
      "  SparseEfficiencyWarning)\n"
     ]
    }
   ],
   "source": [
    "'''collaborative user based'''\n",
    "UxU_sim_dafile=sc.textFile(\"users-users-sims.csv\").map(lambda x: x.replace(\"(\",\"\").replace(\")\",\"\").replace(\" \",\"\").split(\",\")).map(lambda x: (int(x[0]), int(x[1]), float(x[2])))\n",
    "us1=UxU_sim_dafile.map(lambda x:x[0]).collect()\n",
    "us2=UxU_sim_dafile.map(lambda x:x[1]).collect()\n",
    "simsus=UxU_sim_dafile.map(lambda x:x[2]).collect()\n",
    "UxU_sim= sm.csr_matrix((simsus, (us1, us2)))\n",
    "UxU_sim.setdiag(0)\n",
    "UxI_pred_CFU=UxU_sim.dot(UxI_unbiased)"
   ]
  },
  {
   "cell_type": "code",
   "execution_count": 6,
   "metadata": {},
   "outputs": [
    {
     "name": "stderr",
     "output_type": "stream",
     "text": [
      "/home/ubuntu/anaconda3/lib/python3.6/site-packages/scipy/sparse/compressed.py:774: SparseEfficiencyWarning: Changing the sparsity structure of a csr_matrix is expensive. lil_matrix is more efficient.\n",
      "  SparseEfficiencyWarning)\n"
     ]
    }
   ],
   "source": [
    "'''collaborative item based'''\n",
    "IxI_sim_dafile=sc.textFile(\"items-items-sims.csv\").map(lambda x: x.replace(\"(\",\"\").replace(\")\",\"\").replace(\" \",\"\").split(\",\")).map(lambda x: (int(x[0]), int(x[1]), float(x[2])))\n",
    "it1=IxI_sim_dafile.map(lambda x:x[0]).collect()\n",
    "it2=IxI_sim_dafile.map(lambda x:x[1]).collect()\n",
    "simsit=IxI_sim_dafile.map(lambda x:x[2]).collect()\n",
    "IxI_sim= sm.csr_matrix((simsit, (it1, it2)))\n",
    "IxI_sim.setdiag(0)\n",
    "UxI_pred_CFI=UxI.dot(IxI_sim)"
   ]
  },
  {
   "cell_type": "code",
   "execution_count": 9,
   "metadata": {
    "collapsed": true
   },
   "outputs": [],
   "source": [
    "def medRank(user,rank1,rank2,rank3,rank4):\n",
    "    top=list()\n",
    "    counterDic = defaultdict(int)\n",
    "    orderedDic = defaultdict(list)\n",
    "    already_voted=grouped_rates_dic[user]\n",
    "    nrRanks=4\n",
    "    doR1=True\n",
    "    doR2=True\n",
    "    doR3=True\n",
    "    doR4=True\n",
    "\n",
    "    for i in range(len(rank1)):\n",
    "        #se non è stato beccato un rating predetto a 0 in questo rank\n",
    "        \n",
    "        if doR1:\n",
    "            #prendi il rating massimo\n",
    "            item1=rank1.argmax()\n",
    "            #se il rating massimo non è zero\n",
    "            if rank1[item1] > 0.0:\n",
    "                rank1[item1]=-9\n",
    "                if item1 not in already_voted:\n",
    "                    count = counterDic[item1]\n",
    "                    counterDic[item1]+=1\n",
    "                    if counterDic[item1] >= nrRanks:\n",
    "                        top+=[item1]\n",
    "                        orderedDic[count].remove(item1)\n",
    "                    else:\n",
    "                        if count > 0:\n",
    "                            orderedDic[count].remove(item1)\n",
    "                        orderedDic[count + 1] += [item1]\n",
    "                if len(top)>=5:\n",
    "                    break\n",
    "            #altrimenti smetti di prendere in considerazione questo rank\n",
    "            else:\n",
    "                doR1=False\n",
    "                #nrRanks-=1\n",
    "\n",
    "        if doR2:\n",
    "            item2=rank2.argmax()\n",
    "            if rank2[item2] > 0.0:\n",
    "                rank2[item2]=-9\n",
    "                if item2 not in already_voted:\n",
    "                    count = counterDic[item2]\n",
    "                    counterDic[item2]+=1\n",
    "                    if counterDic[item2] >= nrRanks:\n",
    "                        top+=[item2]\n",
    "                        orderedDic[count].remove(item2)\n",
    "                    else:\n",
    "                        if count > 0:\n",
    "                            orderedDic[count].remove(item2)\n",
    "                        orderedDic[count + 1] += [item2]\n",
    "                if len(top)>=5:\n",
    "                    break\n",
    "            else:\n",
    "                doR2=False\n",
    "        \n",
    "        if doR3:\n",
    "            item3=rank3.argmax()\n",
    "            if rank3[item3] > 0.0:\n",
    "                rank3[item3]=-9\n",
    "                if item3 not in already_voted:\n",
    "                    count = counterDic[item3]\n",
    "                    counterDic[item3]+=1\n",
    "                    if counterDic[item3] >= nrRanks:\n",
    "                        top+=[item3]\n",
    "                        orderedDic[count].remove(item3)\n",
    "                    else:\n",
    "                        if count > 0:\n",
    "                            orderedDic[count].remove(item3)\n",
    "                        orderedDic[count + 1] += [item3]\n",
    "                if len(top)>=5:\n",
    "                    break\n",
    "            else:\n",
    "                doR3=False\n",
    "        \n",
    "        if doR4:\n",
    "            item4=rank4.argmax()\n",
    "            if rank4[item4] > 0.0:\n",
    "                rank4[item4]=-9\n",
    "                if item4 not in already_voted:\n",
    "                    count = counterDic[item4]\n",
    "                    counterDic[item4]+=1\n",
    "                    if counterDic[item4] >= nrRanks:\n",
    "                        top+=[item4]\n",
    "                        orderedDic[count].remove(item4)\n",
    "                    else:\n",
    "                        if count > 0:\n",
    "                            orderedDic[count].remove(item4)\n",
    "                        orderedDic[count + 1] += [item4]\n",
    "                if len(top)>=5:\n",
    "                    break\n",
    "            else:\n",
    "                doR4=False\n",
    "                \n",
    "                \n",
    "        \n",
    "        if (not doR1) and (not doR2) and (not doR3) and (not doR4):\n",
    "            break\n",
    "\n",
    "\n",
    "    key_list = list(orderedDic.keys())\n",
    "    max_rank = None\n",
    "    if len(key_list) > 0:\n",
    "        max_rank = max(key_list)\n",
    "        while len(orderedDic[max_rank]) == 0:\n",
    "            key_list.remove(max_rank)\n",
    "            if len(key_list) > 0:\n",
    "                max_rank = max(key_list)\n",
    "            else:\n",
    "                max_rank = None\n",
    "                break\n",
    "    if max_rank != None:\n",
    "        for i in range(5 - len(top)):\n",
    "            top += [orderedDic[max_rank].pop(0)]\n",
    "            while len(orderedDic[max_rank]) == 0:\n",
    "                key_list.remove(max_rank)\n",
    "                if len(key_list) > 0:\n",
    "                    max_rank = max(key_list)\n",
    "                else:\n",
    "                    max_rank = None\n",
    "                    break\n",
    "            if max_rank == None:\n",
    "                break\n",
    "    return top"
   ]
  },
  {
   "cell_type": "code",
   "execution_count": null,
   "metadata": {},
   "outputs": [
    {
     "name": "stdout",
     "output_type": "stream",
     "text": [
      "1\n",
      "2\n",
      "3\n",
      "4\n",
      "5\n",
      "6\n",
      "7\n",
      "8\n",
      "9\n",
      "10\n"
     ]
    }
   ],
   "source": [
    "c=0\n",
    "f = open('submission_Hyb_medrank_4.csv', 'wt')\n",
    "writer = csv.writer(f)\n",
    "writer.writerow(('userId','RecommendedItemIds'))\n",
    "for user in test_users:\n",
    "\n",
    "    top5=medRank(user,UxI_pred_CB.getrow(user).toarray()[0],UxI_pred_CBS.getrow(user).toarray()[0],UxI_pred_CFU.getrow(user).toarray()[0],UxI_pred_CFI.getrow(user).toarray()[0])\n",
    "   \n",
    "    iterator = 0\n",
    "    for i in range(5 - len(top5)):\n",
    "        \n",
    "        while (item_ratings_mean[iterator] in grouped_rates_dic[user]) or (item_ratings_mean[iterator] in top5):            \n",
    "            iterator = iterator + 1\n",
    "        top5 += [item_ratings_mean[iterator]]        \n",
    "        iterator+=1\n",
    "\n",
    "    \n",
    "    \n",
    "    c+=1\n",
    "    print(c)\n",
    "    writer.writerow((user, '{0} {1} {2} {3} {4}'.format(top5[0], top5[1], top5[2], top5[3], top5[4])))\n",
    "\n",
    "f.close()\n"
   ]
  },
  {
   "cell_type": "code",
   "execution_count": null,
   "metadata": {
    "collapsed": true
   },
   "outputs": [],
   "source": []
  },
  {
   "cell_type": "code",
   "execution_count": null,
   "metadata": {
    "collapsed": true
   },
   "outputs": [],
   "source": []
  },
  {
   "cell_type": "code",
   "execution_count": null,
   "metadata": {
    "collapsed": true
   },
   "outputs": [],
   "source": []
  }
 ],
 "metadata": {
  "kernelspec": {
   "display_name": "Python 3",
   "language": "python",
   "name": "python3"
  },
  "language_info": {
   "codemirror_mode": {
    "name": "ipython",
    "version": 3
   },
   "file_extension": ".py",
   "mimetype": "text/x-python",
   "name": "python",
   "nbconvert_exporter": "python",
   "pygments_lexer": "ipython3",
   "version": "3.6.1"
  }
 },
 "nbformat": 4,
 "nbformat_minor": 2
}
