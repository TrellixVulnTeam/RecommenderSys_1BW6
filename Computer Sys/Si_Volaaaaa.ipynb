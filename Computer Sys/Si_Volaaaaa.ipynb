{
 "cells": [
  {
   "cell_type": "code",
   "execution_count": 1,
   "metadata": {
    "collapsed": true
   },
   "outputs": [],
   "source": [
    "from pyspark import SparkContext\n",
    "from scipy import sparse as sm\n",
    "from sklearn.preprocessing import normalize\n",
    "import numpy as np\n",
    "import csv\n",
    "from sklearn.metrics.pairwise import cosine_similarity\n",
    "from sklearn.metrics.pairwise import pairwise_distances\n",
    "from scipy.stats import spearmanr\n",
    "from scipy.stats import pearsonr as pears\n",
    "from collections import defaultdict\n",
    "from tqdm import tqdm_notebook as tqdm\n",
    "import time\n",
    "from sparsesvd import sparsesvd\n",
    "import math as mt\n",
    "sc = SparkContext.getOrCreate()"
   ]
  },
  {
   "cell_type": "code",
   "execution_count": 2,
   "metadata": {
    "collapsed": true
   },
   "outputs": [],
   "source": [
    "train_rdd = sc.textFile(\"data/train.csv\")\n",
    "icm_rdd = sc.textFile(\"data/icm_fede.csv\")\n",
    "test_rdd= sc.textFile(\"data/target_users.csv\")\n",
    "\n",
    "train_header = train_rdd.first()\n",
    "icm_header = icm_rdd.first()\n",
    "test_header= test_rdd.first()\n",
    "\n",
    "train_clean_data = train_rdd.filter(lambda x: x != train_header).map(lambda line: line.split(',')).map(lambda x: (int(x[0]), int(x[1]), float(x[2])))\n",
    "icm_clean_data = icm_rdd.filter(lambda x: x != icm_header).map(lambda line: line.split(',')).map(lambda x: (int(x[0]), int(x[1])))\n",
    "test_clean_data= test_rdd.filter(lambda x: x != test_header).map(lambda line: line.split(','))\n",
    "\n",
    "test_users=test_clean_data.map( lambda x: int(x[0])).collect()\n",
    "\n",
    "\n",
    "grouped_rates = train_clean_data.filter(lambda x: x[0] in test_users).map(lambda x: (x[0],x[1])).groupByKey().map(lambda x: (x[0], list(x[1]))).collect()\n",
    "grouped_rates_dic = dict(grouped_rates)\n",
    "\n",
    "\n",
    "item_ratings = train_clean_data.map(lambda x: (x[0], x[2])).aggregateByKey((0,0), lambda x,y: (x[0] + y, x[1] + 1),lambda x,y: (x[0] + y[0], x[1] + y[1]))\n",
    "user_ratings_mean = item_ratings.mapValues(lambda x: (x[0] / (x[1]))).collect()\n",
    "user_ratings_mean_dic=dict(user_ratings_mean)\n",
    "\n",
    "\n",
    "item_ratings_forTop = train_clean_data.map(lambda x: (x[1], x[2])).aggregateByKey((0,0), lambda x,y: (x[0] + y, x[1] + 1),lambda x,y: (x[0] + y[0], x[1] + y[1]))#.sortBy(lambda x: x[1][1], ascending=False)\n",
    "shrinkage_factor = 5\n",
    "item_ratings_mean = item_ratings_forTop.mapValues(lambda x: (x[0] / (x[1] + shrinkage_factor))).sortBy(lambda x: x[1], ascending = False).map(lambda x: x[0]).collect()\n",
    "\n",
    "\n",
    "users = train_clean_data.map(lambda x: x[0]).collect()\n",
    "items = train_clean_data.map(lambda x: x[1]).collect()\n",
    "ratings = train_clean_data.map(lambda x: x[2]).collect()\n",
    "#ratings_unbiased = train_clean_data.map(lambda x: x[2]-user_ratings_mean_dic[x[0]]).collect()\n",
    "\n",
    "items_for_features= icm_clean_data.map(lambda x:x[0]).collect()\n",
    "features = icm_clean_data.map(lambda x:x[1]).collect()\n",
    "items_for_features.append(37142)\n",
    "features.append(0)\n",
    "\n",
    "\n",
    "unos=[1]*len(items_for_features)\n",
    "\n",
    "UxI= sm.csr_matrix((ratings, (users, items)))\n",
    "#UxI_unbiased= sm.csr_matrix((ratings_unbiased, (users, items)))\n",
    "IxF= sm.csr_matrix((unos, (items_for_features, features)))"
   ]
  },
  {
   "cell_type": "code",
   "execution_count": 3,
   "metadata": {
    "collapsed": true
   },
   "outputs": [],
   "source": [
    "n_users,n_items=UxI.shape\n",
    "n_features=IxF.shape[1]"
   ]
  },
  {
   "cell_type": "code",
   "execution_count": 4,
   "metadata": {},
   "outputs": [
    {
     "name": "stdout",
     "output_type": "stream",
     "text": [
      "CPU times: user 1min 38s, sys: 160 ms, total: 1min 38s\n",
      "Wall time: 1min 38s\n"
     ]
    }
   ],
   "source": [
    "'''SVD'''\n",
    "K = 870\n",
    "%time U, S, Vt = sparsesvd(UxI.tocsc(), K)\n"
   ]
  },
  {
   "cell_type": "code",
   "execution_count": 5,
   "metadata": {},
   "outputs": [],
   "source": [
    "S=np.sqrt(S.data)\n",
    "S=np.diag(S)"
   ]
  },
  {
   "cell_type": "code",
   "execution_count": 6,
   "metadata": {},
   "outputs": [
    {
     "name": "stdout",
     "output_type": "stream",
     "text": [
      "CPU times: user 51.7 s, sys: 15.2 s, total: 1min 6s\n",
      "Wall time: 29 s\n"
     ]
    }
   ],
   "source": [
    "#calc predictions\n",
    "%time UxI_pred_SVD=sm.csr_matrix(U.T.dot(S).dot(Vt))"
   ]
  },
  {
   "cell_type": "code",
   "execution_count": 7,
   "metadata": {},
   "outputs": [
    {
     "data": {
      "application/vnd.jupyter.widget-view+json": {
       "model_id": "17bd074e7c024ac7b742fbf9e5baeb9c"
      }
     },
     "metadata": {},
     "output_type": "display_data"
    },
    {
     "name": "stdout",
     "output_type": "stream",
     "text": [
      "\n"
     ]
    },
    {
     "name": "stderr",
     "output_type": "stream",
     "text": [
      "/home/ubuntu/anaconda3/lib/python3.6/site-packages/sklearn/utils/validation.py:429: DataConversionWarning: Data with input dtype int64 was converted to float64 by the normalize function.\n",
      "  warnings.warn(msg, _DataConversionWarning)\n"
     ]
    }
   ],
   "source": [
    "'''content based'''\n",
    "IDF=[0]*n_features\n",
    "for i in tqdm(range(n_features)):\n",
    "    IDF[i]=np.log10(n_items/len(IxF.getcol(i).nonzero()[1]))\n",
    "IxF=normalize(IxF,axis=1)\n",
    "IxF_idf=IxF.multiply(IDF)\n",
    "UxF=UxI.dot(IxF_idf)\n",
    "UxI_pred_CB=UxF.dot(IxF.T)"
   ]
  },
  {
   "cell_type": "code",
   "execution_count": 8,
   "metadata": {},
   "outputs": [],
   "source": [
    "del IxF"
   ]
  },
  {
   "cell_type": "code",
   "execution_count": 9,
   "metadata": {},
   "outputs": [
    {
     "name": "stdout",
     "output_type": "stream",
     "text": [
      "CPU times: user 6.56 s, sys: 1.43 s, total: 7.99 s\n",
      "Wall time: 7.99 s\n"
     ]
    },
    {
     "name": "stderr",
     "output_type": "stream",
     "text": [
      "/home/ubuntu/anaconda3/lib/python3.6/site-packages/scipy/sparse/compressed.py:774: SparseEfficiencyWarning: Changing the sparsity structure of a csr_matrix is expensive. lil_matrix is more efficient.\n",
      "  SparseEfficiencyWarning)\n"
     ]
    }
   ],
   "source": [
    "'''collaborative filtering item based via content'''\n",
    "#calc similarities\n",
    "%time IxI_sim=IxF_idf.dot(IxF_idf.T)\n",
    "'''cos=sm.csr_matrix(cosine_similarity(IxF_idf))#\n",
    "cos.data=1/cos.data\n",
    "denominators=IxI_sim.multiply(cos)\n",
    "del cos\n",
    "denominators.data+=2\n",
    "denominators.data=1/denominators.data\n",
    "IxI_sim=IxI_sim.multiply(denominators)\n",
    "del denominators'''\n",
    "IxI_sim.setdiag(0)"
   ]
  },
  {
   "cell_type": "code",
   "execution_count": 10,
   "metadata": {},
   "outputs": [
    {
     "data": {
      "application/vnd.jupyter.widget-view+json": {
       "model_id": "62d8800106464e40945771b92a2e7de8"
      }
     },
     "metadata": {},
     "output_type": "display_data"
    },
    {
     "name": "stdout",
     "output_type": "stream",
     "text": [
      "\n"
     ]
    }
   ],
   "source": [
    "#take knn items\n",
    "IxI_sim_knn=sm.lil_matrix((n_items,n_items))\n",
    "k=200\n",
    "for i in tqdm(range(n_items)):    \n",
    "    top_k_idx =IxI_sim.getrow(i).toarray()[0].argpartition(-k)[-k:]\n",
    "    IxI_sim_knn[i,top_k_idx]=IxI_sim[i,top_k_idx]"
   ]
  },
  {
   "cell_type": "code",
   "execution_count": 11,
   "metadata": {
    "collapsed": true
   },
   "outputs": [],
   "source": [
    "del IxI_sim "
   ]
  },
  {
   "cell_type": "code",
   "execution_count": 12,
   "metadata": {},
   "outputs": [
    {
     "name": "stdout",
     "output_type": "stream",
     "text": [
      "CPU times: user 3.2 s, sys: 312 ms, total: 3.51 s\n",
      "Wall time: 3.51 s\n"
     ]
    }
   ],
   "source": [
    "#calc predictions\n",
    "%time UxI_pred_CI=UxI.dot(IxI_sim_knn.T) #k=200->582"
   ]
  },
  {
   "cell_type": "code",
   "execution_count": 13,
   "metadata": {
    "collapsed": true
   },
   "outputs": [],
   "source": [
    "del IxI_sim_knn"
   ]
  },
  {
   "cell_type": "code",
   "execution_count": 14,
   "metadata": {},
   "outputs": [
    {
     "name": "stdout",
     "output_type": "stream",
     "text": [
      "CPU times: user 5.74 s, sys: 548 ms, total: 6.28 s\n",
      "Wall time: 6.28 s\n"
     ]
    }
   ],
   "source": [
    "'''collaborative filtering user based via content'''\n",
    "#calc similarities\n",
    "%time UxU_sim=UxF.dot(UxF.T) #numerators of cosine"
   ]
  },
  {
   "cell_type": "code",
   "execution_count": 15,
   "metadata": {},
   "outputs": [
    {
     "name": "stdout",
     "output_type": "stream",
     "text": [
      "CPU times: user 14.6 s, sys: 2.89 s, total: 17.5 s\n",
      "Wall time: 17.5 s\n"
     ]
    }
   ],
   "source": [
    "%time cos=sm.csr_matrix(cosine_similarity(UxF)) #cosine\n",
    "cos.data=1/cos.data\n",
    "denominators=UxU_sim.multiply(cos) #get denominators of cosine\n",
    "del cos"
   ]
  },
  {
   "cell_type": "code",
   "execution_count": 16,
   "metadata": {},
   "outputs": [
    {
     "name": "stdout",
     "output_type": "stream",
     "text": [
      "CPU times: user 2.31 s, sys: 556 ms, total: 2.86 s\n",
      "Wall time: 2.86 s\n"
     ]
    }
   ],
   "source": [
    "denominators.data+=1 #add shrinkage to cosine denominator\n",
    "denominators.data=1/denominators.data\n",
    "%time UxU_sim=UxU_sim.multiply(denominators) #calc shrinked cosine\n",
    "del denominators"
   ]
  },
  {
   "cell_type": "code",
   "execution_count": 17,
   "metadata": {},
   "outputs": [
    {
     "name": "stderr",
     "output_type": "stream",
     "text": [
      "/home/ubuntu/anaconda3/lib/python3.6/site-packages/scipy/sparse/compressed.py:774: SparseEfficiencyWarning: Changing the sparsity structure of a csr_matrix is expensive. lil_matrix is more efficient.\n",
      "  SparseEfficiencyWarning)\n"
     ]
    }
   ],
   "source": [
    "UxU_sim.setdiag(0)"
   ]
  },
  {
   "cell_type": "code",
   "execution_count": 18,
   "metadata": {},
   "outputs": [
    {
     "data": {
      "application/vnd.jupyter.widget-view+json": {
       "model_id": "7c34d71f1c5b40c1b81271cee6ff9455"
      }
     },
     "metadata": {},
     "output_type": "display_data"
    },
    {
     "name": "stdout",
     "output_type": "stream",
     "text": [
      "\n"
     ]
    }
   ],
   "source": [
    "#take knn users\n",
    "UxU_sim_knn=sm.lil_matrix((n_users,n_users))\n",
    "k=50\n",
    "for i in tqdm(range(n_users)):    \n",
    "    top_k_idx =UxU_sim.getrow(i).toarray()[0].argpartition(-k)[-k:]\n",
    "    UxU_sim_knn[i,top_k_idx]=UxU_sim[i,top_k_idx]  "
   ]
  },
  {
   "cell_type": "code",
   "execution_count": 19,
   "metadata": {
    "collapsed": true
   },
   "outputs": [],
   "source": [
    "del UxU_sim"
   ]
  },
  {
   "cell_type": "code",
   "execution_count": 20,
   "metadata": {},
   "outputs": [
    {
     "name": "stdout",
     "output_type": "stream",
     "text": [
      "CPU times: user 1.2 s, sys: 88 ms, total: 1.29 s\n",
      "Wall time: 1.29 s\n"
     ]
    }
   ],
   "source": [
    "#calc_predictions\n",
    "%time UxI_pred_CU=UxU_sim_knn.dot(UxI) #k=75->336 k=50->382 k=30->378"
   ]
  },
  {
   "cell_type": "code",
   "execution_count": 21,
   "metadata": {
    "collapsed": true
   },
   "outputs": [],
   "source": [
    "del UxU_sim_knn\n",
    "del UxI\n",
    "del UxF\n",
    "del IxF_idf"
   ]
  },
  {
   "cell_type": "code",
   "execution_count": null,
   "metadata": {},
   "outputs": [],
   "source": [
    "#si dovrebbero convertire in lil prima di rimuovere i votati ma il kernel muore..."
   ]
  },
  {
   "cell_type": "code",
   "execution_count": 25,
   "metadata": {},
   "outputs": [
    {
     "data": {
      "application/vnd.jupyter.widget-view+json": {
       "model_id": "84a8baa324984f8ebb5717d14453e451"
      }
     },
     "metadata": {},
     "output_type": "display_data"
    },
    {
     "name": "stderr",
     "output_type": "stream",
     "text": [
      "/home/ubuntu/anaconda3/lib/python3.6/site-packages/scipy/sparse/compressed.py:774: SparseEfficiencyWarning: Changing the sparsity structure of a csr_matrix is expensive. lil_matrix is more efficient.\n",
      "  SparseEfficiencyWarning)\n"
     ]
    },
    {
     "name": "stdout",
     "output_type": "stream",
     "text": [
      "\n"
     ]
    }
   ],
   "source": [
    "#remove already voted\n",
    "for user in tqdm(test_users):\n",
    "    UxI_pred_CB[user,grouped_rates_dic[user]]=0\n",
    "    UxI_pred_CI[user,grouped_rates_dic[user]]=0\n",
    "    UxI_pred_CU[user,grouped_rates_dic[user]]=0\n",
    "    UxI_pred_SVD[user,grouped_rates_dic[user]]=0"
   ]
  },
  {
   "cell_type": "code",
   "execution_count": 29,
   "metadata": {},
   "outputs": [
    {
     "data": {
      "application/vnd.jupyter.widget-view+json": {
       "model_id": "c03cfb61edf54a6d86aef4a003c77420"
      }
     },
     "metadata": {},
     "output_type": "display_data"
    },
    {
     "name": "stdout",
     "output_type": "stream",
     "text": [
      "\n",
      "CPU times: user 13.2 s, sys: 652 ms, total: 13.8 s\n",
      "Wall time: 13.8 s\n"
     ]
    }
   ],
   "source": [
    "#rescale algorithm 1\n",
    "UxI_pred_CB_temp=sm.lil_matrix((n_users,n_items))\n",
    "for user in tqdm(test_users):       \n",
    "    OldMax=max(UxI_pred_CB.getrow(user).toarray()[0])\n",
    "    if(OldMax!=0):\n",
    "        UxI_pred_CB_temp[user,:]=(10*(UxI_pred_CB[user,:]/OldMax)) \n",
    "%time UxI_pred_CB=UxI_pred_CB_temp.tocsr()\n",
    "del UxI_pred_CB_temp"
   ]
  },
  {
   "cell_type": "code",
   "execution_count": 30,
   "metadata": {},
   "outputs": [
    {
     "data": {
      "application/vnd.jupyter.widget-view+json": {
       "model_id": "8940e727ddc54ada9b965ef883d4590c"
      }
     },
     "metadata": {},
     "output_type": "display_data"
    },
    {
     "name": "stdout",
     "output_type": "stream",
     "text": [
      "\n",
      "CPU times: user 500 ms, sys: 0 ns, total: 500 ms\n",
      "Wall time: 499 ms\n"
     ]
    },
    {
     "ename": "NameError",
     "evalue": "name 'UxI_pred_CB_temp' is not defined",
     "output_type": "error",
     "traceback": [
      "\u001b[0;31m---------------------------------------------------------------------------\u001b[0m",
      "\u001b[0;31mNameError\u001b[0m                                 Traceback (most recent call last)",
      "\u001b[0;32m<ipython-input-30-35ff17ece86a>\u001b[0m in \u001b[0;36m<module>\u001b[0;34m()\u001b[0m\n\u001b[1;32m      6\u001b[0m         \u001b[0mUxI_pred_CI_temp\u001b[0m\u001b[0;34m[\u001b[0m\u001b[0muser\u001b[0m\u001b[0;34m,\u001b[0m\u001b[0;34m:\u001b[0m\u001b[0;34m]\u001b[0m\u001b[0;34m=\u001b[0m\u001b[0;34m(\u001b[0m\u001b[0;36m10\u001b[0m\u001b[0;34m*\u001b[0m\u001b[0;34m(\u001b[0m\u001b[0mUxI_pred_CI\u001b[0m\u001b[0;34m[\u001b[0m\u001b[0muser\u001b[0m\u001b[0;34m,\u001b[0m\u001b[0;34m:\u001b[0m\u001b[0;34m]\u001b[0m\u001b[0;34m/\u001b[0m\u001b[0mOldMax\u001b[0m\u001b[0;34m)\u001b[0m\u001b[0;34m)\u001b[0m\u001b[0;34m\u001b[0m\u001b[0m\n\u001b[1;32m      7\u001b[0m \u001b[0mget_ipython\u001b[0m\u001b[0;34m(\u001b[0m\u001b[0;34m)\u001b[0m\u001b[0;34m.\u001b[0m\u001b[0mmagic\u001b[0m\u001b[0;34m(\u001b[0m\u001b[0;34m'time UxI_pred_CI=UxI_pred_CI_temp.tocsr()'\u001b[0m\u001b[0;34m)\u001b[0m\u001b[0;34m\u001b[0m\u001b[0m\n\u001b[0;32m----> 8\u001b[0;31m \u001b[0;32mdel\u001b[0m \u001b[0mUxI_pred_CB_temp\u001b[0m\u001b[0;34m\u001b[0m\u001b[0m\n\u001b[0m",
      "\u001b[0;31mNameError\u001b[0m: name 'UxI_pred_CB_temp' is not defined"
     ]
    }
   ],
   "source": [
    "#rescale algorithm 2\n",
    "UxI_pred_CI_temp=sm.lil_matrix((n_users,n_items))\n",
    "for user in tqdm(test_users):       \n",
    "    OldMax=max(UxI_pred_CI.getrow(user).toarray()[0])\n",
    "    if(OldMax!=0):\n",
    "        UxI_pred_CI_temp[user,:]=(10*(UxI_pred_CI[user,:]/OldMax)) \n",
    "%time UxI_pred_CI=UxI_pred_CI_temp.tocsr()\n",
    "del UxI_pred_CI_temp"
   ]
  },
  {
   "cell_type": "code",
   "execution_count": 32,
   "metadata": {},
   "outputs": [
    {
     "data": {
      "application/vnd.jupyter.widget-view+json": {
       "model_id": "9fe1cee37cd949d3871230b393f2b03c"
      }
     },
     "metadata": {},
     "output_type": "display_data"
    },
    {
     "name": "stdout",
     "output_type": "stream",
     "text": [
      "\n",
      "CPU times: user 1.21 s, sys: 0 ns, total: 1.21 s\n",
      "Wall time: 1.21 s\n"
     ]
    }
   ],
   "source": [
    "#rescale algorithm 3\n",
    "UxI_pred_CU_temp=sm.lil_matrix((n_users,n_items))\n",
    "for user in tqdm(test_users):       \n",
    "    OldMax=max(UxI_pred_CU.getrow(user).toarray()[0])\n",
    "    if(OldMax!=0):\n",
    "        UxI_pred_CU_temp[user,:]=(10*(UxI_pred_CU[user,:]/OldMax)) \n",
    "%time UxI_pred_CU=UxI_pred_CU_temp.tocsr()\n",
    "del UxI_pred_CU_temp"
   ]
  },
  {
   "cell_type": "code",
   "execution_count": 33,
   "metadata": {},
   "outputs": [
    {
     "data": {
      "application/vnd.jupyter.widget-view+json": {
       "model_id": "e4085b226c5f4dc0bc42b96b6aae212d"
      }
     },
     "metadata": {},
     "output_type": "display_data"
    },
    {
     "name": "stdout",
     "output_type": "stream",
     "text": [
      "\n",
      "CPU times: user 16.9 s, sys: 876 ms, total: 17.7 s\n",
      "Wall time: 17.7 s\n"
     ]
    }
   ],
   "source": [
    "#rescale algorithm 3\n",
    "UxI_pred_SVD_temp=sm.lil_matrix((n_users,n_items))\n",
    "for user in tqdm(test_users):       \n",
    "    OldMax=max(UxI_pred_SVD.getrow(user).toarray()[0])\n",
    "    if(OldMax!=0):\n",
    "        UxI_pred_SVD_temp[user,:]=(10*(UxI_pred_SVD[user,:]/OldMax)) \n",
    "%time UxI_pred_SVD=UxI_pred_SVD_temp.tocsr()\n",
    "del UxI_pred_SVD_temp"
   ]
  },
  {
   "cell_type": "markdown",
   "metadata": {
    "collapsed": true
   },
   "source": [
    "Predictions of all algorithms computed, now have fun with hybrids!"
   ]
  },
  {
   "cell_type": "code",
   "execution_count": 36,
   "metadata": {
    "collapsed": true
   },
   "outputs": [],
   "source": [
    "UxI_pred=UxI_pred_CB.multiply(0.75)+UxI_pred_SVD.multiply(0.25)"
   ]
  },
  {
   "cell_type": "code",
   "execution_count": 37,
   "metadata": {},
   "outputs": [
    {
     "data": {
      "application/vnd.jupyter.widget-view+json": {
       "model_id": "46997d59ec7a45ea80c41a8736df13df"
      }
     },
     "metadata": {},
     "output_type": "display_data"
    },
    {
     "name": "stdout",
     "output_type": "stream",
     "text": [
      "\n"
     ]
    }
   ],
   "source": [
    "f = open('submission_wSUM_CB-SVD_75-25.csv', 'wt')\n",
    "writer = csv.writer(f)\n",
    "writer.writerow(('userId','RecommendedItemIds'))\n",
    "\n",
    "for user in tqdm(test_users):\n",
    "    top=[0,0,0,0,0]\n",
    "\n",
    "    user_predictions=UxI_pred.getrow(user)\n",
    "    iterator = 0\n",
    "    for i in range(5):\n",
    "        prediction = user_predictions.argmax()\n",
    "        while prediction in grouped_rates_dic[user] and prediction != 0:\n",
    "            user_predictions[0,prediction]=-9\n",
    "            prediction=user_predictions.argmax()\n",
    "        if prediction == 0:\n",
    "            prediction = item_ratings_mean[iterator]\n",
    "            while prediction in grouped_rates_dic[user] or prediction in top:\n",
    "                iterator += 1\n",
    "                prediction = item_ratings_mean[iterator]\n",
    "            iterator += 1\n",
    "        else:\n",
    "            user_predictions[0,prediction]=-9\n",
    "        top[i]=prediction    \n",
    "    writer.writerow((user, '{0} {1} {2} {3} {4}'.format(top[0], top[1], top[2], top[3], top[4])))\n",
    "\n",
    "f.close()"
   ]
  },
  {
   "cell_type": "code",
   "execution_count": 38,
   "metadata": {
    "collapsed": true
   },
   "outputs": [],
   "source": [
    "def bordaLikeAggr(rank1,rank2):\n",
    "    result=[0]*n_items\n",
    "    rg=150\n",
    "    for i in range(rg):\n",
    "        item1=rank1.argmax()\n",
    "        item2=rank2.argmax()        \n",
    "        #item3=rank3.argmax()\n",
    "        #item3=rank3.argmax()\n",
    "\n",
    "        if rank1[item1]>0.0:\n",
    "            result[item1]+=(0.75/(i+1))\n",
    "        rank1[item1]=-9\n",
    "\n",
    "        if rank2[item2]>0.0:\n",
    "            result[item2]+=(0.25/(i+1))\n",
    "        rank2[item2]=-9\n",
    "        '''\n",
    "        if rank3[item3]>0.0:\n",
    "            result[item3]+=(0.25/(i+1))\n",
    "        rank3[item3]=-9\n",
    "        \n",
    "        if rank4[item4]>0.0:\n",
    "            result[item4]+=(0.25/(i+1))\n",
    "        rank4[item4]=-9'''\n",
    "\n",
    "    return sm.csr_matrix(result)"
   ]
  },
  {
   "cell_type": "code",
   "execution_count": 40,
   "metadata": {},
   "outputs": [
    {
     "data": {
      "application/vnd.jupyter.widget-view+json": {
       "model_id": "4681748acf724a018b8acd679b27c15e"
      }
     },
     "metadata": {},
     "output_type": "display_data"
    },
    {
     "name": "stdout",
     "output_type": "stream",
     "text": [
      "\n"
     ]
    }
   ],
   "source": [
    "f = open('submission_borda_CI-SVD_75-25.csv', 'wt')\n",
    "writer = csv.writer(f)\n",
    "writer.writerow(('userId','RecommendedItemIds'))\n",
    "for user in tqdm(test_users):\n",
    "    top=[0,0,0,0,0]\n",
    "\n",
    "    user_predictions=bordaLikeAggr(UxI_pred_CI.getrow(user).toarray()[0],UxI_pred_SVD.getrow(user).toarray()[0])\n",
    "    iterator = 0\n",
    "    for i in range(5):\n",
    "        prediction = user_predictions.argmax()\n",
    "        while prediction in grouped_rates_dic[user] and prediction != 0:\n",
    "            user_predictions[0,prediction]=-9\n",
    "            prediction=user_predictions.argmax()\n",
    "        if prediction == 0:\n",
    "            prediction = item_ratings_mean[iterator]\n",
    "            while prediction in grouped_rates_dic[user] or prediction in top:\n",
    "                iterator += 1\n",
    "                prediction = item_ratings_mean[iterator]\n",
    "            iterator += 1\n",
    "        else:\n",
    "            user_predictions[0,prediction]=-9\n",
    "        top[i]=prediction    \n",
    "    writer.writerow((user, '{0} {1} {2} {3} {4}'.format(top[0], top[1], top[2], top[3], top[4])))\n",
    "\n",
    "f.close()"
   ]
  },
  {
   "cell_type": "code",
   "execution_count": null,
   "metadata": {},
   "outputs": [],
   "source": []
  },
  {
   "cell_type": "code",
   "execution_count": null,
   "metadata": {
    "collapsed": true
   },
   "outputs": [],
   "source": []
  }
 ],
 "metadata": {
  "kernelspec": {
   "display_name": "Python 3",
   "language": "python",
   "name": "python3"
  },
  "language_info": {
   "codemirror_mode": {
    "name": "ipython",
    "version": 3
   },
   "file_extension": ".py",
   "mimetype": "text/x-python",
   "name": "python",
   "nbconvert_exporter": "python",
   "pygments_lexer": "ipython3",
   "version": "3.6.1"
  }
 },
 "nbformat": 4,
 "nbformat_minor": 2
}
