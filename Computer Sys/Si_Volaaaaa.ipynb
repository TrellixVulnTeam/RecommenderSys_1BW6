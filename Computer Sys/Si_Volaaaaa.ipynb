{
 "cells": [
  {
   "cell_type": "code",
   "execution_count": 1,
   "metadata": {
    "collapsed": true
   },
   "outputs": [],
   "source": [
    "from pyspark import SparkContext\n",
    "from scipy import sparse as sm\n",
    "from sklearn.preprocessing import normalize\n",
    "import numpy as np\n",
    "import csv\n",
    "from sklearn.metrics.pairwise import cosine_similarity\n",
    "from sklearn.metrics.pairwise import pairwise_distances\n",
    "from scipy.stats import spearmanr\n",
    "from scipy.stats import pearsonr as pears\n",
    "from collections import defaultdict\n",
    "from tqdm import tqdm_notebook as tqdm\n",
    "import time\n",
    "from sparsesvd import sparsesvd\n",
    "import math as mt\n",
    "sc = SparkContext.getOrCreate()"
   ]
  },
  {
   "cell_type": "code",
   "execution_count": 2,
   "metadata": {
    "collapsed": true
   },
   "outputs": [],
   "source": [
    "train_rdd = sc.textFile(\"data/train.csv\")\n",
    "icm_rdd = sc.textFile(\"data/icm_fede.csv\")\n",
    "test_rdd= sc.textFile(\"data/target_users.csv\")\n",
    "\n",
    "train_header = train_rdd.first()\n",
    "icm_header = icm_rdd.first()\n",
    "test_header= test_rdd.first()\n",
    "\n",
    "train_clean_data = train_rdd.filter(lambda x: x != train_header).map(lambda line: line.split(',')).map(lambda x: (int(x[0]), int(x[1]), float(x[2])))\n",
    "icm_clean_data = icm_rdd.filter(lambda x: x != icm_header).map(lambda line: line.split(',')).map(lambda x: (int(x[0]), int(x[1])))\n",
    "test_clean_data= test_rdd.filter(lambda x: x != test_header).map(lambda line: line.split(','))\n",
    "\n",
    "test_users=test_clean_data.map( lambda x: int(x[0])).collect()\n",
    "\n",
    "\n",
    "grouped_rates = train_clean_data.filter(lambda x: x[0] in test_users).map(lambda x: (x[0],x[1])).groupByKey().map(lambda x: (x[0], list(x[1]))).collect()\n",
    "grouped_rates_dic = dict(grouped_rates)\n",
    "\n",
    "\n",
    "item_ratings = train_clean_data.map(lambda x: (x[0], x[2])).aggregateByKey((0,0), lambda x,y: (x[0] + y, x[1] + 1),lambda x,y: (x[0] + y[0], x[1] + y[1]))\n",
    "user_ratings_mean = item_ratings.mapValues(lambda x: (x[0] / (x[1]))).collect()\n",
    "user_ratings_mean_dic=dict(user_ratings_mean)\n",
    "\n",
    "\n",
    "item_ratings_forTop = train_clean_data.map(lambda x: (x[1], x[2])).aggregateByKey((0,0), lambda x,y: (x[0] + y, x[1] + 1),lambda x,y: (x[0] + y[0], x[1] + y[1]))#.sortBy(lambda x: x[1][1], ascending=False)\n",
    "shrinkage_factor = 5\n",
    "item_ratings_mean = item_ratings_forTop.mapValues(lambda x: (x[0] / (x[1] + shrinkage_factor))).sortBy(lambda x: x[1], ascending = False).map(lambda x: x[0]).collect()\n",
    "\n",
    "\n",
    "users = train_clean_data.map(lambda x: x[0]).collect()\n",
    "items = train_clean_data.map(lambda x: x[1]).collect()\n",
    "ratings = train_clean_data.map(lambda x: x[2]).collect()\n",
    "#ratings_unbiased = train_clean_data.map(lambda x: x[2]-user_ratings_mean_dic[x[0]]).collect()\n",
    "\n",
    "items_for_features= icm_clean_data.map(lambda x:x[0]).collect()\n",
    "features = icm_clean_data.map(lambda x:x[1]).collect()\n",
    "items_for_features.append(37142)\n",
    "features.append(0)\n",
    "\n",
    "\n",
    "unos=[1]*len(items_for_features)\n",
    "\n",
    "UxI= sm.csr_matrix((ratings, (users, items)))\n",
    "#UxI_unbiased= sm.csr_matrix((ratings_unbiased, (users, items)))\n",
    "IxF= sm.csr_matrix((unos, (items_for_features, features)))"
   ]
  },
  {
   "cell_type": "code",
   "execution_count": 3,
   "metadata": {
    "collapsed": true
   },
   "outputs": [],
   "source": [
    "n_users,n_items=UxI.shape\n",
    "n_features=IxF.shape[1]"
   ]
  },
  {
   "cell_type": "code",
   "execution_count": 4,
   "metadata": {},
   "outputs": [
    {
     "name": "stdout",
     "output_type": "stream",
     "text": [
      "CPU times: user 1min 40s, sys: 180 ms, total: 1min 40s\n",
      "Wall time: 1min 40s\n"
     ]
    }
   ],
   "source": [
    "'''SVD'''\n",
    "K = 870\n",
    "%time U, S, Vt = sparsesvd(UxI.tocsc(), K)\n"
   ]
  },
  {
   "cell_type": "code",
   "execution_count": 5,
   "metadata": {
    "collapsed": true
   },
   "outputs": [],
   "source": [
    "S=np.sqrt(S.data)\n",
    "S=np.diag(S)"
   ]
  },
  {
   "cell_type": "code",
   "execution_count": 6,
   "metadata": {},
   "outputs": [
    {
     "name": "stdout",
     "output_type": "stream",
     "text": [
      "CPU times: user 49 s, sys: 5.59 s, total: 54.6 s\n",
      "Wall time: 28.1 s\n"
     ]
    }
   ],
   "source": [
    "#calc predictions\n",
    "%time UxI_pred_SVD=sm.csr_matrix(U.T.dot(S).dot(Vt))"
   ]
  },
  {
   "cell_type": "code",
   "execution_count": 7,
   "metadata": {},
   "outputs": [
    {
     "data": {
      "application/vnd.jupyter.widget-view+json": {
       "model_id": "04c8de049edf4f22a989d8bcbe0eaa18"
      }
     },
     "metadata": {},
     "output_type": "display_data"
    },
    {
     "name": "stdout",
     "output_type": "stream",
     "text": [
      "\n",
      "CPU times: user 0 ns, sys: 0 ns, total: 0 ns\n",
      "Wall time: 4.15 ms\n",
      "CPU times: user 8 ms, sys: 0 ns, total: 8 ms\n",
      "Wall time: 4.76 ms\n",
      "CPU times: user 52 ms, sys: 4 ms, total: 56 ms\n",
      "Wall time: 55.8 ms\n"
     ]
    },
    {
     "name": "stderr",
     "output_type": "stream",
     "text": [
      "/home/ubuntu/anaconda3/lib/python3.6/site-packages/sklearn/utils/validation.py:429: DataConversionWarning: Data with input dtype int64 was converted to float64 by the normalize function.\n",
      "  warnings.warn(msg, _DataConversionWarning)\n"
     ]
    },
    {
     "name": "stdout",
     "output_type": "stream",
     "text": [
      "CPU times: user 7.74 s, sys: 1.23 s, total: 8.97 s\n",
      "Wall time: 8.97 s\n"
     ]
    }
   ],
   "source": [
    "'''content based'''\n",
    "IDF=[0]*n_features\n",
    "for i in tqdm(range(n_features)):\n",
    "    IDF[i]=np.log10(n_items/len(IxF.getcol(i).nonzero()[1]))\n",
    "%time IxF=normalize(IxF,axis=1)\n",
    "%time IxF_idf=IxF.multiply(IDF)\n",
    "%time UxF=UxI.dot(IxF_idf)\n",
    "%time UxI_pred_CB=UxF.dot(IxF.T)"
   ]
  },
  {
   "cell_type": "code",
   "execution_count": 8,
   "metadata": {
    "collapsed": true
   },
   "outputs": [],
   "source": [
    "del IxF"
   ]
  },
  {
   "cell_type": "code",
   "execution_count": 9,
   "metadata": {},
   "outputs": [
    {
     "name": "stdout",
     "output_type": "stream",
     "text": [
      "CPU times: user 6.56 s, sys: 1.4 s, total: 7.96 s\n",
      "Wall time: 7.96 s\n"
     ]
    },
    {
     "name": "stderr",
     "output_type": "stream",
     "text": [
      "/home/ubuntu/anaconda3/lib/python3.6/site-packages/scipy/sparse/compressed.py:774: SparseEfficiencyWarning: Changing the sparsity structure of a csr_matrix is expensive. lil_matrix is more efficient.\n",
      "  SparseEfficiencyWarning)\n"
     ]
    }
   ],
   "source": [
    "'''collaborative filtering item based via content'''\n",
    "#calc similarities\n",
    "%time IxI_sim=IxF_idf.dot(IxF_idf.T)\n",
    "IxI_sim.setdiag(0)"
   ]
  },
  {
   "cell_type": "code",
   "execution_count": 10,
   "metadata": {},
   "outputs": [
    {
     "data": {
      "application/vnd.jupyter.widget-view+json": {
       "model_id": "b5fce98fed3e4b78bb5f5257f6b313c1"
      }
     },
     "metadata": {},
     "output_type": "display_data"
    },
    {
     "name": "stdout",
     "output_type": "stream",
     "text": [
      "\n"
     ]
    }
   ],
   "source": [
    "#take knn items\n",
    "IxI_sim_knn=sm.lil_matrix((n_items,n_items))\n",
    "k=200\n",
    "for i in tqdm(range(n_items)):    \n",
    "    top_k_idx =IxI_sim.getrow(i).toarray()[0].argpartition(-k)[-k:]\n",
    "    IxI_sim_knn[i,top_k_idx]=IxI_sim[i,top_k_idx]"
   ]
  },
  {
   "cell_type": "code",
   "execution_count": 11,
   "metadata": {
    "collapsed": true
   },
   "outputs": [],
   "source": [
    "del IxI_sim "
   ]
  },
  {
   "cell_type": "code",
   "execution_count": 12,
   "metadata": {},
   "outputs": [
    {
     "name": "stdout",
     "output_type": "stream",
     "text": [
      "CPU times: user 3.18 s, sys: 340 ms, total: 3.52 s\n",
      "Wall time: 3.52 s\n"
     ]
    }
   ],
   "source": [
    "#calc predictions\n",
    "%time UxI_pred_CI=UxI.dot(IxI_sim_knn.T)"
   ]
  },
  {
   "cell_type": "code",
   "execution_count": 13,
   "metadata": {
    "collapsed": true
   },
   "outputs": [],
   "source": [
    "del IxI_sim_knn"
   ]
  },
  {
   "cell_type": "code",
   "execution_count": 14,
   "metadata": {},
   "outputs": [
    {
     "name": "stdout",
     "output_type": "stream",
     "text": [
      "CPU times: user 5.82 s, sys: 464 ms, total: 6.28 s\n",
      "Wall time: 6.28 s\n"
     ]
    }
   ],
   "source": [
    "'''collaborative filtering user based via content'''\n",
    "#calc similarities\n",
    "%time UxU_sim=UxF.dot(UxF.T) #numerators of cosine"
   ]
  },
  {
   "cell_type": "code",
   "execution_count": 15,
   "metadata": {},
   "outputs": [
    {
     "name": "stdout",
     "output_type": "stream",
     "text": [
      "CPU times: user 14.7 s, sys: 2.92 s, total: 17.6 s\n",
      "Wall time: 17.6 s\n"
     ]
    }
   ],
   "source": [
    "%time cos=sm.csr_matrix(cosine_similarity(UxF)) #cosine\n",
    "cos.data=1/cos.data\n",
    "denominators=UxU_sim.multiply(cos) #get denominators of cosine\n",
    "del cos"
   ]
  },
  {
   "cell_type": "code",
   "execution_count": 16,
   "metadata": {},
   "outputs": [
    {
     "name": "stdout",
     "output_type": "stream",
     "text": [
      "CPU times: user 2.31 s, sys: 568 ms, total: 2.88 s\n",
      "Wall time: 2.88 s\n"
     ]
    }
   ],
   "source": [
    "denominators.data+=1 #add shrinkage to cosine denominator\n",
    "denominators.data=1/denominators.data\n",
    "%time UxU_sim=UxU_sim.multiply(denominators) #calc shrinked cosine\n",
    "del denominators"
   ]
  },
  {
   "cell_type": "code",
   "execution_count": 17,
   "metadata": {},
   "outputs": [
    {
     "name": "stderr",
     "output_type": "stream",
     "text": [
      "/home/ubuntu/anaconda3/lib/python3.6/site-packages/scipy/sparse/compressed.py:774: SparseEfficiencyWarning: Changing the sparsity structure of a csr_matrix is expensive. lil_matrix is more efficient.\n",
      "  SparseEfficiencyWarning)\n"
     ]
    }
   ],
   "source": [
    "UxU_sim.setdiag(0)"
   ]
  },
  {
   "cell_type": "code",
   "execution_count": 18,
   "metadata": {},
   "outputs": [
    {
     "data": {
      "application/vnd.jupyter.widget-view+json": {
       "model_id": "77815d4b9be74a1499c4bab4545b64fb"
      }
     },
     "metadata": {},
     "output_type": "display_data"
    },
    {
     "name": "stdout",
     "output_type": "stream",
     "text": [
      "\n"
     ]
    }
   ],
   "source": [
    "#take knn users\n",
    "UxU_sim_knn=sm.lil_matrix((n_users,n_users))\n",
    "k=50\n",
    "for i in tqdm(range(n_users)):    \n",
    "    top_k_idx =UxU_sim.getrow(i).toarray()[0].argpartition(-k)[-k:]\n",
    "    UxU_sim_knn[i,top_k_idx]=UxU_sim[i,top_k_idx]  "
   ]
  },
  {
   "cell_type": "code",
   "execution_count": 19,
   "metadata": {
    "collapsed": true
   },
   "outputs": [],
   "source": [
    "del UxU_sim"
   ]
  },
  {
   "cell_type": "code",
   "execution_count": 20,
   "metadata": {},
   "outputs": [
    {
     "name": "stdout",
     "output_type": "stream",
     "text": [
      "CPU times: user 1.16 s, sys: 104 ms, total: 1.26 s\n",
      "Wall time: 1.26 s\n"
     ]
    }
   ],
   "source": [
    "#calc_predictions\n",
    "%time UxI_pred_CU=UxU_sim_knn.dot(UxI) #k=50->382"
   ]
  },
  {
   "cell_type": "code",
   "execution_count": 21,
   "metadata": {
    "collapsed": true
   },
   "outputs": [],
   "source": [
    "del UxU_sim_knn\n",
    "del UxI\n",
    "del UxF\n",
    "del IxF_idf"
   ]
  },
  {
   "cell_type": "code",
   "execution_count": 22,
   "metadata": {},
   "outputs": [
    {
     "data": {
      "text/plain": [
       "''"
      ]
     },
     "execution_count": 22,
     "metadata": {},
     "output_type": "execute_result"
    }
   ],
   "source": [
    "'''aaaaaaaaaalllllttttt rimuovere già votati con lil altrimenti ci mette 10 minuti... ma convertendo a lil il kernel muore'''\n",
    "''''''"
   ]
  },
  {
   "cell_type": "code",
   "execution_count": 23,
   "metadata": {
    "collapsed": true
   },
   "outputs": [],
   "source": [
    "#create matrix for test users predictions\n",
    "UxI_pred_CB_test=sm.lil_matrix((n_users,n_items))\n",
    "UxI_pred_CI_test=sm.lil_matrix((n_users,n_items))\n",
    "UxI_pred_CU_test=sm.lil_matrix((n_users,n_items))\n",
    "UxI_pred_SVD_test=sm.lil_matrix((n_users,n_items))"
   ]
  },
  {
   "cell_type": "code",
   "execution_count": 24,
   "metadata": {},
   "outputs": [
    {
     "name": "stdout",
     "output_type": "stream",
     "text": [
      "CPU times: user 20.9 s, sys: 3.36 s, total: 24.3 s\n",
      "Wall time: 24.3 s\n",
      "CPU times: user 11 s, sys: 368 ms, total: 11.3 s\n",
      "Wall time: 11.3 s\n",
      "CPU times: user 12 s, sys: 504 ms, total: 12.5 s\n",
      "Wall time: 12.5 s\n",
      "CPU times: user 21.3 s, sys: 4.25 s, total: 25.6 s\n",
      "Wall time: 25.6 s\n"
     ]
    }
   ],
   "source": [
    "#take only test users predictions\n",
    "%time UxI_pred_CB_test[test_users,:]=UxI_pred_CB[test_users,:]\n",
    "%time UxI_pred_CI_test[test_users,:]=UxI_pred_CI[test_users,:]\n",
    "%time UxI_pred_CU_test[test_users,:]=UxI_pred_CU[test_users,:]\n",
    "%time UxI_pred_SVD_test[test_users,:]=UxI_pred_SVD[test_users,:]"
   ]
  },
  {
   "cell_type": "code",
   "execution_count": 25,
   "metadata": {},
   "outputs": [
    {
     "data": {
      "application/vnd.jupyter.widget-view+json": {
       "model_id": "c408c29ab8ab4251a329062142fa938c"
      }
     },
     "metadata": {},
     "output_type": "display_data"
    },
    {
     "name": "stdout",
     "output_type": "stream",
     "text": [
      "\n"
     ]
    }
   ],
   "source": [
    "#remove items already voted\n",
    "for user in tqdm(test_users):\n",
    "    UxI_pred_CB_test[user,grouped_rates_dic[user]]=0\n",
    "    UxI_pred_CI_test[user,grouped_rates_dic[user]]=0\n",
    "    UxI_pred_CU_test[user,grouped_rates_dic[user]]=0\n",
    "    UxI_pred_SVD_test[user,grouped_rates_dic[user]]=0"
   ]
  },
  {
   "cell_type": "code",
   "execution_count": null,
   "metadata": {},
   "outputs": [
    {
     "name": "stdout",
     "output_type": "stream",
     "text": [
      "CPU times: user 16.2 s, sys: 992 ms, total: 17.2 s\n",
      "Wall time: 17.2 s\n",
      "CPU times: user 596 ms, sys: 8 ms, total: 604 ms\n",
      "Wall time: 607 ms\n",
      "CPU times: user 1.48 s, sys: 20 ms, total: 1.5 s\n",
      "Wall time: 1.5 s\n",
      "CPU times: user 21.6 s, sys: 1.18 s, total: 22.8 s\n",
      "Wall time: 22.8 s\n"
     ]
    }
   ],
   "source": [
    "#convert to csr to improve future operations performances\n",
    "%time UxI_pred_CB_test=UxI_pred_CB_test.tocsr()\n",
    "%time UxI_pred_CI_test=UxI_pred_CI_test.tocsr()\n",
    "%time UxI_pred_CU_test=UxI_pred_CU_test.tocsr()\n",
    "%time UxI_pred_SVD_test=UxI_pred_SVD_test.tocsr()"
   ]
  },
  {
   "cell_type": "markdown",
   "metadata": {},
   "source": [
    "#rescale algorithm 1\n",
    "UxI_pred_CB_temp=sm.lil_matrix((n_users,n_items))\n",
    "for user in tqdm(test_users):       \n",
    "    OldMax=max(UxI_pred_CB.getrow(user).toarray()[0])\n",
    "    if(OldMax!=0):\n",
    "        UxI_pred_CB_temp[user,:]=(10*(UxI_pred_CB[user,:]/OldMax)) \n",
    "%time UxI_pred_CB=UxI_pred_CB_temp.tocsr()\n",
    "del UxI_pred_CB_temp"
   ]
  },
  {
   "cell_type": "markdown",
   "metadata": {},
   "source": [
    "#rescale algorithm 2\n",
    "UxI_pred_CI_temp=sm.lil_matrix((n_users,n_items))\n",
    "for user in tqdm(test_users):       \n",
    "    OldMax=max(UxI_pred_CI.getrow(user).toarray()[0])\n",
    "    if(OldMax!=0):\n",
    "        UxI_pred_CI_temp[user,:]=(10*(UxI_pred_CI[user,:]/OldMax)) \n",
    "%time UxI_pred_CI=UxI_pred_CI_temp.tocsr()\n",
    "del UxI_pred_CI_temp"
   ]
  },
  {
   "cell_type": "markdown",
   "metadata": {},
   "source": [
    "#rescale algorithm 3\n",
    "UxI_pred_CU_temp=sm.lil_matrix((n_users,n_items))\n",
    "for user in tqdm(test_users):       \n",
    "    OldMax=max(UxI_pred_CU.getrow(user).toarray()[0])\n",
    "    if(OldMax!=0):\n",
    "        UxI_pred_CU_temp[user,:]=(10*(UxI_pred_CU[user,:]/OldMax)) \n",
    "%time UxI_pred_CU=UxI_pred_CU_temp.tocsr()\n",
    "del UxI_pred_CU_temp"
   ]
  },
  {
   "cell_type": "markdown",
   "metadata": {},
   "source": [
    "#rescale algorithm 4\n",
    "UxI_pred_SVD_temp=sm.lil_matrix((n_users,n_items))\n",
    "for user in tqdm(test_users):       \n",
    "    OldMax=max(UxI_pred_SVD.getrow(user).toarray()[0])\n",
    "    if(OldMax!=0):\n",
    "        UxI_pred_SVD_temp[user,:]=(10*(UxI_pred_SVD[user,:]/OldMax)) \n",
    "%time UxI_pred_SVD=UxI_pred_SVD_temp.tocsr()\n",
    "del UxI_pred_SVD_temp"
   ]
  },
  {
   "cell_type": "code",
   "execution_count": null,
   "metadata": {},
   "outputs": [],
   "source": [
    "#rescale algoritms\n",
    "%time UxI_pred_CB_test/=UxI_pred_CB.max()\n",
    "%time UxI_pred_CI_test/=UxI_pred_CI.max()\n",
    "%time UxI_pred_CU_test/=UxI_pred_CU.max()\n",
    "%time UxI_pred_SVD_test/=UxI_pred_SVD.max()"
   ]
  },
  {
   "cell_type": "markdown",
   "metadata": {
    "collapsed": true
   },
   "source": [
    "Predictions of all algorithms computed, now have fun with hybrids!"
   ]
  },
  {
   "cell_type": "code",
   "execution_count": null,
   "metadata": {},
   "outputs": [],
   "source": [
    "%time UxI_pred_1=UxI_pred_CB_test*0.80+UxI_pred_SVD_test*0.20"
   ]
  },
  {
   "cell_type": "code",
   "execution_count": null,
   "metadata": {},
   "outputs": [],
   "source": [
    "%time UxI_pred_1/=UxI_pred_1.max()"
   ]
  },
  {
   "cell_type": "code",
   "execution_count": 54,
   "metadata": {},
   "outputs": [
    {
     "name": "stdout",
     "output_type": "stream",
     "text": [
      "CPU times: user 832 ms, sys: 724 ms, total: 1.56 s\n",
      "Wall time: 1.56 s\n"
     ]
    }
   ],
   "source": [
    "%time UxI_pred_2=UxI_pred_1*0.98+UxI_pred_CI_test*0.02"
   ]
  },
  {
   "cell_type": "code",
   "execution_count": 55,
   "metadata": {},
   "outputs": [
    {
     "name": "stdout",
     "output_type": "stream",
     "text": [
      "CPU times: user 372 ms, sys: 0 ns, total: 372 ms\n",
      "Wall time: 369 ms\n"
     ]
    }
   ],
   "source": [
    "%time UxI_pred_2/=UxI_pred_2.max()"
   ]
  },
  {
   "cell_type": "code",
   "execution_count": 76,
   "metadata": {},
   "outputs": [
    {
     "name": "stdout",
     "output_type": "stream",
     "text": [
      "CPU times: user 952 ms, sys: 336 ms, total: 1.29 s\n",
      "Wall time: 1.29 s\n"
     ]
    }
   ],
   "source": [
    "%time UxI_pred=UxI_pred_2*0.99+UxI_pred_CU_test*0.01"
   ]
  },
  {
   "cell_type": "code",
   "execution_count": 77,
   "metadata": {},
   "outputs": [
    {
     "name": "stdout",
     "output_type": "stream",
     "text": [
      "CPU times: user 364 ms, sys: 0 ns, total: 364 ms\n",
      "Wall time: 364 ms\n"
     ]
    }
   ],
   "source": [
    "%time UxI_pred/=UxI_pred.max()"
   ]
  },
  {
   "cell_type": "code",
   "execution_count": 78,
   "metadata": {},
   "outputs": [
    {
     "data": {
      "application/vnd.jupyter.widget-view+json": {
       "model_id": "eb8e45e238804467a2ce2711be04bebe"
      }
     },
     "metadata": {},
     "output_type": "display_data"
    },
    {
     "name": "stdout",
     "output_type": "stream",
     "text": [
      "\n"
     ]
    }
   ],
   "source": [
    "f = open('submission_wSUM_CB-SVD-80-20_CI-98-2_CU-99-1.csv', 'wt')\n",
    "#f = open('submission_CBBBB.csv', 'wt')\n",
    "writer = csv.writer(f)\n",
    "writer.writerow(('userId','RecommendedItemIds'))\n",
    "\n",
    "for user in tqdm(test_users):\n",
    "    top=[]\n",
    "\n",
    "    user_predictions=user_predictions=(-UxI_pred.getrow(user).toarray()[0]).argsort()\n",
    "    i=0\n",
    "    while len(top)<=5:\n",
    "        prediction=user_predictions[i]\n",
    "        \n",
    "        if UxI_pred[user,prediction]==0.0:\n",
    "            j=0\n",
    "            while len(top)<=5:\n",
    "                prediction = item_ratings_mean[j]\n",
    "                while prediction in grouped_rates_dic[user] or prediction in top:\n",
    "                    j += 1\n",
    "                    prediction = item_ratings_mean[j]\n",
    "                top.append(prediction)\n",
    "                j += 1\n",
    "        \n",
    "        \n",
    "        \n",
    "        if prediction in grouped_rates_dic[user]:\n",
    "            i+=1\n",
    "            continue\n",
    "        \n",
    "        i+=1\n",
    "        top.append(prediction)\n",
    "        \n",
    "   \n",
    "    writer.writerow((user, '{0} {1} {2} {3} {4}'.format(top[0], top[1], top[2], top[3], top[4])))\n",
    "\n",
    "f.close()"
   ]
  },
  {
   "cell_type": "code",
   "execution_count": 63,
   "metadata": {},
   "outputs": [
    {
     "data": {
      "text/plain": [
       "0.0035030769571082372"
      ]
     },
     "execution_count": 63,
     "metadata": {},
     "output_type": "execute_result"
    }
   ],
   "source": [
    "UxI_pred_1[UxI_pred_1.nonzero()].mean()\n"
   ]
  },
  {
   "cell_type": "code",
   "execution_count": 66,
   "metadata": {},
   "outputs": [
    {
     "data": {
      "text/plain": [
       "0.015697336846175875"
      ]
     },
     "execution_count": 66,
     "metadata": {},
     "output_type": "execute_result"
    }
   ],
   "source": [
    "UxI_pred_CI_test[UxI_pred_CI_test.nonzero()].mean()"
   ]
  },
  {
   "cell_type": "code",
   "execution_count": 62,
   "metadata": {},
   "outputs": [
    {
     "data": {
      "text/plain": [
       "0.0035117705324024819"
      ]
     },
     "execution_count": 62,
     "metadata": {},
     "output_type": "execute_result"
    }
   ],
   "source": [
    "UxI_pred_2[UxI_pred_2.nonzero()].mean()\n"
   ]
  },
  {
   "cell_type": "code",
   "execution_count": 67,
   "metadata": {},
   "outputs": [
    {
     "data": {
      "text/plain": [
       "0.0081333590405483248"
      ]
     },
     "execution_count": 67,
     "metadata": {},
     "output_type": "execute_result"
    }
   ],
   "source": [
    "UxI_pred_CU_test[UxI_pred_CU_test.nonzero()].mean()"
   ]
  },
  {
   "cell_type": "code",
   "execution_count": 73,
   "metadata": {},
   "outputs": [
    {
     "data": {
      "text/plain": [
       "0.0035225282094090734"
      ]
     },
     "execution_count": 73,
     "metadata": {},
     "output_type": "execute_result"
    }
   ],
   "source": [
    "UxI_pred[UxI_pred.nonzero()].mean()"
   ]
  },
  {
   "cell_type": "code",
   "execution_count": 74,
   "metadata": {},
   "outputs": [
    {
     "data": {
      "text/plain": [
       "1.0"
      ]
     },
     "execution_count": 74,
     "metadata": {},
     "output_type": "execute_result"
    }
   ],
   "source": [
    "UxI_pred[UxI_pred.nonzero()].max()"
   ]
  },
  {
   "cell_type": "code",
   "execution_count": null,
   "metadata": {
    "collapsed": true
   },
   "outputs": [],
   "source": []
  },
  {
   "cell_type": "code",
   "execution_count": null,
   "metadata": {
    "collapsed": true
   },
   "outputs": [],
   "source": []
  }
 ],
 "metadata": {
  "kernelspec": {
   "display_name": "Python 3",
   "language": "python",
   "name": "python3"
  },
  "language_info": {
   "codemirror_mode": {
    "name": "ipython",
    "version": 3
   },
   "file_extension": ".py",
   "mimetype": "text/x-python",
   "name": "python",
   "nbconvert_exporter": "python",
   "pygments_lexer": "ipython3",
   "version": "3.6.1"
  }
 },
 "nbformat": 4,
 "nbformat_minor": 2
}
