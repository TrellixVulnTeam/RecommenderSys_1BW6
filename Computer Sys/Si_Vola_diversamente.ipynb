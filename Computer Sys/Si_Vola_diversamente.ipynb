{
 "cells": [
  {
   "cell_type": "code",
   "execution_count": 1,
   "metadata": {
    "collapsed": true
   },
   "outputs": [],
   "source": [
    "from pyspark import SparkContext\n",
    "from scipy import sparse as sm\n",
    "from sklearn.preprocessing import normalize\n",
    "import numpy as np\n",
    "import csv\n",
    "from sklearn.metrics.pairwise import cosine_similarity\n",
    "from sklearn.metrics.pairwise import pairwise_distances\n",
    "from scipy.stats import spearmanr\n",
    "from scipy.stats import pearsonr as pears\n",
    "from collections import defaultdict\n",
    "from tqdm import tqdm_notebook as tqdm\n",
    "import time\n",
    "from sparsesvd import sparsesvd\n",
    "import math as mt\n",
    "sc = SparkContext.getOrCreate()"
   ]
  },
  {
   "cell_type": "code",
   "execution_count": 2,
   "metadata": {
    "collapsed": true
   },
   "outputs": [],
   "source": [
    "train_rdd = sc.textFile(\"data/train.csv\")\n",
    "icm_rdd = sc.textFile(\"data/icm_fede.csv\")\n",
    "test_rdd= sc.textFile(\"data/target_users.csv\")\n",
    "\n",
    "train_header = train_rdd.first()\n",
    "icm_header = icm_rdd.first()\n",
    "test_header= test_rdd.first()\n",
    "\n",
    "train_clean_data = train_rdd.filter(lambda x: x != train_header).map(lambda line: line.split(',')).map(lambda x: (int(x[0]), int(x[1]), float(x[2])))\n",
    "icm_clean_data = icm_rdd.filter(lambda x: x != icm_header).map(lambda line: line.split(',')).map(lambda x: (int(x[0]), int(x[1])))\n",
    "test_clean_data= test_rdd.filter(lambda x: x != test_header).map(lambda line: line.split(','))\n",
    "\n",
    "test_users=test_clean_data.map( lambda x: int(x[0])).collect()\n",
    "\n",
    "\n",
    "grouped_rates = train_clean_data.filter(lambda x: x[0] in test_users).map(lambda x: (x[0],x[1])).groupByKey().map(lambda x: (x[0], list(x[1]))).collect()\n",
    "grouped_rates_dic = dict(grouped_rates)\n",
    "\n",
    "\n",
    "item_ratings = train_clean_data.map(lambda x: (x[0], x[2])).aggregateByKey((0,0), lambda x,y: (x[0] + y, x[1] + 1),lambda x,y: (x[0] + y[0], x[1] + y[1]))\n",
    "user_ratings_mean = item_ratings.mapValues(lambda x: (x[0] / (x[1]))).collect()\n",
    "user_ratings_mean_dic=dict(user_ratings_mean)\n",
    "\n",
    "\n",
    "item_ratings_forTop = train_clean_data.map(lambda x: (x[1], x[2])).aggregateByKey((0,0), lambda x,y: (x[0] + y, x[1] + 1),lambda x,y: (x[0] + y[0], x[1] + y[1]))#.sortBy(lambda x: x[1][1], ascending=False)\n",
    "shrinkage_factor = 5\n",
    "item_ratings_mean = item_ratings_forTop.mapValues(lambda x: (x[0] / (x[1] + shrinkage_factor))).sortBy(lambda x: x[1], ascending = False).map(lambda x: x[0]).collect()\n",
    "\n",
    "\n",
    "#matrix interactions with global effect creation\n",
    "users = train_clean_data.map(lambda x: x[0]).collect()\n",
    "items = train_clean_data.map(lambda x: x[1]).collect()\n",
    "ratings = train_clean_data.map(lambda x: x[2]).collect()\n",
    "UxI_basic= sm.csr_matrix((ratings, (users, items)))\n",
    "\n",
    "#remove global effect\n",
    "global_mean = train_clean_data.map(lambda x: x[2]).mean()\n",
    "\n",
    "trainr2 = train_clean_data.map(lambda x: (x[0], x[1], x[2]-global_mean))\n",
    "temp = trainr2.map(lambda x: (x[1],(x[2],1))).reduceByKey(lambda x,y: (x[0]+y[0], x[1]+y[1])).mapValues(lambda x: x[0]/x[1])\n",
    "i_Bias = temp.collectAsMap()\n",
    "\n",
    "trainr3 = trainr2.map(lambda x: (x[0],x[1], x[2] - i_Bias.get(x[1],0)))\n",
    "temp2 = trainr3.map(lambda x: (x[0],(x[2],1))).reduceByKey(lambda x,y: (x[0]+y[0], x[1]+y[1])).mapValues(lambda x: x[0]/x[1])\n",
    "u_Bias = temp2.collectAsMap()\n",
    "\n",
    "train_clean_data = train_clean_data.map(lambda x: (x[0], x[1], x[2] - i_Bias.get(x[1],0) - u_Bias.get(x[0],0)))\n",
    "train_clean_data.take(5)\n",
    "\n",
    "#matrix interactions without global effect creation\n",
    "users = train_clean_data.map(lambda x: x[0]).collect()\n",
    "items = train_clean_data.map(lambda x: x[1]).collect()\n",
    "ratings = train_clean_data.map(lambda x: x[2]).collect()\n",
    "UxI_global1= sm.csr_matrix((ratings, (users, items)))\n",
    "\n",
    "#matrix icm creations\n",
    "items_for_features= icm_clean_data.map(lambda x:x[0]).collect()\n",
    "features = icm_clean_data.map(lambda x:x[1]).collect()\n",
    "items_for_features.append(37142)\n",
    "features.append(0)\n",
    "ones=[1]*len(items_for_features)\n",
    "IxF= sm.csr_matrix((ones, (items_for_features, features)))"
   ]
  },
  {
   "cell_type": "code",
   "execution_count": 3,
   "metadata": {},
   "outputs": [],
   "source": [
    "n_users,n_items=UxI_basic.shape\n",
    "n_features=IxF.shape[1]"
   ]
  },
  {
   "cell_type": "code",
   "execution_count": null,
   "metadata": {
    "collapsed": true
   },
   "outputs": [],
   "source": []
  },
  {
   "cell_type": "code",
   "execution_count": null,
   "metadata": {},
   "outputs": [],
   "source": [
    "'''SVD'''\n",
    "K = 870\n",
    "%time U, S, Vt = sparsesvd(UxI_basic.tocsc(), K)\n"
   ]
  },
  {
   "cell_type": "code",
   "execution_count": null,
   "metadata": {
    "collapsed": true
   },
   "outputs": [],
   "source": [
    "S=np.sqrt(S.data)\n",
    "S=np.diag(S)"
   ]
  },
  {
   "cell_type": "code",
   "execution_count": null,
   "metadata": {},
   "outputs": [],
   "source": [
    "#calc predictions\n",
    "%time UxI_pred_SVD=sm.csr_matrix(U.T.dot(S).dot(Vt))"
   ]
  },
  {
   "cell_type": "code",
   "execution_count": 4,
   "metadata": {},
   "outputs": [
    {
     "data": {
      "application/vnd.jupyter.widget-view+json": {
       "model_id": "07724c938a8d4fce8cc59d51a2de521a"
      }
     },
     "metadata": {},
     "output_type": "display_data"
    },
    {
     "name": "stdout",
     "output_type": "stream",
     "text": [
      "\n",
      "CPU times: user 4 ms, sys: 0 ns, total: 4 ms\n",
      "Wall time: 2.33 ms\n",
      "CPU times: user 8 ms, sys: 0 ns, total: 8 ms\n",
      "Wall time: 5.12 ms\n",
      "CPU times: user 56 ms, sys: 0 ns, total: 56 ms\n",
      "Wall time: 58.1 ms\n"
     ]
    },
    {
     "name": "stderr",
     "output_type": "stream",
     "text": [
      "/home/ubuntu/anaconda3/lib/python3.6/site-packages/sklearn/utils/validation.py:429: DataConversionWarning: Data with input dtype int64 was converted to float64 by the normalize function.\n",
      "  warnings.warn(msg, _DataConversionWarning)\n"
     ]
    },
    {
     "name": "stdout",
     "output_type": "stream",
     "text": [
      "CPU times: user 8.17 s, sys: 1.04 s, total: 9.21 s\n",
      "Wall time: 9.21 s\n"
     ]
    }
   ],
   "source": [
    "'''content based'''\n",
    "IDF=[0]*n_features\n",
    "for i in tqdm(range(n_features)):\n",
    "    IDF[i]=np.log10(n_items/len(IxF.getcol(i).nonzero()[1]))\n",
    "%time IxF=normalize(IxF,axis=1)\n",
    "%time IxF_idf=IxF.multiply(IDF)\n",
    "%time UxF=UxI_global1.dot(IxF_idf)\n",
    "%time UxI_pred_CB=UxF.dot(IxF.T)"
   ]
  },
  {
   "cell_type": "code",
   "execution_count": null,
   "metadata": {},
   "outputs": [],
   "source": [
    "del IxF"
   ]
  },
  {
   "cell_type": "code",
   "execution_count": null,
   "metadata": {},
   "outputs": [],
   "source": [
    "'''collaborative filtering item based via content'''\n",
    "#calc similarities\n",
    "%time IxI_sim=IxF_idf.dot(IxF_idf.T)\n",
    "IxI_sim.setdiag(0)"
   ]
  },
  {
   "cell_type": "code",
   "execution_count": null,
   "metadata": {},
   "outputs": [],
   "source": [
    "#take knn items\n",
    "IxI_sim_knn=sm.lil_matrix((n_items,n_items))\n",
    "k=200\n",
    "for i in tqdm(range(n_items)):    \n",
    "    top_k_idx =IxI_sim.getrow(i).toarray()[0].argpartition(-k)[-k:]\n",
    "    IxI_sim_knn[i,top_k_idx]=IxI_sim[i,top_k_idx]"
   ]
  },
  {
   "cell_type": "code",
   "execution_count": null,
   "metadata": {
    "collapsed": true
   },
   "outputs": [],
   "source": [
    "del IxI_sim "
   ]
  },
  {
   "cell_type": "code",
   "execution_count": null,
   "metadata": {},
   "outputs": [],
   "source": [
    "#calc predictions\n",
    "%time UxI_pred_CI=UxI_global1.dot(IxI_sim_knn.T)"
   ]
  },
  {
   "cell_type": "code",
   "execution_count": null,
   "metadata": {
    "collapsed": true
   },
   "outputs": [],
   "source": [
    "del IxI_sim_knn"
   ]
  },
  {
   "cell_type": "code",
   "execution_count": null,
   "metadata": {},
   "outputs": [],
   "source": [
    "'''collaborative filtering user based via content'''\n",
    "#calc similarities\n",
    "%time UxU_sim=UxF.dot(UxF.T) #numerators of cosine"
   ]
  },
  {
   "cell_type": "code",
   "execution_count": null,
   "metadata": {},
   "outputs": [],
   "source": [
    "%time cos=sm.csr_matrix(cosine_similarity(UxF)) #cosine\n",
    "cos.data=1/cos.data\n",
    "denominators=UxU_sim.multiply(cos) #get denominators of cosine\n",
    "del cos"
   ]
  },
  {
   "cell_type": "code",
   "execution_count": null,
   "metadata": {},
   "outputs": [],
   "source": [
    "denominators.data+=1 #add shrinkage to cosine denominator\n",
    "denominators.data=1/denominators.data\n",
    "%time UxU_sim=UxU_sim.multiply(denominators) #calc shrinked cosine\n",
    "del denominators"
   ]
  },
  {
   "cell_type": "code",
   "execution_count": null,
   "metadata": {},
   "outputs": [],
   "source": [
    "UxU_sim.setdiag(0)"
   ]
  },
  {
   "cell_type": "code",
   "execution_count": null,
   "metadata": {},
   "outputs": [],
   "source": [
    "#take knn users\n",
    "UxU_sim_knn=sm.lil_matrix((n_users,n_users))\n",
    "k=100\n",
    "for i in tqdm(range(n_users)):    \n",
    "    top_k_idx =UxU_sim.getrow(i).toarray()[0].argpartition(-k)[-k:]\n",
    "    UxU_sim_knn[i,top_k_idx]=UxU_sim[i,top_k_idx]  "
   ]
  },
  {
   "cell_type": "code",
   "execution_count": null,
   "metadata": {
    "collapsed": true
   },
   "outputs": [],
   "source": [
    "del UxU_sim"
   ]
  },
  {
   "cell_type": "code",
   "execution_count": null,
   "metadata": {},
   "outputs": [],
   "source": [
    "#calc_predictions\n",
    "%time UxI_pred_CU=UxU_sim_knn.dot(UxI_global1) #k=50->382"
   ]
  },
  {
   "cell_type": "code",
   "execution_count": null,
   "metadata": {
    "collapsed": true
   },
   "outputs": [],
   "source": [
    "del UxU_sim_knn\n",
    "del UxI\n",
    "del UxF\n",
    "del IxF_idf"
   ]
  },
  {
   "cell_type": "markdown",
   "metadata": {
    "collapsed": true
   },
   "source": [
    "'''asdadasdasdasdasdasdasdadasdasdasdadasdadasdasdadasdad'''\n",
    "''''''"
   ]
  },
  {
   "cell_type": "code",
   "execution_count": null,
   "metadata": {
    "collapsed": true
   },
   "outputs": [],
   "source": [
    "#create matrix for test users predictions\n",
    "UxI_pred_CB_test=sm.lil_matrix((n_users,n_items))\n",
    "UxI_pred_CI_test=sm.lil_matrix((n_users,n_items))\n",
    "UxI_pred_CU_test=sm.lil_matrix((n_users,n_items))\n",
    "UxI_pred_SVD_test=sm.lil_matrix((n_users,n_items))"
   ]
  },
  {
   "cell_type": "code",
   "execution_count": null,
   "metadata": {
    "collapsed": true
   },
   "outputs": [],
   "source": [
    "#take only test users predictions\n",
    "%time UxI_pred_CB_test[test_users,:]=UxI_pred_CB[test_users,:]\n",
    "%time UxI_pred_CI_test[test_users,:]=UxI_pred_CI[test_users,:]\n",
    "%time UxI_pred_CU_test[test_users,:]=UxI_pred_CU[test_users,:]\n",
    "%time UxI_pred_SVD_test[test_users,:]=UxI_pred_SVD[test_users,:]"
   ]
  },
  {
   "cell_type": "code",
   "execution_count": null,
   "metadata": {
    "collapsed": true
   },
   "outputs": [],
   "source": [
    "#remove items already voted\n",
    "for user in tqdm(test_users):\n",
    "    UxI_pred_CB_test[user,grouped_rates_dic[user]]=0\n",
    "    UxI_pred_CI_test[user,grouped_rates_dic[user]]=0\n",
    "    UxI_pred_CU_test[user,grouped_rates_dic[user]]=0\n",
    "    UxI_pred_SVD_test[user,grouped_rates_dic[user]]=0"
   ]
  },
  {
   "cell_type": "code",
   "execution_count": null,
   "metadata": {
    "collapsed": true
   },
   "outputs": [],
   "source": [
    "#convert to csr to improve future operations performances\n",
    "%time UxI_pred_CB_test=UxI_pred_CB_test.tocsr()\n",
    "%time UxI_pred_CI_test=UxI_pred_CI_test.tocsr()\n",
    "%time UxI_pred_CU_test=UxI_pred_CU_test.tocsr()\n",
    "%time UxI_pred_SVD_test=UxI_pred_SVD_test.tocsr()"
   ]
  },
  {
   "cell_type": "code",
   "execution_count": null,
   "metadata": {
    "collapsed": true
   },
   "outputs": [],
   "source": [
    "#rescale algoritms\n",
    "%time UxI_pred_CB_test/=UxI_pred_CB.max()\n",
    "%time UxI_pred_CI_test/=UxI_pred_CI.max()\n",
    "%time UxI_pred_CU_test/=UxI_pred_CU.max()\n",
    "%time UxI_pred_SVD_test/=UxI_pred_SVD.max()"
   ]
  },
  {
   "cell_type": "markdown",
   "metadata": {
    "collapsed": true
   },
   "source": [
    "Predictions of all algorithms computed, now have fun with hybrids!"
   ]
  },
  {
   "cell_type": "code",
   "execution_count": null,
   "metadata": {
    "collapsed": true
   },
   "outputs": [],
   "source": [
    "%time UxI_pred_1=UxI_pred_CB_test*0.80+UxI_pred_SVD_test*0.20"
   ]
  },
  {
   "cell_type": "code",
   "execution_count": null,
   "metadata": {
    "collapsed": true
   },
   "outputs": [],
   "source": [
    "%time UxI_pred_1/=UxI_pred_1.max()"
   ]
  },
  {
   "cell_type": "code",
   "execution_count": null,
   "metadata": {
    "collapsed": true
   },
   "outputs": [],
   "source": [
    "%time UxI_pred_2=UxI_pred_1*0.98+UxI_pred_CI_test*0.02"
   ]
  },
  {
   "cell_type": "code",
   "execution_count": null,
   "metadata": {
    "collapsed": true
   },
   "outputs": [],
   "source": [
    "%time UxI_pred_2/=UxI_pred_2.max()"
   ]
  },
  {
   "cell_type": "code",
   "execution_count": null,
   "metadata": {
    "collapsed": true
   },
   "outputs": [],
   "source": [
    "%time UxI_pred=UxI_pred_2*0.99+UxI_pred_CU_test*0.01"
   ]
  },
  {
   "cell_type": "code",
   "execution_count": null,
   "metadata": {
    "collapsed": true
   },
   "outputs": [],
   "source": [
    "%time UxI_pred/=UxI_pred.max()"
   ]
  },
  {
   "cell_type": "code",
   "execution_count": null,
   "metadata": {
    "collapsed": true
   },
   "outputs": [],
   "source": [
    "UxI_pred=UxI_pred_CI"
   ]
  },
  {
   "cell_type": "code",
   "execution_count": null,
   "metadata": {},
   "outputs": [],
   "source": [
    "#f = open('submission_wSUM_CI-CU-08-02.csv', 'wt')\n",
    "f = open('check.csv', 'wt')\n",
    "writer = csv.writer(f)\n",
    "writer.writerow(('userId','RecommendedItemIds'))\n",
    "\n",
    "for user in tqdm(test_users):\n",
    "    top=[]\n",
    "\n",
    "    user_predictions=user_predictions=(-UxI_pred.getrow(user).toarray()[0]).argsort()\n",
    "    i=0\n",
    "    while len(top)<=5:\n",
    "        prediction=user_predictions[i]\n",
    "        \n",
    "        if UxI_pred[user,prediction]==0.0:\n",
    "            j=0\n",
    "            while len(top)<=5:\n",
    "                prediction = item_ratings_mean[j]\n",
    "                while prediction in grouped_rates_dic[user] or prediction in top:\n",
    "                    j += 1\n",
    "                    prediction = item_ratings_mean[j]\n",
    "                top.append(prediction)\n",
    "                j += 1\n",
    "        \n",
    "        \n",
    "        \n",
    "        if prediction in grouped_rates_dic[user]:\n",
    "            i+=1\n",
    "            continue\n",
    "        \n",
    "        i+=1\n",
    "        top.append(prediction)\n",
    "        \n",
    "   \n",
    "    writer.writerow((user, '{0} {1} {2} {3} {4}'.format(top[0], top[1], top[2], top[3], top[4])))\n",
    "\n",
    "f.close()"
   ]
  },
  {
   "cell_type": "markdown",
   "metadata": {},
   "source": [
    "SOMMOZZI E BORDOZZO"
   ]
  },
  {
   "cell_type": "code",
   "execution_count": null,
   "metadata": {
    "collapsed": true
   },
   "outputs": [],
   "source": [
    "%time UxI_pred_1=UxI_pred_CB_test*0.80+UxI_pred_SVD_test*0.20"
   ]
  },
  {
   "cell_type": "code",
   "execution_count": null,
   "metadata": {
    "collapsed": true
   },
   "outputs": [],
   "source": [
    "%time UxI_pred_2=UxI_pred_CI_test*0.80+UxI_pred_SVD_test*0.20"
   ]
  },
  {
   "cell_type": "code",
   "execution_count": null,
   "metadata": {
    "collapsed": true
   },
   "outputs": [],
   "source": [
    "def bordaLikeAggr(rank1,rank2):    \n",
    "    result=[0]*n_items\n",
    "    rg=150\n",
    "    for i in range(rg):\n",
    "        item1=rank1.argmax()\n",
    "        item2=rank2.argmax()        \n",
    "        \n",
    "        if rank1[item1]>0.0:\n",
    "            result[item1]+=(0.7/(i+1))\n",
    "        rank1[item1]=-9\n",
    "\n",
    "        if rank2[item2]>0.0:\n",
    "            result[item2]+=(0.3/(i+1))\n",
    "        rank2[item2]=-9\n",
    "    \n",
    "    return sm.csr_matrix(result)"
   ]
  },
  {
   "cell_type": "code",
   "execution_count": null,
   "metadata": {
    "collapsed": true
   },
   "outputs": [],
   "source": [
    "f = open('submission_bordalile_sum-CB-SVD-80-20_CI-SVD-80-20_70-30.csv', 'wt')\n",
    "writer = csv.writer(f)\n",
    "writer.writerow(('userId','RecommendedItemIds'))\n",
    "for user in tqdm(test_users):\n",
    "    top=[0,0,0,0,0]\n",
    "\n",
    "    user_predictions=bordaLikeAggr(UxI_pred_1.getrow(user).toarray()[0],UxI_pred_2.getrow(user).toarray()[0])\n",
    "    iterator = 0\n",
    "    for i in range(5):\n",
    "        prediction = user_predictions.argmax()\n",
    "        while prediction in grouped_rates_dic[user] and prediction != 0:\n",
    "            user_predictions[0,prediction]=-9\n",
    "            prediction=user_predictions.argmax()\n",
    "        if prediction == 0:\n",
    "            prediction = item_ratings_mean[iterator]\n",
    "            while prediction in grouped_rates_dic[user] or prediction in top:\n",
    "                iterator += 1\n",
    "                prediction = item_ratings_mean[iterator]\n",
    "            iterator += 1\n",
    "        else:\n",
    "            user_predictions[0,prediction]=-9\n",
    "        top[i]=prediction    \n",
    "    writer.writerow((user, '{0} {1} {2} {3} {4}'.format(top[0], top[1], top[2], top[3], top[4])))\n",
    "\n",
    "f.close()"
   ]
  },
  {
   "cell_type": "code",
   "execution_count": null,
   "metadata": {
    "collapsed": true
   },
   "outputs": [],
   "source": [
    "UxI.min()"
   ]
  },
  {
   "cell_type": "code",
   "execution_count": null,
   "metadata": {
    "collapsed": true
   },
   "outputs": [],
   "source": []
  }
 ],
 "metadata": {
  "kernelspec": {
   "display_name": "Python 3",
   "language": "python",
   "name": "python3"
  },
  "language_info": {
   "codemirror_mode": {
    "name": "ipython",
    "version": 3
   },
   "file_extension": ".py",
   "mimetype": "text/x-python",
   "name": "python",
   "nbconvert_exporter": "python",
   "pygments_lexer": "ipython3",
   "version": "3.6.1"
  }
 },
 "nbformat": 4,
 "nbformat_minor": 2
}
